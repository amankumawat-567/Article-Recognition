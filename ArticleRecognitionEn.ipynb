{
  "cells": [
    {
      "cell_type": "code",
      "execution_count": 1,
      "metadata": {
        "id": "KXLA1pCq9ogK"
      },
      "outputs": [],
      "source": [
        "import numpy as np\n",
        "import pandas as pd"
      ]
    },
    {
      "cell_type": "markdown",
      "metadata": {
        "id": "tSuv2sItp5xm"
      },
      "source": [
        "# Loading DATABASE (Mapped Positions)"
      ]
    },
    {
      "cell_type": "code",
      "execution_count": 2,
      "metadata": {
        "colab": {
          "base_uri": "https://localhost:8080/"
        },
        "id": "b7Ojojw3-HJi",
        "outputId": "1433f741-50ba-4c96-aa0e-13e72c265a73"
      },
      "outputs": [
        {
          "output_type": "stream",
          "name": "stdout",
          "text": [
            "Mounted at /content/drive\n"
          ]
        }
      ],
      "source": [
        "from google.colab import drive\n",
        "drive.mount('/content/drive')"
      ]
    },
    {
      "cell_type": "code",
      "execution_count": 3,
      "metadata": {
        "id": "DqIIoQFx-W0i"
      },
      "outputs": [],
      "source": [
        "data = pd.read_excel('/content/drive/MyDrive/ArticleRecognition/Dataset/ArticleExtraction.xlsx', sheet_name='Mapped Positions')"
      ]
    },
    {
      "cell_type": "code",
      "execution_count": 4,
      "metadata": {
        "colab": {
          "base_uri": "https://localhost:8080/",
          "height": 394
        },
        "id": "3bDmDeYf-q6X",
        "outputId": "ddbdeebd-8047-4434-93a0-2667ed45cee2"
      },
      "outputs": [
        {
          "output_type": "execute_result",
          "data": {
            "text/plain": [
              "      ProjectLVId     OzNumber      PositionShortText PositionLongTextTitle  \\\n",
              "194           NaN          NaN                    NaN                   NaN   \n",
              "1306     344842.0   1.6.3.0010       Gasleitung DN 50                   NaN   \n",
              "2714     344612.0   1.4.5.0120  Schachtkonus h=600 mm           Long Text 1   \n",
              "963           NaN          NaN                    NaN                   NaN   \n",
              "1624     347472.0  1. 2.   3.A    Fassade Ost Achse N                   NaN   \n",
              "\n",
              "                                       PositionLongText  ProjectArticleId  \\\n",
              "194                                                 NaN             23139   \n",
              "1306                                                NaN             24975   \n",
              "2714  <div style=\"font-size:12pt;font-family:Arial;\"...             24907   \n",
              "963                                                 NaN              1717   \n",
              "1624                                                NaN             26012   \n",
              "\n",
              "      ProjectStadiumId  ArticleNumber       ArticleSortName  BasePrice  ...  \\\n",
              "194               9093    80-ASP-0090               ASPHALT      0.000  ...   \n",
              "1306              9971        1630010                   NaN    700.000  ...   \n",
              "2714              9970       21021060  SK  1000 / 625 / 600    427.650  ...   \n",
              "963               1103  K132201000600         styrodur 2500     37.202  ...   \n",
              "1624              9994             F2                   NaN      0.000  ...   \n",
              "\n",
              "      SequenceNumber Comment RegiePrice  \\\n",
              "194              NaN     NaN        NaN   \n",
              "1306             2.1     NaN        NaN   \n",
              "2714             2.1     NaN        NaN   \n",
              "963              NaN     NaN        NaN   \n",
              "1624             7.1     NaN        NaN   \n",
              "\n",
              "                                               LongText  \\\n",
              "194                                                 NaN   \n",
              "1306                                                NaN   \n",
              "2714  Schachtkonus 1000-620/ 600/120 Poly-Alu Steigb...   \n",
              "963                                                 NaN   \n",
              "1624                                                NaN   \n",
              "\n",
              "      Preprocessed_PositionShortText  \\\n",
              "194                              NaN   \n",
              "1306                gasleitung dn 50   \n",
              "2714            schachtkonus h600 mm   \n",
              "963                              NaN   \n",
              "1624             fassade ost achse n   \n",
              "\n",
              "                                  Preprocessed_LongText  \\\n",
              "194                                                 NaN   \n",
              "1306                                                NaN   \n",
              "2714  schachtkonus 1000 620 / 600 / 120 polyalu stei...   \n",
              "963                                                 NaN   \n",
              "1624                                                NaN   \n",
              "\n",
              "                                        MergedPositions  \\\n",
              "194                                                   ;   \n",
              "1306                                  gasleitung dn 50;   \n",
              "2714  schachtkonus h600 mm;schachtkonus 1000 620 / 6...   \n",
              "963                                                   ;   \n",
              "1624                               fassade ost achse n;   \n",
              "\n",
              "      Preprocessed_ArticleSortName      Preprocessed_ArticleDescription  \\\n",
              "194                        asphalt      tragschicht 0 / 16 c b 70 / 100   \n",
              "1306                           NaN                     gasleitung dn 50   \n",
              "2714           sk 1000 / 625 / 600                  sk 1000 / 625 / 600   \n",
              "963                  styrodur 2500  styrodur 2500c xps 035 60 mm 200kpa   \n",
              "1624                           NaN              fenster ostsade achse n   \n",
              "\n",
              "                                         MergedArticles  \n",
              "194             asphalt;tragschicht 0 / 16 c b 70 / 100  \n",
              "1306                                  ;gasleitung dn 50  \n",
              "2714            sk 1000 / 625 / 600;sk 1000 / 625 / 600  \n",
              "963   styrodur 2500;styrodur 2500c xps 035 60 mm 200kpa  \n",
              "1624                           ;fenster ostsade achse n  \n",
              "\n",
              "[5 rows x 25 columns]"
            ],
            "text/html": [
              "\n",
              "  <div id=\"df-8c3ef29d-226c-49ce-bdcf-a442022a706a\" class=\"colab-df-container\">\n",
              "    <div>\n",
              "<style scoped>\n",
              "    .dataframe tbody tr th:only-of-type {\n",
              "        vertical-align: middle;\n",
              "    }\n",
              "\n",
              "    .dataframe tbody tr th {\n",
              "        vertical-align: top;\n",
              "    }\n",
              "\n",
              "    .dataframe thead th {\n",
              "        text-align: right;\n",
              "    }\n",
              "</style>\n",
              "<table border=\"1\" class=\"dataframe\">\n",
              "  <thead>\n",
              "    <tr style=\"text-align: right;\">\n",
              "      <th></th>\n",
              "      <th>ProjectLVId</th>\n",
              "      <th>OzNumber</th>\n",
              "      <th>PositionShortText</th>\n",
              "      <th>PositionLongTextTitle</th>\n",
              "      <th>PositionLongText</th>\n",
              "      <th>ProjectArticleId</th>\n",
              "      <th>ProjectStadiumId</th>\n",
              "      <th>ArticleNumber</th>\n",
              "      <th>ArticleSortName</th>\n",
              "      <th>BasePrice</th>\n",
              "      <th>...</th>\n",
              "      <th>SequenceNumber</th>\n",
              "      <th>Comment</th>\n",
              "      <th>RegiePrice</th>\n",
              "      <th>LongText</th>\n",
              "      <th>Preprocessed_PositionShortText</th>\n",
              "      <th>Preprocessed_LongText</th>\n",
              "      <th>MergedPositions</th>\n",
              "      <th>Preprocessed_ArticleSortName</th>\n",
              "      <th>Preprocessed_ArticleDescription</th>\n",
              "      <th>MergedArticles</th>\n",
              "    </tr>\n",
              "  </thead>\n",
              "  <tbody>\n",
              "    <tr>\n",
              "      <th>194</th>\n",
              "      <td>NaN</td>\n",
              "      <td>NaN</td>\n",
              "      <td>NaN</td>\n",
              "      <td>NaN</td>\n",
              "      <td>NaN</td>\n",
              "      <td>23139</td>\n",
              "      <td>9093</td>\n",
              "      <td>80-ASP-0090</td>\n",
              "      <td>ASPHALT</td>\n",
              "      <td>0.000</td>\n",
              "      <td>...</td>\n",
              "      <td>NaN</td>\n",
              "      <td>NaN</td>\n",
              "      <td>NaN</td>\n",
              "      <td>NaN</td>\n",
              "      <td>NaN</td>\n",
              "      <td>NaN</td>\n",
              "      <td>;</td>\n",
              "      <td>asphalt</td>\n",
              "      <td>tragschicht 0 / 16 c b 70 / 100</td>\n",
              "      <td>asphalt;tragschicht 0 / 16 c b 70 / 100</td>\n",
              "    </tr>\n",
              "    <tr>\n",
              "      <th>1306</th>\n",
              "      <td>344842.0</td>\n",
              "      <td>1.6.3.0010</td>\n",
              "      <td>Gasleitung DN 50</td>\n",
              "      <td>NaN</td>\n",
              "      <td>NaN</td>\n",
              "      <td>24975</td>\n",
              "      <td>9971</td>\n",
              "      <td>1630010</td>\n",
              "      <td>NaN</td>\n",
              "      <td>700.000</td>\n",
              "      <td>...</td>\n",
              "      <td>2.1</td>\n",
              "      <td>NaN</td>\n",
              "      <td>NaN</td>\n",
              "      <td>NaN</td>\n",
              "      <td>gasleitung dn 50</td>\n",
              "      <td>NaN</td>\n",
              "      <td>gasleitung dn 50;</td>\n",
              "      <td>NaN</td>\n",
              "      <td>gasleitung dn 50</td>\n",
              "      <td>;gasleitung dn 50</td>\n",
              "    </tr>\n",
              "    <tr>\n",
              "      <th>2714</th>\n",
              "      <td>344612.0</td>\n",
              "      <td>1.4.5.0120</td>\n",
              "      <td>Schachtkonus h=600 mm</td>\n",
              "      <td>Long Text 1</td>\n",
              "      <td>&lt;div style=\"font-size:12pt;font-family:Arial;\"...</td>\n",
              "      <td>24907</td>\n",
              "      <td>9970</td>\n",
              "      <td>21021060</td>\n",
              "      <td>SK  1000 / 625 / 600</td>\n",
              "      <td>427.650</td>\n",
              "      <td>...</td>\n",
              "      <td>2.1</td>\n",
              "      <td>NaN</td>\n",
              "      <td>NaN</td>\n",
              "      <td>Schachtkonus 1000-620/ 600/120 Poly-Alu Steigb...</td>\n",
              "      <td>schachtkonus h600 mm</td>\n",
              "      <td>schachtkonus 1000 620 / 600 / 120 polyalu stei...</td>\n",
              "      <td>schachtkonus h600 mm;schachtkonus 1000 620 / 6...</td>\n",
              "      <td>sk 1000 / 625 / 600</td>\n",
              "      <td>sk 1000 / 625 / 600</td>\n",
              "      <td>sk 1000 / 625 / 600;sk 1000 / 625 / 600</td>\n",
              "    </tr>\n",
              "    <tr>\n",
              "      <th>963</th>\n",
              "      <td>NaN</td>\n",
              "      <td>NaN</td>\n",
              "      <td>NaN</td>\n",
              "      <td>NaN</td>\n",
              "      <td>NaN</td>\n",
              "      <td>1717</td>\n",
              "      <td>1103</td>\n",
              "      <td>K132201000600</td>\n",
              "      <td>styrodur 2500</td>\n",
              "      <td>37.202</td>\n",
              "      <td>...</td>\n",
              "      <td>NaN</td>\n",
              "      <td>NaN</td>\n",
              "      <td>NaN</td>\n",
              "      <td>NaN</td>\n",
              "      <td>NaN</td>\n",
              "      <td>NaN</td>\n",
              "      <td>;</td>\n",
              "      <td>styrodur 2500</td>\n",
              "      <td>styrodur 2500c xps 035 60 mm 200kpa</td>\n",
              "      <td>styrodur 2500;styrodur 2500c xps 035 60 mm 200kpa</td>\n",
              "    </tr>\n",
              "    <tr>\n",
              "      <th>1624</th>\n",
              "      <td>347472.0</td>\n",
              "      <td>1. 2.   3.A</td>\n",
              "      <td>Fassade Ost Achse N</td>\n",
              "      <td>NaN</td>\n",
              "      <td>NaN</td>\n",
              "      <td>26012</td>\n",
              "      <td>9994</td>\n",
              "      <td>F2</td>\n",
              "      <td>NaN</td>\n",
              "      <td>0.000</td>\n",
              "      <td>...</td>\n",
              "      <td>7.1</td>\n",
              "      <td>NaN</td>\n",
              "      <td>NaN</td>\n",
              "      <td>NaN</td>\n",
              "      <td>fassade ost achse n</td>\n",
              "      <td>NaN</td>\n",
              "      <td>fassade ost achse n;</td>\n",
              "      <td>NaN</td>\n",
              "      <td>fenster ostsade achse n</td>\n",
              "      <td>;fenster ostsade achse n</td>\n",
              "    </tr>\n",
              "  </tbody>\n",
              "</table>\n",
              "<p>5 rows × 25 columns</p>\n",
              "</div>\n",
              "    <div class=\"colab-df-buttons\">\n",
              "\n",
              "  <div class=\"colab-df-container\">\n",
              "    <button class=\"colab-df-convert\" onclick=\"convertToInteractive('df-8c3ef29d-226c-49ce-bdcf-a442022a706a')\"\n",
              "            title=\"Convert this dataframe to an interactive table.\"\n",
              "            style=\"display:none;\">\n",
              "\n",
              "  <svg xmlns=\"http://www.w3.org/2000/svg\" height=\"24px\" viewBox=\"0 -960 960 960\">\n",
              "    <path d=\"M120-120v-720h720v720H120Zm60-500h600v-160H180v160Zm220 220h160v-160H400v160Zm0 220h160v-160H400v160ZM180-400h160v-160H180v160Zm440 0h160v-160H620v160ZM180-180h160v-160H180v160Zm440 0h160v-160H620v160Z\"/>\n",
              "  </svg>\n",
              "    </button>\n",
              "\n",
              "  <style>\n",
              "    .colab-df-container {\n",
              "      display:flex;\n",
              "      gap: 12px;\n",
              "    }\n",
              "\n",
              "    .colab-df-convert {\n",
              "      background-color: #E8F0FE;\n",
              "      border: none;\n",
              "      border-radius: 50%;\n",
              "      cursor: pointer;\n",
              "      display: none;\n",
              "      fill: #1967D2;\n",
              "      height: 32px;\n",
              "      padding: 0 0 0 0;\n",
              "      width: 32px;\n",
              "    }\n",
              "\n",
              "    .colab-df-convert:hover {\n",
              "      background-color: #E2EBFA;\n",
              "      box-shadow: 0px 1px 2px rgba(60, 64, 67, 0.3), 0px 1px 3px 1px rgba(60, 64, 67, 0.15);\n",
              "      fill: #174EA6;\n",
              "    }\n",
              "\n",
              "    .colab-df-buttons div {\n",
              "      margin-bottom: 4px;\n",
              "    }\n",
              "\n",
              "    [theme=dark] .colab-df-convert {\n",
              "      background-color: #3B4455;\n",
              "      fill: #D2E3FC;\n",
              "    }\n",
              "\n",
              "    [theme=dark] .colab-df-convert:hover {\n",
              "      background-color: #434B5C;\n",
              "      box-shadow: 0px 1px 3px 1px rgba(0, 0, 0, 0.15);\n",
              "      filter: drop-shadow(0px 1px 2px rgba(0, 0, 0, 0.3));\n",
              "      fill: #FFFFFF;\n",
              "    }\n",
              "  </style>\n",
              "\n",
              "    <script>\n",
              "      const buttonEl =\n",
              "        document.querySelector('#df-8c3ef29d-226c-49ce-bdcf-a442022a706a button.colab-df-convert');\n",
              "      buttonEl.style.display =\n",
              "        google.colab.kernel.accessAllowed ? 'block' : 'none';\n",
              "\n",
              "      async function convertToInteractive(key) {\n",
              "        const element = document.querySelector('#df-8c3ef29d-226c-49ce-bdcf-a442022a706a');\n",
              "        const dataTable =\n",
              "          await google.colab.kernel.invokeFunction('convertToInteractive',\n",
              "                                                    [key], {});\n",
              "        if (!dataTable) return;\n",
              "\n",
              "        const docLinkHtml = 'Like what you see? Visit the ' +\n",
              "          '<a target=\"_blank\" href=https://colab.research.google.com/notebooks/data_table.ipynb>data table notebook</a>'\n",
              "          + ' to learn more about interactive tables.';\n",
              "        element.innerHTML = '';\n",
              "        dataTable['output_type'] = 'display_data';\n",
              "        await google.colab.output.renderOutput(dataTable, element);\n",
              "        const docLink = document.createElement('div');\n",
              "        docLink.innerHTML = docLinkHtml;\n",
              "        element.appendChild(docLink);\n",
              "      }\n",
              "    </script>\n",
              "  </div>\n",
              "\n",
              "\n",
              "<div id=\"df-0c298066-9d08-4738-8b29-30f343a1229b\">\n",
              "  <button class=\"colab-df-quickchart\" onclick=\"quickchart('df-0c298066-9d08-4738-8b29-30f343a1229b')\"\n",
              "            title=\"Suggest charts\"\n",
              "            style=\"display:none;\">\n",
              "\n",
              "<svg xmlns=\"http://www.w3.org/2000/svg\" height=\"24px\"viewBox=\"0 0 24 24\"\n",
              "     width=\"24px\">\n",
              "    <g>\n",
              "        <path d=\"M19 3H5c-1.1 0-2 .9-2 2v14c0 1.1.9 2 2 2h14c1.1 0 2-.9 2-2V5c0-1.1-.9-2-2-2zM9 17H7v-7h2v7zm4 0h-2V7h2v10zm4 0h-2v-4h2v4z\"/>\n",
              "    </g>\n",
              "</svg>\n",
              "  </button>\n",
              "\n",
              "<style>\n",
              "  .colab-df-quickchart {\n",
              "      --bg-color: #E8F0FE;\n",
              "      --fill-color: #1967D2;\n",
              "      --hover-bg-color: #E2EBFA;\n",
              "      --hover-fill-color: #174EA6;\n",
              "      --disabled-fill-color: #AAA;\n",
              "      --disabled-bg-color: #DDD;\n",
              "  }\n",
              "\n",
              "  [theme=dark] .colab-df-quickchart {\n",
              "      --bg-color: #3B4455;\n",
              "      --fill-color: #D2E3FC;\n",
              "      --hover-bg-color: #434B5C;\n",
              "      --hover-fill-color: #FFFFFF;\n",
              "      --disabled-bg-color: #3B4455;\n",
              "      --disabled-fill-color: #666;\n",
              "  }\n",
              "\n",
              "  .colab-df-quickchart {\n",
              "    background-color: var(--bg-color);\n",
              "    border: none;\n",
              "    border-radius: 50%;\n",
              "    cursor: pointer;\n",
              "    display: none;\n",
              "    fill: var(--fill-color);\n",
              "    height: 32px;\n",
              "    padding: 0;\n",
              "    width: 32px;\n",
              "  }\n",
              "\n",
              "  .colab-df-quickchart:hover {\n",
              "    background-color: var(--hover-bg-color);\n",
              "    box-shadow: 0 1px 2px rgba(60, 64, 67, 0.3), 0 1px 3px 1px rgba(60, 64, 67, 0.15);\n",
              "    fill: var(--button-hover-fill-color);\n",
              "  }\n",
              "\n",
              "  .colab-df-quickchart-complete:disabled,\n",
              "  .colab-df-quickchart-complete:disabled:hover {\n",
              "    background-color: var(--disabled-bg-color);\n",
              "    fill: var(--disabled-fill-color);\n",
              "    box-shadow: none;\n",
              "  }\n",
              "\n",
              "  .colab-df-spinner {\n",
              "    border: 2px solid var(--fill-color);\n",
              "    border-color: transparent;\n",
              "    border-bottom-color: var(--fill-color);\n",
              "    animation:\n",
              "      spin 1s steps(1) infinite;\n",
              "  }\n",
              "\n",
              "  @keyframes spin {\n",
              "    0% {\n",
              "      border-color: transparent;\n",
              "      border-bottom-color: var(--fill-color);\n",
              "      border-left-color: var(--fill-color);\n",
              "    }\n",
              "    20% {\n",
              "      border-color: transparent;\n",
              "      border-left-color: var(--fill-color);\n",
              "      border-top-color: var(--fill-color);\n",
              "    }\n",
              "    30% {\n",
              "      border-color: transparent;\n",
              "      border-left-color: var(--fill-color);\n",
              "      border-top-color: var(--fill-color);\n",
              "      border-right-color: var(--fill-color);\n",
              "    }\n",
              "    40% {\n",
              "      border-color: transparent;\n",
              "      border-right-color: var(--fill-color);\n",
              "      border-top-color: var(--fill-color);\n",
              "    }\n",
              "    60% {\n",
              "      border-color: transparent;\n",
              "      border-right-color: var(--fill-color);\n",
              "    }\n",
              "    80% {\n",
              "      border-color: transparent;\n",
              "      border-right-color: var(--fill-color);\n",
              "      border-bottom-color: var(--fill-color);\n",
              "    }\n",
              "    90% {\n",
              "      border-color: transparent;\n",
              "      border-bottom-color: var(--fill-color);\n",
              "    }\n",
              "  }\n",
              "</style>\n",
              "\n",
              "  <script>\n",
              "    async function quickchart(key) {\n",
              "      const quickchartButtonEl =\n",
              "        document.querySelector('#' + key + ' button');\n",
              "      quickchartButtonEl.disabled = true;  // To prevent multiple clicks.\n",
              "      quickchartButtonEl.classList.add('colab-df-spinner');\n",
              "      try {\n",
              "        const charts = await google.colab.kernel.invokeFunction(\n",
              "            'suggestCharts', [key], {});\n",
              "      } catch (error) {\n",
              "        console.error('Error during call to suggestCharts:', error);\n",
              "      }\n",
              "      quickchartButtonEl.classList.remove('colab-df-spinner');\n",
              "      quickchartButtonEl.classList.add('colab-df-quickchart-complete');\n",
              "    }\n",
              "    (() => {\n",
              "      let quickchartButtonEl =\n",
              "        document.querySelector('#df-0c298066-9d08-4738-8b29-30f343a1229b button');\n",
              "      quickchartButtonEl.style.display =\n",
              "        google.colab.kernel.accessAllowed ? 'block' : 'none';\n",
              "    })();\n",
              "  </script>\n",
              "</div>\n",
              "\n",
              "    </div>\n",
              "  </div>\n"
            ],
            "application/vnd.google.colaboratory.intrinsic+json": {
              "type": "dataframe"
            }
          },
          "metadata": {},
          "execution_count": 4
        }
      ],
      "source": [
        "data.sample(5)\n"
      ]
    },
    {
      "cell_type": "code",
      "execution_count": 5,
      "metadata": {
        "id": "kBXcDJsiDbCJ"
      },
      "outputs": [],
      "source": [
        "df = data.copy()"
      ]
    },
    {
      "cell_type": "code",
      "execution_count": 6,
      "metadata": {
        "colab": {
          "base_uri": "https://localhost:8080/",
          "height": 790
        },
        "id": "SVGjXUjWDgjP",
        "outputId": "1aea2d89-e489-4115-940d-9e0feaf56e69"
      },
      "outputs": [
        {
          "output_type": "execute_result",
          "data": {
            "text/plain": [
              "      ProjectLVId         OzNumber  \\\n",
              "0         35340.0  53.38.05.033110   \n",
              "1         35341.0  53.38.05.033120   \n",
              "2         35342.0  53.38.05.033130   \n",
              "3         35343.0  53.38.05.033140   \n",
              "4         35344.0  53.38.05.033150   \n",
              "...           ...              ...   \n",
              "3089     344554.0       1.1.1.0010   \n",
              "3090     344748.0       1.4.3.0010   \n",
              "3091     344748.0       1.4.3.0010   \n",
              "3092     344723.0       1.1.1.0010   \n",
              "3093     344723.0       1.1.1.0010   \n",
              "\n",
              "                                      PositionShortText PositionLongTextTitle  \\\n",
              "0          Zulage Schweißung flache Ecke, PVC-P, SFD 24           Long Text 1   \n",
              "1      Zulage Schweißung senkrechte Ecke, PVC-P, SFD 24           Long Text 1   \n",
              "2      Zulage Schweißung flaches T-Stück, PVC-P, SFD 24           Long Text 1   \n",
              "3     Zulage Schweißung senkrechtes T-Stück, PVC-P, ...           Long Text 1   \n",
              "4      Zulage Schweißung flache Kreuzung, PVC-P, SFD 24           Long Text 1   \n",
              "...                                                 ...                   ...   \n",
              "3089                              Baustelleneinrichtung           Long Text 1   \n",
              "3090                   Verbau (Box/Gleitschienenverbau)           Long Text 1   \n",
              "3091                   Verbau (Box/Gleitschienenverbau)           Long Text 1   \n",
              "3092                              Baustelleneinrichtung           Long Text 1   \n",
              "3093                              Baustelleneinrichtung           Long Text 1   \n",
              "\n",
              "                                       PositionLongText  ProjectArticleId  \\\n",
              "0     <div style=\"font-size:12pt;font-family:Arial;\"...              1742   \n",
              "1     <div style=\"font-size:12pt;font-family:Arial;\"...              1743   \n",
              "2     <div style=\"font-size:12pt;font-family:Arial;\"...              1744   \n",
              "3     <div style=\"font-size:12pt;font-family:Arial;\"...              1745   \n",
              "4     <div style=\"font-size:12pt;font-family:Arial;\"...              1746   \n",
              "...                                                 ...               ...   \n",
              "3089  <div style=\"font-size:12pt;font-family:Arial;\"...             24972   \n",
              "3090  <div style=\"font-size:12pt;font-family:Arial;\"...             25047   \n",
              "3091  <div style=\"font-size:12pt;font-family:Arial;\"...             25047   \n",
              "3092  <div style=\"font-size:12pt;font-family:Arial;\"...             25054   \n",
              "3093  <div style=\"font-size:12pt;font-family:Arial;\"...             25054   \n",
              "\n",
              "      ProjectStadiumId  ArticleNumber      ArticleSortName  BasePrice  ...  \\\n",
              "0                 1103  K141011032000            fugenband       14.3  ...   \n",
              "1                 1103  K141011032100            fugenband       22.9  ...   \n",
              "2                 1103  K141011032200            fugenband       14.7  ...   \n",
              "3                 1103  K141011032300            fugenband       26.0  ...   \n",
              "4                 1103  K141011032400            fugenband       27.1  ...   \n",
              "...                ...            ...                  ...        ...  ...   \n",
              "3089              9970             MK                  NaN      100.0  ...   \n",
              "3090              9971           3303  Verbau  Graben  bis     1400.0  ...   \n",
              "3091              9971           3303  Verbau  Graben  bis     1400.0  ...   \n",
              "3092              9971             BC                  NaN      300.0  ...   \n",
              "3093              9971             BC                  NaN      300.0  ...   \n",
              "\n",
              "      SequenceNumber Comment RegiePrice  \\\n",
              "0                1.1     NaN        NaN   \n",
              "1                1.1     NaN        NaN   \n",
              "2                1.1     NaN        NaN   \n",
              "3                1.1     NaN        NaN   \n",
              "4                1.1     NaN        NaN   \n",
              "...              ...     ...        ...   \n",
              "3089             4.3     NaN        NaN   \n",
              "3090             4.1     NaN        NaN   \n",
              "3091             2.1     NaN        NaN   \n",
              "3092             8.1     NaN        NaN   \n",
              "3093             4.1     NaN        NaN   \n",
              "\n",
              "                                               LongText  \\\n",
              "0     Zulage für die Schweißung einer flachen Ecke e...   \n",
              "1     Zulage für die Schweißung einer senkrechten Ec...   \n",
              "2     Zulage für die Schweißung eines flachen T-Stüc...   \n",
              "3     Zulage für die Schweißung eines senkrechten T-...   \n",
              "4     Zulage für die Schweißung einer flachen Kreuzu...   \n",
              "...                                                 ...   \n",
              "3089  Einrichten, Unterhalten, Abbauen der Baustelle...   \n",
              "3090  Großflächenverbau (Box/Gleitschienenverbau) li...   \n",
              "3091  Großflächenverbau (Box/Gleitschienenverbau) li...   \n",
              "3092  Einrichten, Unterhalten, Abbauen der Baustelle...   \n",
              "3093  Einrichten, Unterhalten, Abbauen der Baustelle...   \n",
              "\n",
              "                        Preprocessed_PositionShortText  \\\n",
              "0            zulage schweißung flache ecke pvcp sfd 24   \n",
              "1        zulage schweißung senkrechte ecke pvcp sfd 24   \n",
              "2         zulage schweißung flaches tstück pvcp sfd 24   \n",
              "3     zulage schweißung senkrechtes tstück pvcp sfd 24   \n",
              "4        zulage schweißung flache kreuzung pvcp sfd 24   \n",
              "...                                                ...   \n",
              "3089                             baustelleneinrichtung   \n",
              "3090                 verbau box / gleitschienenverbau    \n",
              "3091                 verbau box / gleitschienenverbau    \n",
              "3092                             baustelleneinrichtung   \n",
              "3093                             baustelleneinrichtung   \n",
              "\n",
              "                                  Preprocessed_LongText  \\\n",
              "0     zulage schweißung flachen ecke innenliegenden ...   \n",
              "1     zulage schweißung senkrechten ecke innenliegen...   \n",
              "2     zulage schweißung flachen tstücks innenliegend...   \n",
              "3     zulage schweißung senkrechten tstücks innenlie...   \n",
              "4     zulage schweißung flachen kreuzung innenliegen...   \n",
              "...                                                 ...   \n",
              "3089  einrichten unterhalten abbauen baustelleneinri...   \n",
              "3090  großflächenverbau box / gleitschienenverbau li...   \n",
              "3091  großflächenverbau box / gleitschienenverbau li...   \n",
              "3092  einrichten unterhalten abbauen baustelleneinri...   \n",
              "3093  einrichten unterhalten abbauen baustelleneinri...   \n",
              "\n",
              "                                        MergedPositions  \\\n",
              "0     zulage schweißung flache ecke pvcp sfd 24;zula...   \n",
              "1     zulage schweißung senkrechte ecke pvcp sfd 24;...   \n",
              "2     zulage schweißung flaches tstück pvcp sfd 24;z...   \n",
              "3     zulage schweißung senkrechtes tstück pvcp sfd ...   \n",
              "4     zulage schweißung flache kreuzung pvcp sfd 24;...   \n",
              "...                                                 ...   \n",
              "3089  baustelleneinrichtung;einrichten unterhalten a...   \n",
              "3090  verbau box / gleitschienenverbau ;großflächenv...   \n",
              "3091  verbau box / gleitschienenverbau ;großflächenv...   \n",
              "3092  baustelleneinrichtung;einrichten unterhalten a...   \n",
              "3093  baustelleneinrichtung;einrichten unterhalten a...   \n",
              "\n",
              "      Preprocessed_ArticleSortName      Preprocessed_ArticleDescription  \\\n",
              "0                        fugenband   schweißung flache ecke pvcp sfd 24   \n",
              "1                        fugenband  schweißgsenkrechte ecke pvcp sfd 24   \n",
              "2                        fugenband   schweißgflaches tstück pvcp sfd 24   \n",
              "3                        fugenband     schweißgsenkr tstück pvcp sfd 24   \n",
              "4                        fugenband  schweißgflache kreuzung pvcp sfd 24   \n",
              "...                            ...                                  ...   \n",
              "3089                           NaN                    materialcontainer   \n",
              "3090                verbau graben               verbau graben 3 m tiefe   \n",
              "3091                verbau graben               verbau graben 3 m tiefe   \n",
              "3092                           NaN                         baucontainer   \n",
              "3093                           NaN                         baucontainer   \n",
              "\n",
              "                                     MergedArticles  \n",
              "0      fugenband;schweißung flache ecke pvcp sfd 24  \n",
              "1     fugenband;schweißgsenkrechte ecke pvcp sfd 24  \n",
              "2      fugenband;schweißgflaches tstück pvcp sfd 24  \n",
              "3        fugenband;schweißgsenkr tstück pvcp sfd 24  \n",
              "4     fugenband;schweißgflache kreuzung pvcp sfd 24  \n",
              "...                                             ...  \n",
              "3089                             ;materialcontainer  \n",
              "3090         verbau graben ;verbau graben 3 m tiefe  \n",
              "3091         verbau graben ;verbau graben 3 m tiefe  \n",
              "3092                                  ;baucontainer  \n",
              "3093                                  ;baucontainer  \n",
              "\n",
              "[3094 rows x 25 columns]"
            ],
            "text/html": [
              "\n",
              "  <div id=\"df-c05fde74-d3c3-4a96-b8e9-6f40dcc3d3f6\" class=\"colab-df-container\">\n",
              "    <div>\n",
              "<style scoped>\n",
              "    .dataframe tbody tr th:only-of-type {\n",
              "        vertical-align: middle;\n",
              "    }\n",
              "\n",
              "    .dataframe tbody tr th {\n",
              "        vertical-align: top;\n",
              "    }\n",
              "\n",
              "    .dataframe thead th {\n",
              "        text-align: right;\n",
              "    }\n",
              "</style>\n",
              "<table border=\"1\" class=\"dataframe\">\n",
              "  <thead>\n",
              "    <tr style=\"text-align: right;\">\n",
              "      <th></th>\n",
              "      <th>ProjectLVId</th>\n",
              "      <th>OzNumber</th>\n",
              "      <th>PositionShortText</th>\n",
              "      <th>PositionLongTextTitle</th>\n",
              "      <th>PositionLongText</th>\n",
              "      <th>ProjectArticleId</th>\n",
              "      <th>ProjectStadiumId</th>\n",
              "      <th>ArticleNumber</th>\n",
              "      <th>ArticleSortName</th>\n",
              "      <th>BasePrice</th>\n",
              "      <th>...</th>\n",
              "      <th>SequenceNumber</th>\n",
              "      <th>Comment</th>\n",
              "      <th>RegiePrice</th>\n",
              "      <th>LongText</th>\n",
              "      <th>Preprocessed_PositionShortText</th>\n",
              "      <th>Preprocessed_LongText</th>\n",
              "      <th>MergedPositions</th>\n",
              "      <th>Preprocessed_ArticleSortName</th>\n",
              "      <th>Preprocessed_ArticleDescription</th>\n",
              "      <th>MergedArticles</th>\n",
              "    </tr>\n",
              "  </thead>\n",
              "  <tbody>\n",
              "    <tr>\n",
              "      <th>0</th>\n",
              "      <td>35340.0</td>\n",
              "      <td>53.38.05.033110</td>\n",
              "      <td>Zulage Schweißung flache Ecke, PVC-P, SFD 24</td>\n",
              "      <td>Long Text 1</td>\n",
              "      <td>&lt;div style=\"font-size:12pt;font-family:Arial;\"...</td>\n",
              "      <td>1742</td>\n",
              "      <td>1103</td>\n",
              "      <td>K141011032000</td>\n",
              "      <td>fugenband</td>\n",
              "      <td>14.3</td>\n",
              "      <td>...</td>\n",
              "      <td>1.1</td>\n",
              "      <td>NaN</td>\n",
              "      <td>NaN</td>\n",
              "      <td>Zulage für die Schweißung einer flachen Ecke e...</td>\n",
              "      <td>zulage schweißung flache ecke pvcp sfd 24</td>\n",
              "      <td>zulage schweißung flachen ecke innenliegenden ...</td>\n",
              "      <td>zulage schweißung flache ecke pvcp sfd 24;zula...</td>\n",
              "      <td>fugenband</td>\n",
              "      <td>schweißung flache ecke pvcp sfd 24</td>\n",
              "      <td>fugenband;schweißung flache ecke pvcp sfd 24</td>\n",
              "    </tr>\n",
              "    <tr>\n",
              "      <th>1</th>\n",
              "      <td>35341.0</td>\n",
              "      <td>53.38.05.033120</td>\n",
              "      <td>Zulage Schweißung senkrechte Ecke, PVC-P, SFD 24</td>\n",
              "      <td>Long Text 1</td>\n",
              "      <td>&lt;div style=\"font-size:12pt;font-family:Arial;\"...</td>\n",
              "      <td>1743</td>\n",
              "      <td>1103</td>\n",
              "      <td>K141011032100</td>\n",
              "      <td>fugenband</td>\n",
              "      <td>22.9</td>\n",
              "      <td>...</td>\n",
              "      <td>1.1</td>\n",
              "      <td>NaN</td>\n",
              "      <td>NaN</td>\n",
              "      <td>Zulage für die Schweißung einer senkrechten Ec...</td>\n",
              "      <td>zulage schweißung senkrechte ecke pvcp sfd 24</td>\n",
              "      <td>zulage schweißung senkrechten ecke innenliegen...</td>\n",
              "      <td>zulage schweißung senkrechte ecke pvcp sfd 24;...</td>\n",
              "      <td>fugenband</td>\n",
              "      <td>schweißgsenkrechte ecke pvcp sfd 24</td>\n",
              "      <td>fugenband;schweißgsenkrechte ecke pvcp sfd 24</td>\n",
              "    </tr>\n",
              "    <tr>\n",
              "      <th>2</th>\n",
              "      <td>35342.0</td>\n",
              "      <td>53.38.05.033130</td>\n",
              "      <td>Zulage Schweißung flaches T-Stück, PVC-P, SFD 24</td>\n",
              "      <td>Long Text 1</td>\n",
              "      <td>&lt;div style=\"font-size:12pt;font-family:Arial;\"...</td>\n",
              "      <td>1744</td>\n",
              "      <td>1103</td>\n",
              "      <td>K141011032200</td>\n",
              "      <td>fugenband</td>\n",
              "      <td>14.7</td>\n",
              "      <td>...</td>\n",
              "      <td>1.1</td>\n",
              "      <td>NaN</td>\n",
              "      <td>NaN</td>\n",
              "      <td>Zulage für die Schweißung eines flachen T-Stüc...</td>\n",
              "      <td>zulage schweißung flaches tstück pvcp sfd 24</td>\n",
              "      <td>zulage schweißung flachen tstücks innenliegend...</td>\n",
              "      <td>zulage schweißung flaches tstück pvcp sfd 24;z...</td>\n",
              "      <td>fugenband</td>\n",
              "      <td>schweißgflaches tstück pvcp sfd 24</td>\n",
              "      <td>fugenband;schweißgflaches tstück pvcp sfd 24</td>\n",
              "    </tr>\n",
              "    <tr>\n",
              "      <th>3</th>\n",
              "      <td>35343.0</td>\n",
              "      <td>53.38.05.033140</td>\n",
              "      <td>Zulage Schweißung senkrechtes T-Stück, PVC-P, ...</td>\n",
              "      <td>Long Text 1</td>\n",
              "      <td>&lt;div style=\"font-size:12pt;font-family:Arial;\"...</td>\n",
              "      <td>1745</td>\n",
              "      <td>1103</td>\n",
              "      <td>K141011032300</td>\n",
              "      <td>fugenband</td>\n",
              "      <td>26.0</td>\n",
              "      <td>...</td>\n",
              "      <td>1.1</td>\n",
              "      <td>NaN</td>\n",
              "      <td>NaN</td>\n",
              "      <td>Zulage für die Schweißung eines senkrechten T-...</td>\n",
              "      <td>zulage schweißung senkrechtes tstück pvcp sfd 24</td>\n",
              "      <td>zulage schweißung senkrechten tstücks innenlie...</td>\n",
              "      <td>zulage schweißung senkrechtes tstück pvcp sfd ...</td>\n",
              "      <td>fugenband</td>\n",
              "      <td>schweißgsenkr tstück pvcp sfd 24</td>\n",
              "      <td>fugenband;schweißgsenkr tstück pvcp sfd 24</td>\n",
              "    </tr>\n",
              "    <tr>\n",
              "      <th>4</th>\n",
              "      <td>35344.0</td>\n",
              "      <td>53.38.05.033150</td>\n",
              "      <td>Zulage Schweißung flache Kreuzung, PVC-P, SFD 24</td>\n",
              "      <td>Long Text 1</td>\n",
              "      <td>&lt;div style=\"font-size:12pt;font-family:Arial;\"...</td>\n",
              "      <td>1746</td>\n",
              "      <td>1103</td>\n",
              "      <td>K141011032400</td>\n",
              "      <td>fugenband</td>\n",
              "      <td>27.1</td>\n",
              "      <td>...</td>\n",
              "      <td>1.1</td>\n",
              "      <td>NaN</td>\n",
              "      <td>NaN</td>\n",
              "      <td>Zulage für die Schweißung einer flachen Kreuzu...</td>\n",
              "      <td>zulage schweißung flache kreuzung pvcp sfd 24</td>\n",
              "      <td>zulage schweißung flachen kreuzung innenliegen...</td>\n",
              "      <td>zulage schweißung flache kreuzung pvcp sfd 24;...</td>\n",
              "      <td>fugenband</td>\n",
              "      <td>schweißgflache kreuzung pvcp sfd 24</td>\n",
              "      <td>fugenband;schweißgflache kreuzung pvcp sfd 24</td>\n",
              "    </tr>\n",
              "    <tr>\n",
              "      <th>...</th>\n",
              "      <td>...</td>\n",
              "      <td>...</td>\n",
              "      <td>...</td>\n",
              "      <td>...</td>\n",
              "      <td>...</td>\n",
              "      <td>...</td>\n",
              "      <td>...</td>\n",
              "      <td>...</td>\n",
              "      <td>...</td>\n",
              "      <td>...</td>\n",
              "      <td>...</td>\n",
              "      <td>...</td>\n",
              "      <td>...</td>\n",
              "      <td>...</td>\n",
              "      <td>...</td>\n",
              "      <td>...</td>\n",
              "      <td>...</td>\n",
              "      <td>...</td>\n",
              "      <td>...</td>\n",
              "      <td>...</td>\n",
              "      <td>...</td>\n",
              "    </tr>\n",
              "    <tr>\n",
              "      <th>3089</th>\n",
              "      <td>344554.0</td>\n",
              "      <td>1.1.1.0010</td>\n",
              "      <td>Baustelleneinrichtung</td>\n",
              "      <td>Long Text 1</td>\n",
              "      <td>&lt;div style=\"font-size:12pt;font-family:Arial;\"...</td>\n",
              "      <td>24972</td>\n",
              "      <td>9970</td>\n",
              "      <td>MK</td>\n",
              "      <td>NaN</td>\n",
              "      <td>100.0</td>\n",
              "      <td>...</td>\n",
              "      <td>4.3</td>\n",
              "      <td>NaN</td>\n",
              "      <td>NaN</td>\n",
              "      <td>Einrichten, Unterhalten, Abbauen der Baustelle...</td>\n",
              "      <td>baustelleneinrichtung</td>\n",
              "      <td>einrichten unterhalten abbauen baustelleneinri...</td>\n",
              "      <td>baustelleneinrichtung;einrichten unterhalten a...</td>\n",
              "      <td>NaN</td>\n",
              "      <td>materialcontainer</td>\n",
              "      <td>;materialcontainer</td>\n",
              "    </tr>\n",
              "    <tr>\n",
              "      <th>3090</th>\n",
              "      <td>344748.0</td>\n",
              "      <td>1.4.3.0010</td>\n",
              "      <td>Verbau (Box/Gleitschienenverbau)</td>\n",
              "      <td>Long Text 1</td>\n",
              "      <td>&lt;div style=\"font-size:12pt;font-family:Arial;\"...</td>\n",
              "      <td>25047</td>\n",
              "      <td>9971</td>\n",
              "      <td>3303</td>\n",
              "      <td>Verbau  Graben  bis</td>\n",
              "      <td>1400.0</td>\n",
              "      <td>...</td>\n",
              "      <td>4.1</td>\n",
              "      <td>NaN</td>\n",
              "      <td>NaN</td>\n",
              "      <td>Großflächenverbau (Box/Gleitschienenverbau) li...</td>\n",
              "      <td>verbau box / gleitschienenverbau</td>\n",
              "      <td>großflächenverbau box / gleitschienenverbau li...</td>\n",
              "      <td>verbau box / gleitschienenverbau ;großflächenv...</td>\n",
              "      <td>verbau graben</td>\n",
              "      <td>verbau graben 3 m tiefe</td>\n",
              "      <td>verbau graben ;verbau graben 3 m tiefe</td>\n",
              "    </tr>\n",
              "    <tr>\n",
              "      <th>3091</th>\n",
              "      <td>344748.0</td>\n",
              "      <td>1.4.3.0010</td>\n",
              "      <td>Verbau (Box/Gleitschienenverbau)</td>\n",
              "      <td>Long Text 1</td>\n",
              "      <td>&lt;div style=\"font-size:12pt;font-family:Arial;\"...</td>\n",
              "      <td>25047</td>\n",
              "      <td>9971</td>\n",
              "      <td>3303</td>\n",
              "      <td>Verbau  Graben  bis</td>\n",
              "      <td>1400.0</td>\n",
              "      <td>...</td>\n",
              "      <td>2.1</td>\n",
              "      <td>NaN</td>\n",
              "      <td>NaN</td>\n",
              "      <td>Großflächenverbau (Box/Gleitschienenverbau) li...</td>\n",
              "      <td>verbau box / gleitschienenverbau</td>\n",
              "      <td>großflächenverbau box / gleitschienenverbau li...</td>\n",
              "      <td>verbau box / gleitschienenverbau ;großflächenv...</td>\n",
              "      <td>verbau graben</td>\n",
              "      <td>verbau graben 3 m tiefe</td>\n",
              "      <td>verbau graben ;verbau graben 3 m tiefe</td>\n",
              "    </tr>\n",
              "    <tr>\n",
              "      <th>3092</th>\n",
              "      <td>344723.0</td>\n",
              "      <td>1.1.1.0010</td>\n",
              "      <td>Baustelleneinrichtung</td>\n",
              "      <td>Long Text 1</td>\n",
              "      <td>&lt;div style=\"font-size:12pt;font-family:Arial;\"...</td>\n",
              "      <td>25054</td>\n",
              "      <td>9971</td>\n",
              "      <td>BC</td>\n",
              "      <td>NaN</td>\n",
              "      <td>300.0</td>\n",
              "      <td>...</td>\n",
              "      <td>8.1</td>\n",
              "      <td>NaN</td>\n",
              "      <td>NaN</td>\n",
              "      <td>Einrichten, Unterhalten, Abbauen der Baustelle...</td>\n",
              "      <td>baustelleneinrichtung</td>\n",
              "      <td>einrichten unterhalten abbauen baustelleneinri...</td>\n",
              "      <td>baustelleneinrichtung;einrichten unterhalten a...</td>\n",
              "      <td>NaN</td>\n",
              "      <td>baucontainer</td>\n",
              "      <td>;baucontainer</td>\n",
              "    </tr>\n",
              "    <tr>\n",
              "      <th>3093</th>\n",
              "      <td>344723.0</td>\n",
              "      <td>1.1.1.0010</td>\n",
              "      <td>Baustelleneinrichtung</td>\n",
              "      <td>Long Text 1</td>\n",
              "      <td>&lt;div style=\"font-size:12pt;font-family:Arial;\"...</td>\n",
              "      <td>25054</td>\n",
              "      <td>9971</td>\n",
              "      <td>BC</td>\n",
              "      <td>NaN</td>\n",
              "      <td>300.0</td>\n",
              "      <td>...</td>\n",
              "      <td>4.1</td>\n",
              "      <td>NaN</td>\n",
              "      <td>NaN</td>\n",
              "      <td>Einrichten, Unterhalten, Abbauen der Baustelle...</td>\n",
              "      <td>baustelleneinrichtung</td>\n",
              "      <td>einrichten unterhalten abbauen baustelleneinri...</td>\n",
              "      <td>baustelleneinrichtung;einrichten unterhalten a...</td>\n",
              "      <td>NaN</td>\n",
              "      <td>baucontainer</td>\n",
              "      <td>;baucontainer</td>\n",
              "    </tr>\n",
              "  </tbody>\n",
              "</table>\n",
              "<p>3094 rows × 25 columns</p>\n",
              "</div>\n",
              "    <div class=\"colab-df-buttons\">\n",
              "\n",
              "  <div class=\"colab-df-container\">\n",
              "    <button class=\"colab-df-convert\" onclick=\"convertToInteractive('df-c05fde74-d3c3-4a96-b8e9-6f40dcc3d3f6')\"\n",
              "            title=\"Convert this dataframe to an interactive table.\"\n",
              "            style=\"display:none;\">\n",
              "\n",
              "  <svg xmlns=\"http://www.w3.org/2000/svg\" height=\"24px\" viewBox=\"0 -960 960 960\">\n",
              "    <path d=\"M120-120v-720h720v720H120Zm60-500h600v-160H180v160Zm220 220h160v-160H400v160Zm0 220h160v-160H400v160ZM180-400h160v-160H180v160Zm440 0h160v-160H620v160ZM180-180h160v-160H180v160Zm440 0h160v-160H620v160Z\"/>\n",
              "  </svg>\n",
              "    </button>\n",
              "\n",
              "  <style>\n",
              "    .colab-df-container {\n",
              "      display:flex;\n",
              "      gap: 12px;\n",
              "    }\n",
              "\n",
              "    .colab-df-convert {\n",
              "      background-color: #E8F0FE;\n",
              "      border: none;\n",
              "      border-radius: 50%;\n",
              "      cursor: pointer;\n",
              "      display: none;\n",
              "      fill: #1967D2;\n",
              "      height: 32px;\n",
              "      padding: 0 0 0 0;\n",
              "      width: 32px;\n",
              "    }\n",
              "\n",
              "    .colab-df-convert:hover {\n",
              "      background-color: #E2EBFA;\n",
              "      box-shadow: 0px 1px 2px rgba(60, 64, 67, 0.3), 0px 1px 3px 1px rgba(60, 64, 67, 0.15);\n",
              "      fill: #174EA6;\n",
              "    }\n",
              "\n",
              "    .colab-df-buttons div {\n",
              "      margin-bottom: 4px;\n",
              "    }\n",
              "\n",
              "    [theme=dark] .colab-df-convert {\n",
              "      background-color: #3B4455;\n",
              "      fill: #D2E3FC;\n",
              "    }\n",
              "\n",
              "    [theme=dark] .colab-df-convert:hover {\n",
              "      background-color: #434B5C;\n",
              "      box-shadow: 0px 1px 3px 1px rgba(0, 0, 0, 0.15);\n",
              "      filter: drop-shadow(0px 1px 2px rgba(0, 0, 0, 0.3));\n",
              "      fill: #FFFFFF;\n",
              "    }\n",
              "  </style>\n",
              "\n",
              "    <script>\n",
              "      const buttonEl =\n",
              "        document.querySelector('#df-c05fde74-d3c3-4a96-b8e9-6f40dcc3d3f6 button.colab-df-convert');\n",
              "      buttonEl.style.display =\n",
              "        google.colab.kernel.accessAllowed ? 'block' : 'none';\n",
              "\n",
              "      async function convertToInteractive(key) {\n",
              "        const element = document.querySelector('#df-c05fde74-d3c3-4a96-b8e9-6f40dcc3d3f6');\n",
              "        const dataTable =\n",
              "          await google.colab.kernel.invokeFunction('convertToInteractive',\n",
              "                                                    [key], {});\n",
              "        if (!dataTable) return;\n",
              "\n",
              "        const docLinkHtml = 'Like what you see? Visit the ' +\n",
              "          '<a target=\"_blank\" href=https://colab.research.google.com/notebooks/data_table.ipynb>data table notebook</a>'\n",
              "          + ' to learn more about interactive tables.';\n",
              "        element.innerHTML = '';\n",
              "        dataTable['output_type'] = 'display_data';\n",
              "        await google.colab.output.renderOutput(dataTable, element);\n",
              "        const docLink = document.createElement('div');\n",
              "        docLink.innerHTML = docLinkHtml;\n",
              "        element.appendChild(docLink);\n",
              "      }\n",
              "    </script>\n",
              "  </div>\n",
              "\n",
              "\n",
              "<div id=\"df-19c4f85a-e2fb-428d-8c6b-da0b1d2427b7\">\n",
              "  <button class=\"colab-df-quickchart\" onclick=\"quickchart('df-19c4f85a-e2fb-428d-8c6b-da0b1d2427b7')\"\n",
              "            title=\"Suggest charts\"\n",
              "            style=\"display:none;\">\n",
              "\n",
              "<svg xmlns=\"http://www.w3.org/2000/svg\" height=\"24px\"viewBox=\"0 0 24 24\"\n",
              "     width=\"24px\">\n",
              "    <g>\n",
              "        <path d=\"M19 3H5c-1.1 0-2 .9-2 2v14c0 1.1.9 2 2 2h14c1.1 0 2-.9 2-2V5c0-1.1-.9-2-2-2zM9 17H7v-7h2v7zm4 0h-2V7h2v10zm4 0h-2v-4h2v4z\"/>\n",
              "    </g>\n",
              "</svg>\n",
              "  </button>\n",
              "\n",
              "<style>\n",
              "  .colab-df-quickchart {\n",
              "      --bg-color: #E8F0FE;\n",
              "      --fill-color: #1967D2;\n",
              "      --hover-bg-color: #E2EBFA;\n",
              "      --hover-fill-color: #174EA6;\n",
              "      --disabled-fill-color: #AAA;\n",
              "      --disabled-bg-color: #DDD;\n",
              "  }\n",
              "\n",
              "  [theme=dark] .colab-df-quickchart {\n",
              "      --bg-color: #3B4455;\n",
              "      --fill-color: #D2E3FC;\n",
              "      --hover-bg-color: #434B5C;\n",
              "      --hover-fill-color: #FFFFFF;\n",
              "      --disabled-bg-color: #3B4455;\n",
              "      --disabled-fill-color: #666;\n",
              "  }\n",
              "\n",
              "  .colab-df-quickchart {\n",
              "    background-color: var(--bg-color);\n",
              "    border: none;\n",
              "    border-radius: 50%;\n",
              "    cursor: pointer;\n",
              "    display: none;\n",
              "    fill: var(--fill-color);\n",
              "    height: 32px;\n",
              "    padding: 0;\n",
              "    width: 32px;\n",
              "  }\n",
              "\n",
              "  .colab-df-quickchart:hover {\n",
              "    background-color: var(--hover-bg-color);\n",
              "    box-shadow: 0 1px 2px rgba(60, 64, 67, 0.3), 0 1px 3px 1px rgba(60, 64, 67, 0.15);\n",
              "    fill: var(--button-hover-fill-color);\n",
              "  }\n",
              "\n",
              "  .colab-df-quickchart-complete:disabled,\n",
              "  .colab-df-quickchart-complete:disabled:hover {\n",
              "    background-color: var(--disabled-bg-color);\n",
              "    fill: var(--disabled-fill-color);\n",
              "    box-shadow: none;\n",
              "  }\n",
              "\n",
              "  .colab-df-spinner {\n",
              "    border: 2px solid var(--fill-color);\n",
              "    border-color: transparent;\n",
              "    border-bottom-color: var(--fill-color);\n",
              "    animation:\n",
              "      spin 1s steps(1) infinite;\n",
              "  }\n",
              "\n",
              "  @keyframes spin {\n",
              "    0% {\n",
              "      border-color: transparent;\n",
              "      border-bottom-color: var(--fill-color);\n",
              "      border-left-color: var(--fill-color);\n",
              "    }\n",
              "    20% {\n",
              "      border-color: transparent;\n",
              "      border-left-color: var(--fill-color);\n",
              "      border-top-color: var(--fill-color);\n",
              "    }\n",
              "    30% {\n",
              "      border-color: transparent;\n",
              "      border-left-color: var(--fill-color);\n",
              "      border-top-color: var(--fill-color);\n",
              "      border-right-color: var(--fill-color);\n",
              "    }\n",
              "    40% {\n",
              "      border-color: transparent;\n",
              "      border-right-color: var(--fill-color);\n",
              "      border-top-color: var(--fill-color);\n",
              "    }\n",
              "    60% {\n",
              "      border-color: transparent;\n",
              "      border-right-color: var(--fill-color);\n",
              "    }\n",
              "    80% {\n",
              "      border-color: transparent;\n",
              "      border-right-color: var(--fill-color);\n",
              "      border-bottom-color: var(--fill-color);\n",
              "    }\n",
              "    90% {\n",
              "      border-color: transparent;\n",
              "      border-bottom-color: var(--fill-color);\n",
              "    }\n",
              "  }\n",
              "</style>\n",
              "\n",
              "  <script>\n",
              "    async function quickchart(key) {\n",
              "      const quickchartButtonEl =\n",
              "        document.querySelector('#' + key + ' button');\n",
              "      quickchartButtonEl.disabled = true;  // To prevent multiple clicks.\n",
              "      quickchartButtonEl.classList.add('colab-df-spinner');\n",
              "      try {\n",
              "        const charts = await google.colab.kernel.invokeFunction(\n",
              "            'suggestCharts', [key], {});\n",
              "      } catch (error) {\n",
              "        console.error('Error during call to suggestCharts:', error);\n",
              "      }\n",
              "      quickchartButtonEl.classList.remove('colab-df-spinner');\n",
              "      quickchartButtonEl.classList.add('colab-df-quickchart-complete');\n",
              "    }\n",
              "    (() => {\n",
              "      let quickchartButtonEl =\n",
              "        document.querySelector('#df-19c4f85a-e2fb-428d-8c6b-da0b1d2427b7 button');\n",
              "      quickchartButtonEl.style.display =\n",
              "        google.colab.kernel.accessAllowed ? 'block' : 'none';\n",
              "    })();\n",
              "  </script>\n",
              "</div>\n",
              "\n",
              "  <div id=\"id_a8a13abb-75c0-480e-a190-13385bf8f5b7\">\n",
              "    <style>\n",
              "      .colab-df-generate {\n",
              "        background-color: #E8F0FE;\n",
              "        border: none;\n",
              "        border-radius: 50%;\n",
              "        cursor: pointer;\n",
              "        display: none;\n",
              "        fill: #1967D2;\n",
              "        height: 32px;\n",
              "        padding: 0 0 0 0;\n",
              "        width: 32px;\n",
              "      }\n",
              "\n",
              "      .colab-df-generate:hover {\n",
              "        background-color: #E2EBFA;\n",
              "        box-shadow: 0px 1px 2px rgba(60, 64, 67, 0.3), 0px 1px 3px 1px rgba(60, 64, 67, 0.15);\n",
              "        fill: #174EA6;\n",
              "      }\n",
              "\n",
              "      [theme=dark] .colab-df-generate {\n",
              "        background-color: #3B4455;\n",
              "        fill: #D2E3FC;\n",
              "      }\n",
              "\n",
              "      [theme=dark] .colab-df-generate:hover {\n",
              "        background-color: #434B5C;\n",
              "        box-shadow: 0px 1px 3px 1px rgba(0, 0, 0, 0.15);\n",
              "        filter: drop-shadow(0px 1px 2px rgba(0, 0, 0, 0.3));\n",
              "        fill: #FFFFFF;\n",
              "      }\n",
              "    </style>\n",
              "    <button class=\"colab-df-generate\" onclick=\"generateWithVariable('df')\"\n",
              "            title=\"Generate code using this dataframe.\"\n",
              "            style=\"display:none;\">\n",
              "\n",
              "  <svg xmlns=\"http://www.w3.org/2000/svg\" height=\"24px\"viewBox=\"0 0 24 24\"\n",
              "       width=\"24px\">\n",
              "    <path d=\"M7,19H8.4L18.45,9,17,7.55,7,17.6ZM5,21V16.75L18.45,3.32a2,2,0,0,1,2.83,0l1.4,1.43a1.91,1.91,0,0,1,.58,1.4,1.91,1.91,0,0,1-.58,1.4L9.25,21ZM18.45,9,17,7.55Zm-12,3A5.31,5.31,0,0,0,4.9,8.1,5.31,5.31,0,0,0,1,6.5,5.31,5.31,0,0,0,4.9,4.9,5.31,5.31,0,0,0,6.5,1,5.31,5.31,0,0,0,8.1,4.9,5.31,5.31,0,0,0,12,6.5,5.46,5.46,0,0,0,6.5,12Z\"/>\n",
              "  </svg>\n",
              "    </button>\n",
              "    <script>\n",
              "      (() => {\n",
              "      const buttonEl =\n",
              "        document.querySelector('#id_a8a13abb-75c0-480e-a190-13385bf8f5b7 button.colab-df-generate');\n",
              "      buttonEl.style.display =\n",
              "        google.colab.kernel.accessAllowed ? 'block' : 'none';\n",
              "\n",
              "      buttonEl.onclick = () => {\n",
              "        google.colab.notebook.generateWithVariable('df');\n",
              "      }\n",
              "      })();\n",
              "    </script>\n",
              "  </div>\n",
              "\n",
              "    </div>\n",
              "  </div>\n"
            ],
            "application/vnd.google.colaboratory.intrinsic+json": {
              "type": "dataframe",
              "variable_name": "df"
            }
          },
          "metadata": {},
          "execution_count": 6
        }
      ],
      "source": [
        "df"
      ]
    },
    {
      "cell_type": "markdown",
      "metadata": {
        "id": "5y9krLBJqGnQ"
      },
      "source": [
        "## Extracting Useful columns"
      ]
    },
    {
      "cell_type": "code",
      "execution_count": 7,
      "metadata": {
        "id": "H4K7iohPDzb0"
      },
      "outputs": [],
      "source": [
        "df = df[['PositionShortText','LongText','ArticleNumber','Quantity']]"
      ]
    },
    {
      "cell_type": "code",
      "execution_count": 8,
      "metadata": {
        "colab": {
          "base_uri": "https://localhost:8080/",
          "height": 293
        },
        "id": "TniJw6KpEhvC",
        "outputId": "9f93cc37-f817-4490-f692-f498ff5a8958"
      },
      "outputs": [
        {
          "output_type": "execute_result",
          "data": {
            "text/plain": [
              "                                   PositionShortText  \\\n",
              "0       Zulage Schweißung flache Ecke, PVC-P, SFD 24   \n",
              "1   Zulage Schweißung senkrechte Ecke, PVC-P, SFD 24   \n",
              "2   Zulage Schweißung flaches T-Stück, PVC-P, SFD 24   \n",
              "3  Zulage Schweißung senkrechtes T-Stück, PVC-P, ...   \n",
              "4   Zulage Schweißung flache Kreuzung, PVC-P, SFD 24   \n",
              "\n",
              "                                            LongText  ArticleNumber  Quantity  \n",
              "0  Zulage für die Schweißung einer flachen Ecke e...  K141011032000       1.0  \n",
              "1  Zulage für die Schweißung einer senkrechten Ec...  K141011032100       1.0  \n",
              "2  Zulage für die Schweißung eines flachen T-Stüc...  K141011032200       1.0  \n",
              "3  Zulage für die Schweißung eines senkrechten T-...  K141011032300       1.0  \n",
              "4  Zulage für die Schweißung einer flachen Kreuzu...  K141011032400       1.0  "
            ],
            "text/html": [
              "\n",
              "  <div id=\"df-c8ce5e54-8bcb-429e-8a4f-096abae69468\" class=\"colab-df-container\">\n",
              "    <div>\n",
              "<style scoped>\n",
              "    .dataframe tbody tr th:only-of-type {\n",
              "        vertical-align: middle;\n",
              "    }\n",
              "\n",
              "    .dataframe tbody tr th {\n",
              "        vertical-align: top;\n",
              "    }\n",
              "\n",
              "    .dataframe thead th {\n",
              "        text-align: right;\n",
              "    }\n",
              "</style>\n",
              "<table border=\"1\" class=\"dataframe\">\n",
              "  <thead>\n",
              "    <tr style=\"text-align: right;\">\n",
              "      <th></th>\n",
              "      <th>PositionShortText</th>\n",
              "      <th>LongText</th>\n",
              "      <th>ArticleNumber</th>\n",
              "      <th>Quantity</th>\n",
              "    </tr>\n",
              "  </thead>\n",
              "  <tbody>\n",
              "    <tr>\n",
              "      <th>0</th>\n",
              "      <td>Zulage Schweißung flache Ecke, PVC-P, SFD 24</td>\n",
              "      <td>Zulage für die Schweißung einer flachen Ecke e...</td>\n",
              "      <td>K141011032000</td>\n",
              "      <td>1.0</td>\n",
              "    </tr>\n",
              "    <tr>\n",
              "      <th>1</th>\n",
              "      <td>Zulage Schweißung senkrechte Ecke, PVC-P, SFD 24</td>\n",
              "      <td>Zulage für die Schweißung einer senkrechten Ec...</td>\n",
              "      <td>K141011032100</td>\n",
              "      <td>1.0</td>\n",
              "    </tr>\n",
              "    <tr>\n",
              "      <th>2</th>\n",
              "      <td>Zulage Schweißung flaches T-Stück, PVC-P, SFD 24</td>\n",
              "      <td>Zulage für die Schweißung eines flachen T-Stüc...</td>\n",
              "      <td>K141011032200</td>\n",
              "      <td>1.0</td>\n",
              "    </tr>\n",
              "    <tr>\n",
              "      <th>3</th>\n",
              "      <td>Zulage Schweißung senkrechtes T-Stück, PVC-P, ...</td>\n",
              "      <td>Zulage für die Schweißung eines senkrechten T-...</td>\n",
              "      <td>K141011032300</td>\n",
              "      <td>1.0</td>\n",
              "    </tr>\n",
              "    <tr>\n",
              "      <th>4</th>\n",
              "      <td>Zulage Schweißung flache Kreuzung, PVC-P, SFD 24</td>\n",
              "      <td>Zulage für die Schweißung einer flachen Kreuzu...</td>\n",
              "      <td>K141011032400</td>\n",
              "      <td>1.0</td>\n",
              "    </tr>\n",
              "  </tbody>\n",
              "</table>\n",
              "</div>\n",
              "    <div class=\"colab-df-buttons\">\n",
              "\n",
              "  <div class=\"colab-df-container\">\n",
              "    <button class=\"colab-df-convert\" onclick=\"convertToInteractive('df-c8ce5e54-8bcb-429e-8a4f-096abae69468')\"\n",
              "            title=\"Convert this dataframe to an interactive table.\"\n",
              "            style=\"display:none;\">\n",
              "\n",
              "  <svg xmlns=\"http://www.w3.org/2000/svg\" height=\"24px\" viewBox=\"0 -960 960 960\">\n",
              "    <path d=\"M120-120v-720h720v720H120Zm60-500h600v-160H180v160Zm220 220h160v-160H400v160Zm0 220h160v-160H400v160ZM180-400h160v-160H180v160Zm440 0h160v-160H620v160ZM180-180h160v-160H180v160Zm440 0h160v-160H620v160Z\"/>\n",
              "  </svg>\n",
              "    </button>\n",
              "\n",
              "  <style>\n",
              "    .colab-df-container {\n",
              "      display:flex;\n",
              "      gap: 12px;\n",
              "    }\n",
              "\n",
              "    .colab-df-convert {\n",
              "      background-color: #E8F0FE;\n",
              "      border: none;\n",
              "      border-radius: 50%;\n",
              "      cursor: pointer;\n",
              "      display: none;\n",
              "      fill: #1967D2;\n",
              "      height: 32px;\n",
              "      padding: 0 0 0 0;\n",
              "      width: 32px;\n",
              "    }\n",
              "\n",
              "    .colab-df-convert:hover {\n",
              "      background-color: #E2EBFA;\n",
              "      box-shadow: 0px 1px 2px rgba(60, 64, 67, 0.3), 0px 1px 3px 1px rgba(60, 64, 67, 0.15);\n",
              "      fill: #174EA6;\n",
              "    }\n",
              "\n",
              "    .colab-df-buttons div {\n",
              "      margin-bottom: 4px;\n",
              "    }\n",
              "\n",
              "    [theme=dark] .colab-df-convert {\n",
              "      background-color: #3B4455;\n",
              "      fill: #D2E3FC;\n",
              "    }\n",
              "\n",
              "    [theme=dark] .colab-df-convert:hover {\n",
              "      background-color: #434B5C;\n",
              "      box-shadow: 0px 1px 3px 1px rgba(0, 0, 0, 0.15);\n",
              "      filter: drop-shadow(0px 1px 2px rgba(0, 0, 0, 0.3));\n",
              "      fill: #FFFFFF;\n",
              "    }\n",
              "  </style>\n",
              "\n",
              "    <script>\n",
              "      const buttonEl =\n",
              "        document.querySelector('#df-c8ce5e54-8bcb-429e-8a4f-096abae69468 button.colab-df-convert');\n",
              "      buttonEl.style.display =\n",
              "        google.colab.kernel.accessAllowed ? 'block' : 'none';\n",
              "\n",
              "      async function convertToInteractive(key) {\n",
              "        const element = document.querySelector('#df-c8ce5e54-8bcb-429e-8a4f-096abae69468');\n",
              "        const dataTable =\n",
              "          await google.colab.kernel.invokeFunction('convertToInteractive',\n",
              "                                                    [key], {});\n",
              "        if (!dataTable) return;\n",
              "\n",
              "        const docLinkHtml = 'Like what you see? Visit the ' +\n",
              "          '<a target=\"_blank\" href=https://colab.research.google.com/notebooks/data_table.ipynb>data table notebook</a>'\n",
              "          + ' to learn more about interactive tables.';\n",
              "        element.innerHTML = '';\n",
              "        dataTable['output_type'] = 'display_data';\n",
              "        await google.colab.output.renderOutput(dataTable, element);\n",
              "        const docLink = document.createElement('div');\n",
              "        docLink.innerHTML = docLinkHtml;\n",
              "        element.appendChild(docLink);\n",
              "      }\n",
              "    </script>\n",
              "  </div>\n",
              "\n",
              "\n",
              "<div id=\"df-700ca37a-5d62-4711-baf0-98b253776393\">\n",
              "  <button class=\"colab-df-quickchart\" onclick=\"quickchart('df-700ca37a-5d62-4711-baf0-98b253776393')\"\n",
              "            title=\"Suggest charts\"\n",
              "            style=\"display:none;\">\n",
              "\n",
              "<svg xmlns=\"http://www.w3.org/2000/svg\" height=\"24px\"viewBox=\"0 0 24 24\"\n",
              "     width=\"24px\">\n",
              "    <g>\n",
              "        <path d=\"M19 3H5c-1.1 0-2 .9-2 2v14c0 1.1.9 2 2 2h14c1.1 0 2-.9 2-2V5c0-1.1-.9-2-2-2zM9 17H7v-7h2v7zm4 0h-2V7h2v10zm4 0h-2v-4h2v4z\"/>\n",
              "    </g>\n",
              "</svg>\n",
              "  </button>\n",
              "\n",
              "<style>\n",
              "  .colab-df-quickchart {\n",
              "      --bg-color: #E8F0FE;\n",
              "      --fill-color: #1967D2;\n",
              "      --hover-bg-color: #E2EBFA;\n",
              "      --hover-fill-color: #174EA6;\n",
              "      --disabled-fill-color: #AAA;\n",
              "      --disabled-bg-color: #DDD;\n",
              "  }\n",
              "\n",
              "  [theme=dark] .colab-df-quickchart {\n",
              "      --bg-color: #3B4455;\n",
              "      --fill-color: #D2E3FC;\n",
              "      --hover-bg-color: #434B5C;\n",
              "      --hover-fill-color: #FFFFFF;\n",
              "      --disabled-bg-color: #3B4455;\n",
              "      --disabled-fill-color: #666;\n",
              "  }\n",
              "\n",
              "  .colab-df-quickchart {\n",
              "    background-color: var(--bg-color);\n",
              "    border: none;\n",
              "    border-radius: 50%;\n",
              "    cursor: pointer;\n",
              "    display: none;\n",
              "    fill: var(--fill-color);\n",
              "    height: 32px;\n",
              "    padding: 0;\n",
              "    width: 32px;\n",
              "  }\n",
              "\n",
              "  .colab-df-quickchart:hover {\n",
              "    background-color: var(--hover-bg-color);\n",
              "    box-shadow: 0 1px 2px rgba(60, 64, 67, 0.3), 0 1px 3px 1px rgba(60, 64, 67, 0.15);\n",
              "    fill: var(--button-hover-fill-color);\n",
              "  }\n",
              "\n",
              "  .colab-df-quickchart-complete:disabled,\n",
              "  .colab-df-quickchart-complete:disabled:hover {\n",
              "    background-color: var(--disabled-bg-color);\n",
              "    fill: var(--disabled-fill-color);\n",
              "    box-shadow: none;\n",
              "  }\n",
              "\n",
              "  .colab-df-spinner {\n",
              "    border: 2px solid var(--fill-color);\n",
              "    border-color: transparent;\n",
              "    border-bottom-color: var(--fill-color);\n",
              "    animation:\n",
              "      spin 1s steps(1) infinite;\n",
              "  }\n",
              "\n",
              "  @keyframes spin {\n",
              "    0% {\n",
              "      border-color: transparent;\n",
              "      border-bottom-color: var(--fill-color);\n",
              "      border-left-color: var(--fill-color);\n",
              "    }\n",
              "    20% {\n",
              "      border-color: transparent;\n",
              "      border-left-color: var(--fill-color);\n",
              "      border-top-color: var(--fill-color);\n",
              "    }\n",
              "    30% {\n",
              "      border-color: transparent;\n",
              "      border-left-color: var(--fill-color);\n",
              "      border-top-color: var(--fill-color);\n",
              "      border-right-color: var(--fill-color);\n",
              "    }\n",
              "    40% {\n",
              "      border-color: transparent;\n",
              "      border-right-color: var(--fill-color);\n",
              "      border-top-color: var(--fill-color);\n",
              "    }\n",
              "    60% {\n",
              "      border-color: transparent;\n",
              "      border-right-color: var(--fill-color);\n",
              "    }\n",
              "    80% {\n",
              "      border-color: transparent;\n",
              "      border-right-color: var(--fill-color);\n",
              "      border-bottom-color: var(--fill-color);\n",
              "    }\n",
              "    90% {\n",
              "      border-color: transparent;\n",
              "      border-bottom-color: var(--fill-color);\n",
              "    }\n",
              "  }\n",
              "</style>\n",
              "\n",
              "  <script>\n",
              "    async function quickchart(key) {\n",
              "      const quickchartButtonEl =\n",
              "        document.querySelector('#' + key + ' button');\n",
              "      quickchartButtonEl.disabled = true;  // To prevent multiple clicks.\n",
              "      quickchartButtonEl.classList.add('colab-df-spinner');\n",
              "      try {\n",
              "        const charts = await google.colab.kernel.invokeFunction(\n",
              "            'suggestCharts', [key], {});\n",
              "      } catch (error) {\n",
              "        console.error('Error during call to suggestCharts:', error);\n",
              "      }\n",
              "      quickchartButtonEl.classList.remove('colab-df-spinner');\n",
              "      quickchartButtonEl.classList.add('colab-df-quickchart-complete');\n",
              "    }\n",
              "    (() => {\n",
              "      let quickchartButtonEl =\n",
              "        document.querySelector('#df-700ca37a-5d62-4711-baf0-98b253776393 button');\n",
              "      quickchartButtonEl.style.display =\n",
              "        google.colab.kernel.accessAllowed ? 'block' : 'none';\n",
              "    })();\n",
              "  </script>\n",
              "</div>\n",
              "\n",
              "    </div>\n",
              "  </div>\n"
            ],
            "application/vnd.google.colaboratory.intrinsic+json": {
              "type": "dataframe",
              "variable_name": "df",
              "summary": "{\n  \"name\": \"df\",\n  \"rows\": 3094,\n  \"fields\": [\n    {\n      \"column\": \"PositionShortText\",\n      \"properties\": {\n        \"dtype\": \"category\",\n        \"samples\": [\n          \"Ringankerschalung rauh, H\\u00f6he bis 25cm, waagerecht\",\n          \"Stahlbeton Au\\u00dfenwand, Innenwand in Beton C 20/25, d=20-30cm, Pumpe gro\\u00dfe Menge\",\n          \"MALL-\\u00d6ko-Regenspeicher, Typ Comfort m.Filterkorb,K 3000/66, D=2,0m, Nutz-V=6,6m3\"\n        ],\n        \"num_unique_values\": 371,\n        \"semantic_type\": \"\",\n        \"description\": \"\"\n      }\n    },\n    {\n      \"column\": \"LongText\",\n      \"properties\": {\n        \"dtype\": \"category\",\n        \"samples\": [\n          \"Stahlbetonfertigteilw\\u00e4nde ohne Fenster und T\\u00fcr\\u00f6ffnungen, Wandst\\u00e4rke d=25cm, Wandh\\u00f6he ca.3,50m, Betong\\u00fcte B35, herstellen. liefern und montieren, incl. aller notwendigen Nebenleistungen, wie Abschalen und Zubetonieren der Vergu\\u00dfkammern. Oberfl\\u00e4che in Sichtbeton.\",\n          \"Liefern und montieren von Fassadenbekleidung mit Faserzementtafeln, gem\\u00e4\\u00df Hinweisposition 1.3.1 und nachfolgernder Beschreibung. Montage einschl. Unterkonstruktion und D\\u00e4mmung auf bauseitige Stahlbetonwand gem\\u00e4\\u00df Hersteller- und Einbauvorschriften. Teilung gem. \\u00dcbersichtsplan Unterkonstruktionstiefe: FS3, t = 330mm D\\u00e4mmung WGL \\u00a0\\u00a0035: FS3, t = 240mm Montagegrund: Stahlbetonwand Gewerk Bauhauptgewerk Platte: Eternit Fassadentafel, Natura Pro, cremeweiss NP 154, o.glw.gem. Hinweisposition 1.3.1 Dicke: 8mm Einbauh\\u00f6he: bis 7,50m \\u00fcber OK Terrain (Ger\\u00fcst bauseitig) Einbauort: Ostfl\\u00fcgel 1.OG, Ostgiebel ....................................................... ......... Bietereintrag: Material Art Unterkonstruktion ....................................................... ......... Bietereintrag: Anzahl Lage Unterkonstruktion\",\n          \"Abwasserkanal DIN EN 1610 aus PVC-U-Rohren DIN 19534-3und/oder DIN EN 1401-1, DN 150, (DN/OD 160), Nenn-Ringsteifigkeit SN 4 DIN EN ISO 9969, Verlegung in vorhandenem verbauten Graben, einschl. Bettung Typ 1, Dicke derunteren Bettungsschicht mind. 10 cm, aus Ein-Korn-Kies, obere Bettungsschicht aus Ein-Korn-Kies, Dicke der oberen Bettungsschicht gem\\u00e4\\u00df beiliegender statischer Berechnung.\"\n        ],\n        \"num_unique_values\": 279,\n        \"semantic_type\": \"\",\n        \"description\": \"\"\n      }\n    },\n    {\n      \"column\": \"ArticleNumber\",\n      \"properties\": {\n        \"dtype\": \"category\",\n        \"samples\": [\n          \"K324300303020\",\n          \"K251011505500\",\n          \"18-ABD-0030\"\n        ],\n        \"num_unique_values\": 857,\n        \"semantic_type\": \"\",\n        \"description\": \"\"\n      }\n    },\n    {\n      \"column\": \"Quantity\",\n      \"properties\": {\n        \"dtype\": \"number\",\n        \"std\": 36372.87270680964,\n        \"min\": -22.75,\n        \"max\": 841620.0,\n        \"samples\": [\n          14014.0,\n          6.72,\n          0.63936\n        ],\n        \"num_unique_values\": 417,\n        \"semantic_type\": \"\",\n        \"description\": \"\"\n      }\n    }\n  ]\n}"
            }
          },
          "metadata": {},
          "execution_count": 8
        }
      ],
      "source": [
        "df.head()"
      ]
    },
    {
      "cell_type": "code",
      "execution_count": 9,
      "metadata": {
        "colab": {
          "base_uri": "https://localhost:8080/"
        },
        "id": "iHvFUdoMkpKd",
        "outputId": "a58f66c8-82b1-4554-b065-fb04e8f8ba66"
      },
      "outputs": [
        {
          "output_type": "execute_result",
          "data": {
            "text/plain": [
              "nan"
            ]
          },
          "metadata": {},
          "execution_count": 9
        }
      ],
      "source": [
        "df['LongText'][250]"
      ]
    },
    {
      "cell_type": "markdown",
      "metadata": {
        "id": "HBKFliUnqVcN"
      },
      "source": [
        "# Text Preprocessing"
      ]
    },
    {
      "cell_type": "markdown",
      "metadata": {
        "id": "1anXrJHMEmb9"
      },
      "source": [
        "## 1. Handling Missing Data"
      ]
    },
    {
      "cell_type": "code",
      "execution_count": 10,
      "metadata": {
        "id": "nbytbxAnxynn"
      },
      "outputs": [],
      "source": [
        "# # prompt: i want to handles missing data in above data named dataframe\n",
        "\n",
        "# data.isnull().sum()\n",
        "\n",
        "# # Drop rows with missing values\n",
        "# data = data.dropna(inplace=True)\n",
        "\n",
        "# # Fill missing values with the mean\n",
        "# data['Quantity'].fillna(0, inplace=True)"
      ]
    },
    {
      "cell_type": "code",
      "execution_count": 11,
      "metadata": {
        "id": "vfYYSzvA0YLf"
      },
      "outputs": [],
      "source": [
        "# Identify missing data\n",
        "missing_data = df.isnull().any(axis=1)\n",
        "\n",
        "# Filter out rows with missing data\n",
        "data_cleaned = df[~missing_data]\n",
        "\n",
        "# Drop the index associated with the rows containing missing data\n",
        "data_cleaned = data_cleaned.reset_index(drop=True)"
      ]
    },
    {
      "cell_type": "code",
      "execution_count": 12,
      "metadata": {
        "id": "N9Hbr0j8ztfK"
      },
      "outputs": [],
      "source": [
        "# df.reset_index(drop=True, inplace=True)"
      ]
    },
    {
      "cell_type": "code",
      "execution_count": 13,
      "metadata": {
        "id": "z7le7I6CyG3v"
      },
      "outputs": [],
      "source": [
        "# df['LongText'][249]"
      ]
    },
    {
      "cell_type": "code",
      "execution_count": 14,
      "metadata": {
        "id": "MdBpLhJ2wM4X"
      },
      "outputs": [],
      "source": [
        "# df"
      ]
    },
    {
      "cell_type": "code",
      "execution_count": 15,
      "metadata": {
        "id": "PmW-aosxwQvf"
      },
      "outputs": [],
      "source": [
        "# df['LongText'][250]"
      ]
    },
    {
      "cell_type": "code",
      "execution_count": 16,
      "metadata": {
        "colab": {
          "base_uri": "https://localhost:8080/"
        },
        "id": "06dAVhnn1EpH",
        "outputId": "961faa13-eabc-4112-aa92-f83bc0f0d757"
      },
      "outputs": [
        {
          "output_type": "execute_result",
          "data": {
            "text/plain": [
              "PositionShortText    0\n",
              "LongText             0\n",
              "ArticleNumber        0\n",
              "Quantity             0\n",
              "dtype: int64"
            ]
          },
          "metadata": {},
          "execution_count": 16
        }
      ],
      "source": [
        "data_cleaned.isnull().sum()"
      ]
    },
    {
      "cell_type": "markdown",
      "metadata": {
        "id": "1kso9eOjqgP8"
      },
      "source": [
        "## 2. Translation (de -> en)"
      ]
    },
    {
      "cell_type": "code",
      "execution_count": 17,
      "metadata": {
        "id": "ZnjCt40W_KW4"
      },
      "outputs": [],
      "source": [
        "# data_cleaned = pd.read_excel('/content/drive/MyDrive/ArticleRecognition/Dataset/Translateddata.xlsx', sheet_name='Translated Data')"
      ]
    },
    {
      "cell_type": "code",
      "execution_count": 18,
      "metadata": {
        "colab": {
          "base_uri": "https://localhost:8080/",
          "height": 400,
          "referenced_widgets": [
            "980c6778daa2412eaeab2e42fb1446c4",
            "d6d1c3f147974b3cb57d18e55b8a0399",
            "4afb2b16c306486489b4749d273d6ab6",
            "9b2f377331d840b68b34a24435e6e286",
            "c2c2bb8c7d3d4d48ad488734907a6b21",
            "7d19d295aba745048abb3ff5aa258212",
            "f30d6e08ddd34af6894336d28f70942c",
            "5f64e894837c40099a36a2f259825ac1",
            "7b578e67d4634ba2be9d06a27b1625bb",
            "8ff7fd8ce0d54358b31c1727072903a5",
            "2cbf9b9989654e1185884ad26897518c",
            "63015849a3ff4cdb9a5ec60cade3aeb8",
            "61b7b87e4a5448aeacb3de39b77ae589",
            "f56090742d6748839b4d087b790c430d",
            "af8a136b6b0e41fc9024bd4d86e071b6",
            "49d1de3085c743f297725238fc43af70",
            "9ce00f8eb4ed46dd8a48a699a1ec4e5a",
            "5141f6e0291641fa97f408cdcad3a575",
            "f381739360114b038215a8b828e692ba",
            "81c7aadc907b40aba724713ae033ba91",
            "419f3fc3108c414fa68ce901e5ef115c",
            "a0de1f1e0be24841860a5327be02c645",
            "4cd8c1399f584425a0b20e083692af08",
            "059a11b6dc964edd83885a3bba061dcb",
            "b79213b0ae6c4639acaeb7bf03566d1d",
            "5d321dc3fcc54dac9132ce434b29d3c7",
            "4e0d8879927344389ea7f443b91b7b4f",
            "b28d496581df4ab3ab5532feda160247",
            "7b2294b96c7a48e9b7b73598b5bb017b",
            "85b4c3b32ade48cab89925724078e96e",
            "385a29fd22e84cc695dc4f06675ce70c",
            "22a5dc5c50794a4d88fbd71c8f20c51d",
            "0ae51e5a64bd4b0f8513810dfed48fda",
            "330ce1ea851649bf94173bf5f361fd94",
            "cc3eeedc563f4fc7b171f48c3a944666",
            "14953b939d40466f8612e3b415d2b1e2",
            "cc4c155e714744cf91b9b4c93962106a",
            "e98336cf45934f4ab93c9c20e2865bc7",
            "cce98c8d6a98479288ac2d1f177013a0",
            "80f16a48db774974bc81ff64151b5b90",
            "b3ca062e653f40cfa1a07b393dfddccb",
            "af273ff13f534e29a507c8f80ea96967",
            "fd4110e619fd406ea108b38f498de142",
            "432ed1bbb0bb46d8aad69a526ae25f91",
            "4368fa4168364636932fb1ae62057a5d",
            "c1f876ee118f48b0bd3638ac623ebe09",
            "68be8e97b5524387965964cce068c332",
            "108049396d0340ec9dac377f3f70f392",
            "e3e18bd9279947f19757b0df8ccd4020",
            "4d62952334984c10b3994a68069df399",
            "87b6088b0e2c4199bdf010b93621f837",
            "883c776994d0427e8557a54c15c44ba3",
            "04907153bb6845e3a02ce0fd512034b3",
            "57f9eb5193184ca8affae655c47133aa",
            "1cf5f3097c9f4dcb9bddf0e75a4a7bdb",
            "a826d40878e643c1854b66680e99cb46",
            "56d4a36652f94f32808cf003e930b96f",
            "fd9cb42e164e498f8536c05af4ecee24",
            "56f63046a0a44ff98101b4f37ce00c5a",
            "9d72b1b15f1a42f8a691ed8a7e965270",
            "18260da0a5fe48fcbaa4f7c7d8e1c3a2",
            "be9329955ce84f7a8c381080ec4b2d4b",
            "019dc2c7624c4f289dabf470c115a68d",
            "e9bf26556d484ebca47963428cfb161e",
            "50d550832df9403188fd322b03f7fac2",
            "a5ef391ffbdf42bf8a14dafb7c48ea35",
            "27c48c33f2fc4585bc62676cfbfbe94a",
            "b4f60e8133ed4a8eaa4e42b92ffc8fcc",
            "59dfbe0e047a456c9f6e36be854d4a9a",
            "a63413fc68da40398dd2bbd0c3c35956",
            "7456b49482f44fd8b3e35da6c2341584",
            "a3293fb00ac34c6c98aaabe64d35f40f",
            "7c30cf5d52c6423fbc24e3f132deddab",
            "d7bde456b7d44d7ab26ed6cb884afbf8",
            "06f709068bda4f4fb1a82db4118d2562",
            "159410156e454ad58bd6f3504530b4e2",
            "f9730f8bbe534b02b463238a6031d864"
          ]
        },
        "id": "z3yfKDrpRomK",
        "outputId": "6a67df18-47a6-4504-ac8a-6315c17369a4"
      },
      "outputs": [
        {
          "output_type": "stream",
          "name": "stderr",
          "text": [
            "/usr/local/lib/python3.10/dist-packages/huggingface_hub/utils/_token.py:88: UserWarning: \n",
            "The secret `HF_TOKEN` does not exist in your Colab secrets.\n",
            "To authenticate with the Hugging Face Hub, create a token in your settings tab (https://huggingface.co/settings/tokens), set it as secret in your Google Colab and restart your session.\n",
            "You will be able to reuse this secret in all of your notebooks.\n",
            "Please note that authentication is recommended but still optional to access public models or datasets.\n",
            "  warnings.warn(\n"
          ]
        },
        {
          "output_type": "display_data",
          "data": {
            "text/plain": [
              "config.json:   0%|          | 0.00/1.38k [00:00<?, ?B/s]"
            ],
            "application/vnd.jupyter.widget-view+json": {
              "version_major": 2,
              "version_minor": 0,
              "model_id": "980c6778daa2412eaeab2e42fb1446c4"
            }
          },
          "metadata": {}
        },
        {
          "output_type": "display_data",
          "data": {
            "text/plain": [
              "pytorch_model.bin:   0%|          | 0.00/298M [00:00<?, ?B/s]"
            ],
            "application/vnd.jupyter.widget-view+json": {
              "version_major": 2,
              "version_minor": 0,
              "model_id": "63015849a3ff4cdb9a5ec60cade3aeb8"
            }
          },
          "metadata": {}
        },
        {
          "output_type": "display_data",
          "data": {
            "text/plain": [
              "generation_config.json:   0%|          | 0.00/293 [00:00<?, ?B/s]"
            ],
            "application/vnd.jupyter.widget-view+json": {
              "version_major": 2,
              "version_minor": 0,
              "model_id": "4cd8c1399f584425a0b20e083692af08"
            }
          },
          "metadata": {}
        },
        {
          "output_type": "display_data",
          "data": {
            "text/plain": [
              "tokenizer_config.json:   0%|          | 0.00/42.0 [00:00<?, ?B/s]"
            ],
            "application/vnd.jupyter.widget-view+json": {
              "version_major": 2,
              "version_minor": 0,
              "model_id": "330ce1ea851649bf94173bf5f361fd94"
            }
          },
          "metadata": {}
        },
        {
          "output_type": "display_data",
          "data": {
            "text/plain": [
              "source.spm:   0%|          | 0.00/797k [00:00<?, ?B/s]"
            ],
            "application/vnd.jupyter.widget-view+json": {
              "version_major": 2,
              "version_minor": 0,
              "model_id": "4368fa4168364636932fb1ae62057a5d"
            }
          },
          "metadata": {}
        },
        {
          "output_type": "display_data",
          "data": {
            "text/plain": [
              "target.spm:   0%|          | 0.00/768k [00:00<?, ?B/s]"
            ],
            "application/vnd.jupyter.widget-view+json": {
              "version_major": 2,
              "version_minor": 0,
              "model_id": "a826d40878e643c1854b66680e99cb46"
            }
          },
          "metadata": {}
        },
        {
          "output_type": "display_data",
          "data": {
            "text/plain": [
              "vocab.json:   0%|          | 0.00/1.27M [00:00<?, ?B/s]"
            ],
            "application/vnd.jupyter.widget-view+json": {
              "version_major": 2,
              "version_minor": 0,
              "model_id": "27c48c33f2fc4585bc62676cfbfbe94a"
            }
          },
          "metadata": {}
        },
        {
          "output_type": "stream",
          "name": "stderr",
          "text": [
            "/usr/local/lib/python3.10/dist-packages/transformers/models/marian/tokenization_marian.py:197: UserWarning: Recommended: pip install sacremoses.\n",
            "  warnings.warn(\"Recommended: pip install sacremoses.\")\n"
          ]
        }
      ],
      "source": [
        "from transformers import MarianMTModel, MarianTokenizer\n",
        "\n",
        "# Load the MarianMT model and tokenizer for German to English translation\n",
        "model_name = \"Helsinki-NLP/opus-mt-de-en\"\n",
        "Translator = MarianMTModel.from_pretrained(model_name)\n",
        "tokenizer = MarianTokenizer.from_pretrained(model_name)\n",
        "\n",
        "# Define translate function\n",
        "def translate(german_text):\n",
        "    # Tokenize the German text\n",
        "    tokens = tokenizer.tokenize(german_text)\n",
        "\n",
        "    # Initialize an empty list to store translated segments\n",
        "    translated_segments = []\n",
        "\n",
        "    # Initialize an index to keep track of the starting position of each segment\n",
        "    start_index = 0\n",
        "\n",
        "    # Process the input sequence in segments\n",
        "    while start_index < len(tokens):\n",
        "        # Determine the end index of the current segment\n",
        "        end_index = min(start_index + 512, len(tokens))\n",
        "\n",
        "        # Extract the segment of tokens\n",
        "        segment_tokens = tokens[start_index:end_index]\n",
        "\n",
        "        # Convert the segment back to a string\n",
        "        segment_text = tokenizer.convert_tokens_to_string(segment_tokens)\n",
        "\n",
        "        # Translate the segment\n",
        "        inputs = tokenizer.encode(segment_text, return_tensors=\"pt\", max_length=512, truncation=True)\n",
        "        outputs = Translator.generate(inputs, max_length=500, num_beams=4, early_stopping=True)\n",
        "        english_translation = tokenizer.decode(outputs[0], skip_special_tokens=True)\n",
        "\n",
        "        # Append the translated segment to the list\n",
        "        translated_segments.append(english_translation)\n",
        "\n",
        "        # Move to the next segment\n",
        "        start_index = end_index\n",
        "\n",
        "    # Concatenate the translations of all segments\n",
        "    english_translation = \" \".join(translated_segments)\n",
        "\n",
        "    return english_translation"
      ]
    },
    {
      "cell_type": "code",
      "execution_count": 19,
      "metadata": {
        "id": "4GPqHHMf1XoB"
      },
      "outputs": [],
      "source": [
        "# translate(data_cleaned['LongText'][246])"
      ]
    },
    {
      "cell_type": "code",
      "execution_count": 29,
      "metadata": {
        "colab": {
          "base_uri": "https://localhost:8080/"
        },
        "id": "JGaDnnNj3MyC",
        "outputId": "fcfb4685-f6f9-430d-bc7c-1113f3c49093"
      },
      "outputs": [
        {
          "output_type": "stream",
          "name": "stdout",
          "text": [
            "<class 'pandas.core.frame.DataFrame'>\n",
            "RangeIndex: 2008 entries, 0 to 2007\n",
            "Data columns (total 4 columns):\n",
            " #   Column             Non-Null Count  Dtype  \n",
            "---  ------             --------------  -----  \n",
            " 0   PositionShortText  2008 non-null   object \n",
            " 1   LongText           2008 non-null   object \n",
            " 2   ArticleNumber      2008 non-null   object \n",
            " 3   Quantity           2008 non-null   float64\n",
            "dtypes: float64(1), object(3)\n",
            "memory usage: 62.9+ KB\n"
          ]
        }
      ],
      "source": [
        "data_cleaned.info()"
      ]
    },
    {
      "cell_type": "code",
      "execution_count": 30,
      "metadata": {
        "colab": {
          "base_uri": "https://localhost:8080/"
        },
        "id": "o1Irg9QuYqRc",
        "outputId": "935b237c-395a-47dc-b25a-29e19be9cad7"
      },
      "outputs": [
        {
          "metadata": {
            "tags": null
          },
          "name": "stdout",
          "output_type": "stream",
          "text": [
            "Start index: 1301\n"
          ]
        },
        {
          "metadata": {
            "tags": null
          },
          "name": "stderr",
          "output_type": "stream",
          "text": [
            "  3%|▎         | 18/707 [15:16<10:01:35, 52.39s/it]"
          ]
        },
        {
          "metadata": {
            "tags": null
          },
          "name": "stdout",
          "output_type": "stream",
          "text": [
            "Translated 1320 rows out of 2008 rows.\n"
          ]
        },
        {
          "metadata": {
            "tags": null
          },
          "name": "stderr",
          "output_type": "stream",
          "text": [
            "\r  3%|▎         | 19/707 [16:06<9:53:43, 51.78s/it] "
          ]
        },
        {
          "metadata": {
            "tags": null
          },
          "name": "stdout",
          "output_type": "stream",
          "text": [
            "Data saved to /content/drive/MyDrive/ArticleRecognition/Dataset/Translateddata.xlsx\n"
          ]
        },
        {
          "output_type": "stream",
          "name": "stderr",
          "text": [
            "  6%|▌         | 39/707 [26:50<4:31:54, 24.42s/it]"
          ]
        },
        {
          "output_type": "stream",
          "name": "stdout",
          "text": [
            "Translated 1340 rows out of 2008 rows.\n",
            "Data saved to /content/drive/MyDrive/ArticleRecognition/Dataset/Translateddata.xlsx\n"
          ]
        },
        {
          "output_type": "stream",
          "name": "stderr",
          "text": [
            "  8%|▊         | 58/707 [38:29<3:36:44, 20.04s/it]"
          ]
        },
        {
          "output_type": "stream",
          "name": "stdout",
          "text": [
            "Translated 1360 rows out of 2008 rows.\n",
            "Data saved to /content/drive/MyDrive/ArticleRecognition/Dataset/Translateddata.xlsx\n"
          ]
        },
        {
          "output_type": "stream",
          "name": "stderr",
          "text": [
            " 11%|█         | 78/707 [52:05<9:15:32, 52.99s/it]"
          ]
        },
        {
          "output_type": "stream",
          "name": "stdout",
          "text": [
            "Translated 1380 rows out of 2008 rows.\n"
          ]
        },
        {
          "output_type": "stream",
          "name": "stderr",
          "text": [
            "\r 11%|█         | 79/707 [53:01<9:25:05, 53.99s/it]"
          ]
        },
        {
          "output_type": "stream",
          "name": "stdout",
          "text": [
            "Data saved to /content/drive/MyDrive/ArticleRecognition/Dataset/Translateddata.xlsx\n"
          ]
        },
        {
          "output_type": "stream",
          "name": "stderr",
          "text": [
            " 14%|█▍        | 98/707 [58:29<1:33:50,  9.24s/it]"
          ]
        },
        {
          "output_type": "stream",
          "name": "stdout",
          "text": [
            "Translated 1400 rows out of 2008 rows.\n"
          ]
        },
        {
          "output_type": "stream",
          "name": "stderr",
          "text": [
            "\r 14%|█▍        | 99/707 [58:39<1:34:27,  9.32s/it]"
          ]
        },
        {
          "output_type": "stream",
          "name": "stdout",
          "text": [
            "Data saved to /content/drive/MyDrive/ArticleRecognition/Dataset/Translateddata.xlsx\n"
          ]
        },
        {
          "output_type": "stream",
          "name": "stderr",
          "text": [
            " 17%|█▋        | 118/707 [1:01:21<1:38:14, 10.01s/it]"
          ]
        },
        {
          "output_type": "stream",
          "name": "stdout",
          "text": [
            "Translated 1420 rows out of 2008 rows.\n"
          ]
        },
        {
          "output_type": "stream",
          "name": "stderr",
          "text": [
            "\r 17%|█▋        | 119/707 [1:01:35<1:50:46, 11.30s/it]"
          ]
        },
        {
          "output_type": "stream",
          "name": "stdout",
          "text": [
            "Data saved to /content/drive/MyDrive/ArticleRecognition/Dataset/Translateddata.xlsx\n"
          ]
        },
        {
          "output_type": "stream",
          "name": "stderr",
          "text": [
            " 20%|█▉        | 138/707 [1:10:39<8:08:26, 51.51s/it]"
          ]
        },
        {
          "output_type": "stream",
          "name": "stdout",
          "text": [
            "Translated 1440 rows out of 2008 rows.\n"
          ]
        },
        {
          "output_type": "stream",
          "name": "stderr",
          "text": [
            "\r 20%|█▉        | 139/707 [1:11:29<8:04:09, 51.14s/it]"
          ]
        },
        {
          "output_type": "stream",
          "name": "stdout",
          "text": [
            "Data saved to /content/drive/MyDrive/ArticleRecognition/Dataset/Translateddata.xlsx\n"
          ]
        },
        {
          "output_type": "stream",
          "name": "stderr",
          "text": [
            " 22%|██▏       | 158/707 [1:17:52<56:33,  6.18s/it]  "
          ]
        },
        {
          "output_type": "stream",
          "name": "stdout",
          "text": [
            "Translated 1460 rows out of 2008 rows.\n"
          ]
        },
        {
          "output_type": "stream",
          "name": "stderr",
          "text": [
            "\r 22%|██▏       | 159/707 [1:17:55<48:26,  5.30s/it]"
          ]
        },
        {
          "output_type": "stream",
          "name": "stdout",
          "text": [
            "Data saved to /content/drive/MyDrive/ArticleRecognition/Dataset/Translateddata.xlsx\n"
          ]
        },
        {
          "output_type": "stream",
          "name": "stderr",
          "text": [
            " 25%|██▌       | 178/707 [1:20:02<1:10:40,  8.02s/it]"
          ]
        },
        {
          "output_type": "stream",
          "name": "stdout",
          "text": [
            "Translated 1480 rows out of 2008 rows.\n"
          ]
        },
        {
          "output_type": "stream",
          "name": "stderr",
          "text": [
            "\r 25%|██▌       | 179/707 [1:20:11<1:13:06,  8.31s/it]"
          ]
        },
        {
          "output_type": "stream",
          "name": "stdout",
          "text": [
            "Data saved to /content/drive/MyDrive/ArticleRecognition/Dataset/Translateddata.xlsx\n"
          ]
        },
        {
          "output_type": "stream",
          "name": "stderr",
          "text": [
            " 28%|██▊       | 198/707 [1:21:28<29:49,  3.52s/it]"
          ]
        },
        {
          "output_type": "stream",
          "name": "stdout",
          "text": [
            "Translated 1500 rows out of 2008 rows.\n"
          ]
        },
        {
          "output_type": "stream",
          "name": "stderr",
          "text": [
            "\r 28%|██▊       | 199/707 [1:21:32<30:36,  3.62s/it]"
          ]
        },
        {
          "output_type": "stream",
          "name": "stdout",
          "text": [
            "Data saved to /content/drive/MyDrive/ArticleRecognition/Dataset/Translateddata.xlsx\n"
          ]
        },
        {
          "output_type": "stream",
          "name": "stderr",
          "text": [
            " 31%|███       | 218/707 [1:23:30<48:22,  5.94s/it]"
          ]
        },
        {
          "output_type": "stream",
          "name": "stdout",
          "text": [
            "Translated 1520 rows out of 2008 rows.\n"
          ]
        },
        {
          "output_type": "stream",
          "name": "stderr",
          "text": [
            "\r 31%|███       | 219/707 [1:23:40<58:19,  7.17s/it]"
          ]
        },
        {
          "output_type": "stream",
          "name": "stdout",
          "text": [
            "Data saved to /content/drive/MyDrive/ArticleRecognition/Dataset/Translateddata.xlsx\n"
          ]
        },
        {
          "output_type": "stream",
          "name": "stderr",
          "text": [
            " 34%|███▎      | 238/707 [1:25:42<24:19,  3.11s/it]"
          ]
        },
        {
          "output_type": "stream",
          "name": "stdout",
          "text": [
            "Translated 1540 rows out of 2008 rows.\n"
          ]
        },
        {
          "output_type": "stream",
          "name": "stderr",
          "text": [
            "\r 34%|███▍      | 239/707 [1:25:44<20:57,  2.69s/it]"
          ]
        },
        {
          "output_type": "stream",
          "name": "stdout",
          "text": [
            "Data saved to /content/drive/MyDrive/ArticleRecognition/Dataset/Translateddata.xlsx\n"
          ]
        },
        {
          "output_type": "stream",
          "name": "stderr",
          "text": [
            " 36%|███▋      | 258/707 [1:28:23<1:13:33,  9.83s/it]"
          ]
        },
        {
          "output_type": "stream",
          "name": "stdout",
          "text": [
            "Translated 1560 rows out of 2008 rows.\n"
          ]
        },
        {
          "output_type": "stream",
          "name": "stderr",
          "text": [
            "\r 37%|███▋      | 259/707 [1:28:32<1:12:05,  9.65s/it]"
          ]
        },
        {
          "output_type": "stream",
          "name": "stdout",
          "text": [
            "Data saved to /content/drive/MyDrive/ArticleRecognition/Dataset/Translateddata.xlsx\n"
          ]
        },
        {
          "output_type": "stream",
          "name": "stderr",
          "text": [
            " 39%|███▉      | 278/707 [1:31:26<1:09:12,  9.68s/it]"
          ]
        },
        {
          "output_type": "stream",
          "name": "stdout",
          "text": [
            "Translated 1580 rows out of 2008 rows.\n"
          ]
        },
        {
          "output_type": "stream",
          "name": "stderr",
          "text": [
            "\r 39%|███▉      | 279/707 [1:31:33<1:02:16,  8.73s/it]"
          ]
        },
        {
          "output_type": "stream",
          "name": "stdout",
          "text": [
            "Data saved to /content/drive/MyDrive/ArticleRecognition/Dataset/Translateddata.xlsx\n"
          ]
        },
        {
          "output_type": "stream",
          "name": "stderr",
          "text": [
            " 42%|████▏     | 298/707 [1:33:25<26:44,  3.92s/it]"
          ]
        },
        {
          "output_type": "stream",
          "name": "stdout",
          "text": [
            "Translated 1600 rows out of 2008 rows.\n"
          ]
        },
        {
          "output_type": "stream",
          "name": "stderr",
          "text": [
            "\r 42%|████▏     | 299/707 [1:33:31<30:25,  4.47s/it]"
          ]
        },
        {
          "output_type": "stream",
          "name": "stdout",
          "text": [
            "Data saved to /content/drive/MyDrive/ArticleRecognition/Dataset/Translateddata.xlsx\n"
          ]
        },
        {
          "output_type": "stream",
          "name": "stderr",
          "text": [
            " 45%|████▍     | 318/707 [1:35:26<39:25,  6.08s/it]"
          ]
        },
        {
          "output_type": "stream",
          "name": "stdout",
          "text": [
            "Translated 1620 rows out of 2008 rows.\n"
          ]
        },
        {
          "output_type": "stream",
          "name": "stderr",
          "text": [
            "\r 45%|████▌     | 319/707 [1:35:30<36:38,  5.67s/it]"
          ]
        },
        {
          "output_type": "stream",
          "name": "stdout",
          "text": [
            "Data saved to /content/drive/MyDrive/ArticleRecognition/Dataset/Translateddata.xlsx\n"
          ]
        },
        {
          "output_type": "stream",
          "name": "stderr",
          "text": [
            " 48%|████▊     | 338/707 [1:37:06<31:53,  5.19s/it]"
          ]
        },
        {
          "output_type": "stream",
          "name": "stdout",
          "text": [
            "Translated 1640 rows out of 2008 rows.\n"
          ]
        },
        {
          "output_type": "stream",
          "name": "stderr",
          "text": [
            "\r 48%|████▊     | 339/707 [1:37:11<31:24,  5.12s/it]"
          ]
        },
        {
          "output_type": "stream",
          "name": "stdout",
          "text": [
            "Data saved to /content/drive/MyDrive/ArticleRecognition/Dataset/Translateddata.xlsx\n"
          ]
        },
        {
          "output_type": "stream",
          "name": "stderr",
          "text": [
            " 51%|█████     | 358/707 [1:38:31<18:15,  3.14s/it]"
          ]
        },
        {
          "output_type": "stream",
          "name": "stdout",
          "text": [
            "Translated 1660 rows out of 2008 rows.\n"
          ]
        },
        {
          "output_type": "stream",
          "name": "stderr",
          "text": [
            "\r 51%|█████     | 359/707 [1:38:35<19:00,  3.28s/it]"
          ]
        },
        {
          "output_type": "stream",
          "name": "stdout",
          "text": [
            "Data saved to /content/drive/MyDrive/ArticleRecognition/Dataset/Translateddata.xlsx\n"
          ]
        },
        {
          "output_type": "stream",
          "name": "stderr",
          "text": [
            " 53%|█████▎    | 378/707 [1:39:36<26:42,  4.87s/it]"
          ]
        },
        {
          "output_type": "stream",
          "name": "stdout",
          "text": [
            "Translated 1680 rows out of 2008 rows.\n"
          ]
        },
        {
          "output_type": "stream",
          "name": "stderr",
          "text": [
            "\r 54%|█████▎    | 379/707 [1:39:41<26:22,  4.82s/it]"
          ]
        },
        {
          "output_type": "stream",
          "name": "stdout",
          "text": [
            "Data saved to /content/drive/MyDrive/ArticleRecognition/Dataset/Translateddata.xlsx\n"
          ]
        },
        {
          "output_type": "stream",
          "name": "stderr",
          "text": [
            " 56%|█████▋    | 398/707 [1:42:20<1:29:26, 17.37s/it]"
          ]
        },
        {
          "output_type": "stream",
          "name": "stdout",
          "text": [
            "Translated 1700 rows out of 2008 rows.\n"
          ]
        },
        {
          "output_type": "stream",
          "name": "stderr",
          "text": [
            "\r 56%|█████▋    | 399/707 [1:43:03<2:08:33, 25.04s/it]"
          ]
        },
        {
          "output_type": "stream",
          "name": "stdout",
          "text": [
            "Data saved to /content/drive/MyDrive/ArticleRecognition/Dataset/Translateddata.xlsx\n"
          ]
        },
        {
          "output_type": "stream",
          "name": "stderr",
          "text": [
            " 59%|█████▉    | 418/707 [1:53:07<2:36:20, 32.46s/it]"
          ]
        },
        {
          "output_type": "stream",
          "name": "stdout",
          "text": [
            "Translated 1720 rows out of 2008 rows.\n"
          ]
        },
        {
          "output_type": "stream",
          "name": "stderr",
          "text": [
            "\r 59%|█████▉    | 419/707 [1:53:24<2:14:26, 28.01s/it]"
          ]
        },
        {
          "output_type": "stream",
          "name": "stdout",
          "text": [
            "Data saved to /content/drive/MyDrive/ArticleRecognition/Dataset/Translateddata.xlsx\n"
          ]
        },
        {
          "output_type": "stream",
          "name": "stderr",
          "text": [
            " 62%|██████▏   | 438/707 [2:09:51<3:19:32, 44.51s/it]"
          ]
        },
        {
          "output_type": "stream",
          "name": "stdout",
          "text": [
            "Translated 1740 rows out of 2008 rows.\n"
          ]
        },
        {
          "output_type": "stream",
          "name": "stderr",
          "text": [
            "\r 62%|██████▏   | 439/707 [2:10:05<2:38:12, 35.42s/it]"
          ]
        },
        {
          "output_type": "stream",
          "name": "stdout",
          "text": [
            "Data saved to /content/drive/MyDrive/ArticleRecognition/Dataset/Translateddata.xlsx\n"
          ]
        },
        {
          "output_type": "stream",
          "name": "stderr",
          "text": [
            " 65%|██████▍   | 458/707 [2:20:04<3:26:07, 49.67s/it]"
          ]
        },
        {
          "output_type": "stream",
          "name": "stdout",
          "text": [
            "Translated 1760 rows out of 2008 rows.\n"
          ]
        },
        {
          "output_type": "stream",
          "name": "stderr",
          "text": [
            "\r 65%|██████▍   | 459/707 [2:21:00<3:33:23, 51.63s/it]"
          ]
        },
        {
          "output_type": "stream",
          "name": "stdout",
          "text": [
            "Data saved to /content/drive/MyDrive/ArticleRecognition/Dataset/Translateddata.xlsx\n"
          ]
        },
        {
          "output_type": "stream",
          "name": "stderr",
          "text": [
            " 68%|██████▊   | 478/707 [2:25:41<1:04:43, 16.96s/it]"
          ]
        },
        {
          "output_type": "stream",
          "name": "stdout",
          "text": [
            "Translated 1780 rows out of 2008 rows.\n"
          ]
        },
        {
          "output_type": "stream",
          "name": "stderr",
          "text": [
            "\r 68%|██████▊   | 479/707 [2:25:52<57:27, 15.12s/it]  "
          ]
        },
        {
          "output_type": "stream",
          "name": "stdout",
          "text": [
            "Data saved to /content/drive/MyDrive/ArticleRecognition/Dataset/Translateddata.xlsx\n"
          ]
        },
        {
          "output_type": "stream",
          "name": "stderr",
          "text": [
            " 70%|███████   | 498/707 [2:38:15<3:13:24, 55.52s/it]"
          ]
        },
        {
          "output_type": "stream",
          "name": "stdout",
          "text": [
            "Translated 1800 rows out of 2008 rows.\n"
          ]
        },
        {
          "output_type": "stream",
          "name": "stderr",
          "text": [
            "\r 71%|███████   | 499/707 [2:38:55<2:56:28, 50.91s/it]"
          ]
        },
        {
          "output_type": "stream",
          "name": "stdout",
          "text": [
            "Data saved to /content/drive/MyDrive/ArticleRecognition/Dataset/Translateddata.xlsx\n"
          ]
        },
        {
          "output_type": "stream",
          "name": "stderr",
          "text": [
            " 73%|███████▎  | 518/707 [2:53:46<2:29:08, 47.34s/it]"
          ]
        },
        {
          "output_type": "stream",
          "name": "stdout",
          "text": [
            "Translated 1820 rows out of 2008 rows.\n"
          ]
        },
        {
          "output_type": "stream",
          "name": "stderr",
          "text": [
            "\r 73%|███████▎  | 519/707 [2:54:26<2:20:56, 44.98s/it]"
          ]
        },
        {
          "output_type": "stream",
          "name": "stdout",
          "text": [
            "Data saved to /content/drive/MyDrive/ArticleRecognition/Dataset/Translateddata.xlsx\n"
          ]
        },
        {
          "output_type": "stream",
          "name": "stderr",
          "text": [
            " 76%|███████▌  | 538/707 [3:06:05<2:02:54, 43.64s/it]"
          ]
        },
        {
          "output_type": "stream",
          "name": "stdout",
          "text": [
            "Translated 1840 rows out of 2008 rows.\n"
          ]
        },
        {
          "output_type": "stream",
          "name": "stderr",
          "text": [
            "\r 76%|███████▌  | 539/707 [3:06:23<1:40:35, 35.93s/it]"
          ]
        },
        {
          "output_type": "stream",
          "name": "stdout",
          "text": [
            "Data saved to /content/drive/MyDrive/ArticleRecognition/Dataset/Translateddata.xlsx\n"
          ]
        },
        {
          "output_type": "stream",
          "name": "stderr",
          "text": [
            " 79%|███████▉  | 558/707 [3:10:15<16:54,  6.81s/it]"
          ]
        },
        {
          "output_type": "stream",
          "name": "stdout",
          "text": [
            "Translated 1860 rows out of 2008 rows.\n"
          ]
        },
        {
          "output_type": "stream",
          "name": "stderr",
          "text": [
            "\r 79%|███████▉  | 559/707 [3:10:26<20:05,  8.15s/it]"
          ]
        },
        {
          "output_type": "stream",
          "name": "stdout",
          "text": [
            "Data saved to /content/drive/MyDrive/ArticleRecognition/Dataset/Translateddata.xlsx\n"
          ]
        },
        {
          "output_type": "stream",
          "name": "stderr",
          "text": [
            " 82%|████████▏ | 578/707 [3:14:02<23:40, 11.01s/it]"
          ]
        },
        {
          "output_type": "stream",
          "name": "stdout",
          "text": [
            "Translated 1880 rows out of 2008 rows.\n"
          ]
        },
        {
          "output_type": "stream",
          "name": "stderr",
          "text": [
            "\r 82%|████████▏ | 579/707 [3:14:19<27:15, 12.78s/it]"
          ]
        },
        {
          "output_type": "stream",
          "name": "stdout",
          "text": [
            "Data saved to /content/drive/MyDrive/ArticleRecognition/Dataset/Translateddata.xlsx\n"
          ]
        },
        {
          "output_type": "stream",
          "name": "stderr",
          "text": [
            " 85%|████████▍ | 598/707 [3:24:31<1:08:52, 37.91s/it]"
          ]
        },
        {
          "output_type": "stream",
          "name": "stdout",
          "text": [
            "Translated 1900 rows out of 2008 rows.\n"
          ]
        },
        {
          "output_type": "stream",
          "name": "stderr",
          "text": [
            "\r 85%|████████▍ | 599/707 [3:25:20<1:14:38, 41.46s/it]"
          ]
        },
        {
          "output_type": "stream",
          "name": "stdout",
          "text": [
            "Data saved to /content/drive/MyDrive/ArticleRecognition/Dataset/Translateddata.xlsx\n"
          ]
        },
        {
          "output_type": "stream",
          "name": "stderr",
          "text": [
            " 87%|████████▋ | 618/707 [3:40:57<1:04:57, 43.79s/it]"
          ]
        },
        {
          "output_type": "stream",
          "name": "stdout",
          "text": [
            "Translated 1920 rows out of 2008 rows.\n"
          ]
        },
        {
          "output_type": "stream",
          "name": "stderr",
          "text": [
            "\r 88%|████████▊ | 619/707 [3:41:14<52:25, 35.75s/it]  "
          ]
        },
        {
          "output_type": "stream",
          "name": "stdout",
          "text": [
            "Data saved to /content/drive/MyDrive/ArticleRecognition/Dataset/Translateddata.xlsx\n"
          ]
        },
        {
          "output_type": "stream",
          "name": "stderr",
          "text": [
            " 90%|█████████ | 638/707 [3:48:39<04:55,  4.28s/it]"
          ]
        },
        {
          "output_type": "stream",
          "name": "stdout",
          "text": [
            "Translated 1940 rows out of 2008 rows.\n"
          ]
        },
        {
          "output_type": "stream",
          "name": "stderr",
          "text": [
            "\r 90%|█████████ | 639/707 [3:48:43<04:47,  4.23s/it]"
          ]
        },
        {
          "output_type": "stream",
          "name": "stdout",
          "text": [
            "Data saved to /content/drive/MyDrive/ArticleRecognition/Dataset/Translateddata.xlsx\n"
          ]
        },
        {
          "output_type": "stream",
          "name": "stderr",
          "text": [
            " 93%|█████████▎| 658/707 [3:50:11<04:05,  5.02s/it]"
          ]
        },
        {
          "output_type": "stream",
          "name": "stdout",
          "text": [
            "Translated 1960 rows out of 2008 rows.\n"
          ]
        },
        {
          "output_type": "stream",
          "name": "stderr",
          "text": [
            "\r 93%|█████████▎| 659/707 [3:50:17<04:23,  5.50s/it]"
          ]
        },
        {
          "output_type": "stream",
          "name": "stdout",
          "text": [
            "Data saved to /content/drive/MyDrive/ArticleRecognition/Dataset/Translateddata.xlsx\n"
          ]
        },
        {
          "output_type": "stream",
          "name": "stderr",
          "text": [
            " 96%|█████████▌| 678/707 [3:51:57<03:22,  6.97s/it]"
          ]
        },
        {
          "output_type": "stream",
          "name": "stdout",
          "text": [
            "Translated 1980 rows out of 2008 rows.\n"
          ]
        },
        {
          "output_type": "stream",
          "name": "stderr",
          "text": [
            "\r 96%|█████████▌| 679/707 [3:52:04<03:10,  6.79s/it]"
          ]
        },
        {
          "output_type": "stream",
          "name": "stdout",
          "text": [
            "Data saved to /content/drive/MyDrive/ArticleRecognition/Dataset/Translateddata.xlsx\n"
          ]
        },
        {
          "output_type": "stream",
          "name": "stderr",
          "text": [
            " 99%|█████████▊| 698/707 [3:54:42<01:24,  9.44s/it]"
          ]
        },
        {
          "output_type": "stream",
          "name": "stdout",
          "text": [
            "Translated 2000 rows out of 2008 rows.\n"
          ]
        },
        {
          "output_type": "stream",
          "name": "stderr",
          "text": [
            "\r 99%|█████████▉| 699/707 [3:54:52<01:16,  9.60s/it]"
          ]
        },
        {
          "output_type": "stream",
          "name": "stdout",
          "text": [
            "Data saved to /content/drive/MyDrive/ArticleRecognition/Dataset/Translateddata.xlsx\n"
          ]
        },
        {
          "output_type": "stream",
          "name": "stderr",
          "text": [
            "100%|██████████| 707/707 [3:55:57<00:00, 20.02s/it]\n"
          ]
        },
        {
          "output_type": "stream",
          "name": "stdout",
          "text": [
            "Data saved to /content/drive/MyDrive/ArticleRecognition/Dataset/Translateddata.xlsx\n"
          ]
        }
      ],
      "source": [
        "import os\n",
        "import logging\n",
        "from tqdm import tqdm\n",
        "import pandas as pd\n",
        "\n",
        "# Set the start index manually\n",
        "start_index = 0\n",
        "\n",
        "# Set up logging configuration\n",
        "logging.basicConfig(filename='translation_log.txt', level=logging.INFO, format='%(asctime)s - %(levelname)s - %(message)s')\n",
        "\n",
        "# Check if there's a checkpoint file\n",
        "checkpoint_file = 'checkpoint.txt'\n",
        "if os.path.exists(checkpoint_file):\n",
        "    with open(checkpoint_file, 'r') as file:\n",
        "        start_index = int(file.read().strip())\n",
        "    logging.info(f'Resuming from index: {start_index}')\n",
        "else:\n",
        "    logging.info(f'Starting from index: {start_index}')\n",
        "\n",
        "print(f\"Start index: {start_index}\")  # Add a print statement for debugging\n",
        "\n",
        "# Function to save data to Excel file\n",
        "def save_data(data, filename):\n",
        "    data.to_excel(filename, sheet_name='Translated Data', index=False)\n",
        "    print(f\"Data saved to {filename}\")  # Print statement to indicate that data is saved\n",
        "\n",
        "# Iterate through the DataFrame with tqdm\n",
        "for index, row in tqdm(data_cleaned.iloc[start_index:].iterrows(), total=len(data_cleaned) - start_index):\n",
        "\n",
        "    # translating Long Text\n",
        "    german_text = row['LongText']\n",
        "    english_translation = translate(german_text)\n",
        "    data_cleaned.at[index, 'LongText'] = english_translation\n",
        "\n",
        "    # translating Short Text\n",
        "    german_text = row['PositionShortText']\n",
        "    english_translation = translate(german_text)\n",
        "    data_cleaned.at[index, 'PositionShortText'] = english_translation\n",
        "\n",
        "    # Print progress after every 20 iterations\n",
        "    if (index + 1) % 20 == 0:\n",
        "        print(f\"Translated {(index + 1)} rows out of {len(data_cleaned)} rows.\")\n",
        "        save_data(data_cleaned.iloc[:index + 1], '/content/drive/MyDrive/ArticleRecognition/Dataset/Translateddata.xlsx')\n",
        "        logging.info(f'Saved data after processing index: {index + 1}')\n",
        "\n",
        "    # Save the checkpoint after every iteration\n",
        "    with open(checkpoint_file, 'w') as file:\n",
        "        file.write(str(index + 1))  # Write the correct index after processing each iteration\n",
        "\n",
        "# Save the final data (to ensure all rows are saved)\n",
        "save_data(data_cleaned, '/content/drive/MyDrive/ArticleRecognition/Dataset/Translateddata.xlsx')\n"
      ]
    },
    {
      "cell_type": "code",
      "source": [
        "# Check if there's a checkpoint file\n",
        "checkpoint_file = 'checkpoint.txt'\n",
        "if os.path.exists(checkpoint_file):\n",
        "    with open(checkpoint_file, 'r') as file:\n",
        "        start_index = int(file.read().strip())\n",
        "    logging.info(f'Resuming from index: {start_index}')\n",
        "else:\n",
        "    # Set the start index to 1301 if the checkpoint file doesn't exist\n",
        "    start_index = 1301\n",
        "    logging.info(f'Starting from index: {start_index}')\n",
        "\n",
        "print(f\"Start index: {start_index}\")  # Add a print statement for debugging\n",
        "\n",
        "# Load the previously translated data if it exists\n",
        "previous_file_path = '/content/drive/MyDrive/ArticleRecognition/Dataset/Copy of Translateddata.xlsx'  # Update this with the path to your previous file\n",
        "if os.path.exists(previous_file_path):\n",
        "    previous_data = pd.read_excel(previous_file_path)\n",
        "    start_index = max(start_index, len(previous_data))  # Update start index to continue from the last translated row\n"
      ],
      "metadata": {
        "colab": {
          "base_uri": "https://localhost:8080/"
        },
        "id": "iIaRL_wPk3Wh",
        "outputId": "35c77356-25df-465e-89bf-c846b9cb759a"
      },
      "execution_count": 70,
      "outputs": [
        {
          "output_type": "stream",
          "name": "stdout",
          "text": [
            "Start index: 2008\n"
          ]
        }
      ]
    },
    {
      "cell_type": "code",
      "source": [
        "# import os\n",
        "\n",
        "# # Check if there's a checkpoint file\n",
        "# checkpoint_file = 'checkpoint.txt'\n",
        "# if os.path.exists(checkpoint_file):\n",
        "#     os.remove(checkpoint_file)\n",
        "#     print(\"Previous checkpoint file deleted.\")\n",
        "# else:\n",
        "#     print(\"No previous checkpoint file found.\")\n"
      ],
      "metadata": {
        "id": "3wNbvdW7l04v"
      },
      "execution_count": null,
      "outputs": []
    },
    {
      "cell_type": "code",
      "source": [
        "# import os\n",
        "\n",
        "# # Check if there's a checkpoint file\n",
        "# checkpoint_file = 'checkpoint.txt'\n",
        "# if os.path.exists(checkpoint_file):\n",
        "#     os.remove(checkpoint_file)\n",
        "#     print(\"Previous checkpoint file deleted.\")\n",
        "# else:\n",
        "#     print(\"No previous checkpoint file found.\")\n"
      ],
      "metadata": {
        "id": "1TX7zRE_VwF_"
      },
      "execution_count": null,
      "outputs": []
    },
    {
      "cell_type": "code",
      "execution_count": 38,
      "metadata": {
        "id": "VwYhFEM1W8jy",
        "colab": {
          "base_uri": "https://localhost:8080/"
        },
        "outputId": "741ae597-9cc5-4149-e240-fcf6d1638368"
      },
      "outputs": [
        {
          "output_type": "execute_result",
          "data": {
            "text/plain": [
              "0       Supplement for welding a flat corner of an int...\n",
              "1       Supplement for welding of a vertical corner of...\n",
              "2       Supplement for welding of a flat T-piece of an...\n",
              "3       Zulage für die Schweißung eines senkrechten T-...\n",
              "4       Supplement for welding a flat crossing of an i...\n",
              "                              ...                        \n",
              "2003    Installation, maintenance, dismantling of the ...\n",
              "2004    Large area disassembly (Box/Gleitenleisenverba...\n",
              "2005    Large area disassembly (Box/Gleitenleisenverba...\n",
              "2006    Installation, maintenance, dismantling of the ...\n",
              "2007    Installation, maintenance, dismantling of the ...\n",
              "Name: LongText, Length: 2008, dtype: object"
            ]
          },
          "metadata": {},
          "execution_count": 38
        }
      ],
      "source": [
        "data_cleaned['LongText']"
      ]
    },
    {
      "cell_type": "code",
      "source": [
        "# # Assuming data_cleaned is your DataFrame\n",
        "# desktop_path = os.path.join(os.path.join(os.environ['USERPROFILE']), 'Desktop')\n",
        "# file_path = os.path.join(desktop_path, 'data_cleaned.xlsx')\n",
        "# data_cleaned.to_excel(file_path, index=False)\n",
        "# Assuming data_cleaned is your DataFrame\n",
        "# data_cleaned.to_excel('/content/drive/MyDrive/data_cleaned.xlsx', index=False)\n",
        "import pandas as pd\n",
        "\n",
        "# Read the updated translated data file\n",
        "import pandas as pd\n",
        "\n",
        "# Read the updated translated data file\n",
        "translated_data_file = '/content/drive/MyDrive/ArticleRecognition/Dataset/Translateddata.xlsx'  # Update with the correct path\n",
        "translated_data = pd.read_excel(translated_data_file)\n",
        "\n",
        "# Update the data_cleaned DataFrame with the translated data\n",
        "data_cleaned['LongText'] = translated_data['LongText']\n",
        "data_cleaned['PositionShortText'] = translated_data['PositionShortText']\n",
        "data_cleaned['Quantity'] = translated_data['Quantity']\n",
        "data_cleaned['ArticleNumber'] = translated_data['ArticleNumber']\n",
        "\n",
        "# Save the updated data_cleaned DataFrame as an Excel file\n",
        "data_cleaned.to_excel('/content/drive/MyDrive/data_cleaned_updated.xlsx', index=False)\n",
        "\n",
        "\n"
      ],
      "metadata": {
        "id": "o7lE_wwgnN98"
      },
      "execution_count": 43,
      "outputs": []
    },
    {
      "cell_type": "code",
      "source": [
        "data_cleaned"
      ],
      "metadata": {
        "colab": {
          "base_uri": "https://localhost:8080/",
          "height": 597
        },
        "id": "OZqQfaIRkeGn",
        "outputId": "3bf5b062-e9bc-4477-cb9e-5f906d99aa90"
      },
      "execution_count": 47,
      "outputs": [
        {
          "output_type": "execute_result",
          "data": {
            "text/plain": [
              "                                      PositionShortText  \\\n",
              "0          Welding allowance flat corner, PVC-P, SFD 24   \n",
              "1     Supplement Welding vertical corner, PVC-P, SFD 24   \n",
              "2        Supplement Welding flat T-piece, PVC-P, SFD 24   \n",
              "3     Supplement Welding vertical T-piece, PVC-P, SF...   \n",
              "4       Supplement Welding flat crossing, PVC-P, SFD 24   \n",
              "...                                                 ...   \n",
              "2003                        Construction site equipment   \n",
              "2004                   Installation (Box/Gleitenverbau)   \n",
              "2005                   Installation (Box/Gleitenverbau)   \n",
              "2006                        Construction site equipment   \n",
              "2007                        Construction site equipment   \n",
              "\n",
              "                                               LongText  ArticleNumber  \\\n",
              "0     Supplement for welding a flat corner of an int...  K141011032000   \n",
              "1     Supplement for welding of a vertical corner of...  K141011032100   \n",
              "2     Supplement for welding of a flat T-piece of an...  K141011032200   \n",
              "3     Supplement for welding of a vertical T-piece o...  K141011032300   \n",
              "4     Supplement for welding a flat crossing of an i...  K141011032400   \n",
              "...                                                 ...            ...   \n",
              "2003  Installation, maintenance, dismantling of the ...             MK   \n",
              "2004  Large area disassembly (Box/Gleitenleisenverba...           3303   \n",
              "2005  Large area disassembly (Box/Gleitenleisenverba...           3303   \n",
              "2006  Installation, maintenance, dismantling of the ...             BC   \n",
              "2007  Installation, maintenance, dismantling of the ...             BC   \n",
              "\n",
              "      Quantity  \n",
              "0          1.0  \n",
              "1          1.0  \n",
              "2          1.0  \n",
              "3          1.0  \n",
              "4          1.0  \n",
              "...        ...  \n",
              "2003       2.0  \n",
              "2004    2000.0  \n",
              "2005    2000.0  \n",
              "2006       2.0  \n",
              "2007       2.0  \n",
              "\n",
              "[2008 rows x 4 columns]"
            ],
            "text/html": [
              "\n",
              "  <div id=\"df-b799548a-da07-4964-95c1-e87885b20fec\" class=\"colab-df-container\">\n",
              "    <div>\n",
              "<style scoped>\n",
              "    .dataframe tbody tr th:only-of-type {\n",
              "        vertical-align: middle;\n",
              "    }\n",
              "\n",
              "    .dataframe tbody tr th {\n",
              "        vertical-align: top;\n",
              "    }\n",
              "\n",
              "    .dataframe thead th {\n",
              "        text-align: right;\n",
              "    }\n",
              "</style>\n",
              "<table border=\"1\" class=\"dataframe\">\n",
              "  <thead>\n",
              "    <tr style=\"text-align: right;\">\n",
              "      <th></th>\n",
              "      <th>PositionShortText</th>\n",
              "      <th>LongText</th>\n",
              "      <th>ArticleNumber</th>\n",
              "      <th>Quantity</th>\n",
              "    </tr>\n",
              "  </thead>\n",
              "  <tbody>\n",
              "    <tr>\n",
              "      <th>0</th>\n",
              "      <td>Welding allowance flat corner, PVC-P, SFD 24</td>\n",
              "      <td>Supplement for welding a flat corner of an int...</td>\n",
              "      <td>K141011032000</td>\n",
              "      <td>1.0</td>\n",
              "    </tr>\n",
              "    <tr>\n",
              "      <th>1</th>\n",
              "      <td>Supplement Welding vertical corner, PVC-P, SFD 24</td>\n",
              "      <td>Supplement for welding of a vertical corner of...</td>\n",
              "      <td>K141011032100</td>\n",
              "      <td>1.0</td>\n",
              "    </tr>\n",
              "    <tr>\n",
              "      <th>2</th>\n",
              "      <td>Supplement Welding flat T-piece, PVC-P, SFD 24</td>\n",
              "      <td>Supplement for welding of a flat T-piece of an...</td>\n",
              "      <td>K141011032200</td>\n",
              "      <td>1.0</td>\n",
              "    </tr>\n",
              "    <tr>\n",
              "      <th>3</th>\n",
              "      <td>Supplement Welding vertical T-piece, PVC-P, SF...</td>\n",
              "      <td>Supplement for welding of a vertical T-piece o...</td>\n",
              "      <td>K141011032300</td>\n",
              "      <td>1.0</td>\n",
              "    </tr>\n",
              "    <tr>\n",
              "      <th>4</th>\n",
              "      <td>Supplement Welding flat crossing, PVC-P, SFD 24</td>\n",
              "      <td>Supplement for welding a flat crossing of an i...</td>\n",
              "      <td>K141011032400</td>\n",
              "      <td>1.0</td>\n",
              "    </tr>\n",
              "    <tr>\n",
              "      <th>...</th>\n",
              "      <td>...</td>\n",
              "      <td>...</td>\n",
              "      <td>...</td>\n",
              "      <td>...</td>\n",
              "    </tr>\n",
              "    <tr>\n",
              "      <th>2003</th>\n",
              "      <td>Construction site equipment</td>\n",
              "      <td>Installation, maintenance, dismantling of the ...</td>\n",
              "      <td>MK</td>\n",
              "      <td>2.0</td>\n",
              "    </tr>\n",
              "    <tr>\n",
              "      <th>2004</th>\n",
              "      <td>Installation (Box/Gleitenverbau)</td>\n",
              "      <td>Large area disassembly (Box/Gleitenleisenverba...</td>\n",
              "      <td>3303</td>\n",
              "      <td>2000.0</td>\n",
              "    </tr>\n",
              "    <tr>\n",
              "      <th>2005</th>\n",
              "      <td>Installation (Box/Gleitenverbau)</td>\n",
              "      <td>Large area disassembly (Box/Gleitenleisenverba...</td>\n",
              "      <td>3303</td>\n",
              "      <td>2000.0</td>\n",
              "    </tr>\n",
              "    <tr>\n",
              "      <th>2006</th>\n",
              "      <td>Construction site equipment</td>\n",
              "      <td>Installation, maintenance, dismantling of the ...</td>\n",
              "      <td>BC</td>\n",
              "      <td>2.0</td>\n",
              "    </tr>\n",
              "    <tr>\n",
              "      <th>2007</th>\n",
              "      <td>Construction site equipment</td>\n",
              "      <td>Installation, maintenance, dismantling of the ...</td>\n",
              "      <td>BC</td>\n",
              "      <td>2.0</td>\n",
              "    </tr>\n",
              "  </tbody>\n",
              "</table>\n",
              "<p>2008 rows × 4 columns</p>\n",
              "</div>\n",
              "    <div class=\"colab-df-buttons\">\n",
              "\n",
              "  <div class=\"colab-df-container\">\n",
              "    <button class=\"colab-df-convert\" onclick=\"convertToInteractive('df-b799548a-da07-4964-95c1-e87885b20fec')\"\n",
              "            title=\"Convert this dataframe to an interactive table.\"\n",
              "            style=\"display:none;\">\n",
              "\n",
              "  <svg xmlns=\"http://www.w3.org/2000/svg\" height=\"24px\" viewBox=\"0 -960 960 960\">\n",
              "    <path d=\"M120-120v-720h720v720H120Zm60-500h600v-160H180v160Zm220 220h160v-160H400v160Zm0 220h160v-160H400v160ZM180-400h160v-160H180v160Zm440 0h160v-160H620v160ZM180-180h160v-160H180v160Zm440 0h160v-160H620v160Z\"/>\n",
              "  </svg>\n",
              "    </button>\n",
              "\n",
              "  <style>\n",
              "    .colab-df-container {\n",
              "      display:flex;\n",
              "      gap: 12px;\n",
              "    }\n",
              "\n",
              "    .colab-df-convert {\n",
              "      background-color: #E8F0FE;\n",
              "      border: none;\n",
              "      border-radius: 50%;\n",
              "      cursor: pointer;\n",
              "      display: none;\n",
              "      fill: #1967D2;\n",
              "      height: 32px;\n",
              "      padding: 0 0 0 0;\n",
              "      width: 32px;\n",
              "    }\n",
              "\n",
              "    .colab-df-convert:hover {\n",
              "      background-color: #E2EBFA;\n",
              "      box-shadow: 0px 1px 2px rgba(60, 64, 67, 0.3), 0px 1px 3px 1px rgba(60, 64, 67, 0.15);\n",
              "      fill: #174EA6;\n",
              "    }\n",
              "\n",
              "    .colab-df-buttons div {\n",
              "      margin-bottom: 4px;\n",
              "    }\n",
              "\n",
              "    [theme=dark] .colab-df-convert {\n",
              "      background-color: #3B4455;\n",
              "      fill: #D2E3FC;\n",
              "    }\n",
              "\n",
              "    [theme=dark] .colab-df-convert:hover {\n",
              "      background-color: #434B5C;\n",
              "      box-shadow: 0px 1px 3px 1px rgba(0, 0, 0, 0.15);\n",
              "      filter: drop-shadow(0px 1px 2px rgba(0, 0, 0, 0.3));\n",
              "      fill: #FFFFFF;\n",
              "    }\n",
              "  </style>\n",
              "\n",
              "    <script>\n",
              "      const buttonEl =\n",
              "        document.querySelector('#df-b799548a-da07-4964-95c1-e87885b20fec button.colab-df-convert');\n",
              "      buttonEl.style.display =\n",
              "        google.colab.kernel.accessAllowed ? 'block' : 'none';\n",
              "\n",
              "      async function convertToInteractive(key) {\n",
              "        const element = document.querySelector('#df-b799548a-da07-4964-95c1-e87885b20fec');\n",
              "        const dataTable =\n",
              "          await google.colab.kernel.invokeFunction('convertToInteractive',\n",
              "                                                    [key], {});\n",
              "        if (!dataTable) return;\n",
              "\n",
              "        const docLinkHtml = 'Like what you see? Visit the ' +\n",
              "          '<a target=\"_blank\" href=https://colab.research.google.com/notebooks/data_table.ipynb>data table notebook</a>'\n",
              "          + ' to learn more about interactive tables.';\n",
              "        element.innerHTML = '';\n",
              "        dataTable['output_type'] = 'display_data';\n",
              "        await google.colab.output.renderOutput(dataTable, element);\n",
              "        const docLink = document.createElement('div');\n",
              "        docLink.innerHTML = docLinkHtml;\n",
              "        element.appendChild(docLink);\n",
              "      }\n",
              "    </script>\n",
              "  </div>\n",
              "\n",
              "\n",
              "<div id=\"df-7006eaa4-22e3-489d-aff2-608c5de1dfe2\">\n",
              "  <button class=\"colab-df-quickchart\" onclick=\"quickchart('df-7006eaa4-22e3-489d-aff2-608c5de1dfe2')\"\n",
              "            title=\"Suggest charts\"\n",
              "            style=\"display:none;\">\n",
              "\n",
              "<svg xmlns=\"http://www.w3.org/2000/svg\" height=\"24px\"viewBox=\"0 0 24 24\"\n",
              "     width=\"24px\">\n",
              "    <g>\n",
              "        <path d=\"M19 3H5c-1.1 0-2 .9-2 2v14c0 1.1.9 2 2 2h14c1.1 0 2-.9 2-2V5c0-1.1-.9-2-2-2zM9 17H7v-7h2v7zm4 0h-2V7h2v10zm4 0h-2v-4h2v4z\"/>\n",
              "    </g>\n",
              "</svg>\n",
              "  </button>\n",
              "\n",
              "<style>\n",
              "  .colab-df-quickchart {\n",
              "      --bg-color: #E8F0FE;\n",
              "      --fill-color: #1967D2;\n",
              "      --hover-bg-color: #E2EBFA;\n",
              "      --hover-fill-color: #174EA6;\n",
              "      --disabled-fill-color: #AAA;\n",
              "      --disabled-bg-color: #DDD;\n",
              "  }\n",
              "\n",
              "  [theme=dark] .colab-df-quickchart {\n",
              "      --bg-color: #3B4455;\n",
              "      --fill-color: #D2E3FC;\n",
              "      --hover-bg-color: #434B5C;\n",
              "      --hover-fill-color: #FFFFFF;\n",
              "      --disabled-bg-color: #3B4455;\n",
              "      --disabled-fill-color: #666;\n",
              "  }\n",
              "\n",
              "  .colab-df-quickchart {\n",
              "    background-color: var(--bg-color);\n",
              "    border: none;\n",
              "    border-radius: 50%;\n",
              "    cursor: pointer;\n",
              "    display: none;\n",
              "    fill: var(--fill-color);\n",
              "    height: 32px;\n",
              "    padding: 0;\n",
              "    width: 32px;\n",
              "  }\n",
              "\n",
              "  .colab-df-quickchart:hover {\n",
              "    background-color: var(--hover-bg-color);\n",
              "    box-shadow: 0 1px 2px rgba(60, 64, 67, 0.3), 0 1px 3px 1px rgba(60, 64, 67, 0.15);\n",
              "    fill: var(--button-hover-fill-color);\n",
              "  }\n",
              "\n",
              "  .colab-df-quickchart-complete:disabled,\n",
              "  .colab-df-quickchart-complete:disabled:hover {\n",
              "    background-color: var(--disabled-bg-color);\n",
              "    fill: var(--disabled-fill-color);\n",
              "    box-shadow: none;\n",
              "  }\n",
              "\n",
              "  .colab-df-spinner {\n",
              "    border: 2px solid var(--fill-color);\n",
              "    border-color: transparent;\n",
              "    border-bottom-color: var(--fill-color);\n",
              "    animation:\n",
              "      spin 1s steps(1) infinite;\n",
              "  }\n",
              "\n",
              "  @keyframes spin {\n",
              "    0% {\n",
              "      border-color: transparent;\n",
              "      border-bottom-color: var(--fill-color);\n",
              "      border-left-color: var(--fill-color);\n",
              "    }\n",
              "    20% {\n",
              "      border-color: transparent;\n",
              "      border-left-color: var(--fill-color);\n",
              "      border-top-color: var(--fill-color);\n",
              "    }\n",
              "    30% {\n",
              "      border-color: transparent;\n",
              "      border-left-color: var(--fill-color);\n",
              "      border-top-color: var(--fill-color);\n",
              "      border-right-color: var(--fill-color);\n",
              "    }\n",
              "    40% {\n",
              "      border-color: transparent;\n",
              "      border-right-color: var(--fill-color);\n",
              "      border-top-color: var(--fill-color);\n",
              "    }\n",
              "    60% {\n",
              "      border-color: transparent;\n",
              "      border-right-color: var(--fill-color);\n",
              "    }\n",
              "    80% {\n",
              "      border-color: transparent;\n",
              "      border-right-color: var(--fill-color);\n",
              "      border-bottom-color: var(--fill-color);\n",
              "    }\n",
              "    90% {\n",
              "      border-color: transparent;\n",
              "      border-bottom-color: var(--fill-color);\n",
              "    }\n",
              "  }\n",
              "</style>\n",
              "\n",
              "  <script>\n",
              "    async function quickchart(key) {\n",
              "      const quickchartButtonEl =\n",
              "        document.querySelector('#' + key + ' button');\n",
              "      quickchartButtonEl.disabled = true;  // To prevent multiple clicks.\n",
              "      quickchartButtonEl.classList.add('colab-df-spinner');\n",
              "      try {\n",
              "        const charts = await google.colab.kernel.invokeFunction(\n",
              "            'suggestCharts', [key], {});\n",
              "      } catch (error) {\n",
              "        console.error('Error during call to suggestCharts:', error);\n",
              "      }\n",
              "      quickchartButtonEl.classList.remove('colab-df-spinner');\n",
              "      quickchartButtonEl.classList.add('colab-df-quickchart-complete');\n",
              "    }\n",
              "    (() => {\n",
              "      let quickchartButtonEl =\n",
              "        document.querySelector('#df-7006eaa4-22e3-489d-aff2-608c5de1dfe2 button');\n",
              "      quickchartButtonEl.style.display =\n",
              "        google.colab.kernel.accessAllowed ? 'block' : 'none';\n",
              "    })();\n",
              "  </script>\n",
              "</div>\n",
              "\n",
              "  <div id=\"id_045bd5f8-c8d7-42b9-8dde-2d5051f32213\">\n",
              "    <style>\n",
              "      .colab-df-generate {\n",
              "        background-color: #E8F0FE;\n",
              "        border: none;\n",
              "        border-radius: 50%;\n",
              "        cursor: pointer;\n",
              "        display: none;\n",
              "        fill: #1967D2;\n",
              "        height: 32px;\n",
              "        padding: 0 0 0 0;\n",
              "        width: 32px;\n",
              "      }\n",
              "\n",
              "      .colab-df-generate:hover {\n",
              "        background-color: #E2EBFA;\n",
              "        box-shadow: 0px 1px 2px rgba(60, 64, 67, 0.3), 0px 1px 3px 1px rgba(60, 64, 67, 0.15);\n",
              "        fill: #174EA6;\n",
              "      }\n",
              "\n",
              "      [theme=dark] .colab-df-generate {\n",
              "        background-color: #3B4455;\n",
              "        fill: #D2E3FC;\n",
              "      }\n",
              "\n",
              "      [theme=dark] .colab-df-generate:hover {\n",
              "        background-color: #434B5C;\n",
              "        box-shadow: 0px 1px 3px 1px rgba(0, 0, 0, 0.15);\n",
              "        filter: drop-shadow(0px 1px 2px rgba(0, 0, 0, 0.3));\n",
              "        fill: #FFFFFF;\n",
              "      }\n",
              "    </style>\n",
              "    <button class=\"colab-df-generate\" onclick=\"generateWithVariable('data_cleaned')\"\n",
              "            title=\"Generate code using this dataframe.\"\n",
              "            style=\"display:none;\">\n",
              "\n",
              "  <svg xmlns=\"http://www.w3.org/2000/svg\" height=\"24px\"viewBox=\"0 0 24 24\"\n",
              "       width=\"24px\">\n",
              "    <path d=\"M7,19H8.4L18.45,9,17,7.55,7,17.6ZM5,21V16.75L18.45,3.32a2,2,0,0,1,2.83,0l1.4,1.43a1.91,1.91,0,0,1,.58,1.4,1.91,1.91,0,0,1-.58,1.4L9.25,21ZM18.45,9,17,7.55Zm-12,3A5.31,5.31,0,0,0,4.9,8.1,5.31,5.31,0,0,0,1,6.5,5.31,5.31,0,0,0,4.9,4.9,5.31,5.31,0,0,0,6.5,1,5.31,5.31,0,0,0,8.1,4.9,5.31,5.31,0,0,0,12,6.5,5.46,5.46,0,0,0,6.5,12Z\"/>\n",
              "  </svg>\n",
              "    </button>\n",
              "    <script>\n",
              "      (() => {\n",
              "      const buttonEl =\n",
              "        document.querySelector('#id_045bd5f8-c8d7-42b9-8dde-2d5051f32213 button.colab-df-generate');\n",
              "      buttonEl.style.display =\n",
              "        google.colab.kernel.accessAllowed ? 'block' : 'none';\n",
              "\n",
              "      buttonEl.onclick = () => {\n",
              "        google.colab.notebook.generateWithVariable('data_cleaned');\n",
              "      }\n",
              "      })();\n",
              "    </script>\n",
              "  </div>\n",
              "\n",
              "    </div>\n",
              "  </div>\n"
            ],
            "application/vnd.google.colaboratory.intrinsic+json": {
              "type": "dataframe",
              "variable_name": "data_cleaned",
              "summary": "{\n  \"name\": \"data_cleaned\",\n  \"rows\": 2008,\n  \"fields\": [\n    {\n      \"column\": \"PositionShortText\",\n      \"properties\": {\n        \"dtype\": \"category\",\n        \"samples\": [\n          \"Prov. waterproof sealing of the pipe end pieces DN 100-150\",\n          \"Reinforced concrete outer wall, inner wall in concrete C 20/25, d=20-30cm, pump large quantity\",\n          \"Classroom facade, west wing 1st floor\"\n        ],\n        \"num_unique_values\": 315,\n        \"semantic_type\": \"\",\n        \"description\": \"\"\n      }\n    },\n    {\n      \"column\": \"LongText\",\n      \"properties\": {\n        \"dtype\": \"category\",\n        \"samples\": [\n          \"Delivery and with auto crane according to the manufacturer assembly of a 1/4-turned, 7-stage reinforced concrete precast staircase in B25, approx.17.5*27cm, d=16cm, b<0.80m\",\n          \"12,000 shaft ring with socket (SR-M) DIN V 4034-1, DIN EN 1917, DN 1000, without crampons, gasket made of elastomers, height 500 mm\",\n          \"Make the fence as a mesh wire fence with posts at distance a=4.0 m and remove it after completion of work. Height 1.0 m Preservation: weeks\"\n        ],\n        \"num_unique_values\": 280,\n        \"semantic_type\": \"\",\n        \"description\": \"\"\n      }\n    },\n    {\n      \"column\": \"ArticleNumber\",\n      \"properties\": {\n        \"dtype\": \"category\",\n        \"samples\": [\n          \"2110-077\",\n          \"2140-1061\",\n          21310400\n        ],\n        \"num_unique_values\": 306,\n        \"semantic_type\": \"\",\n        \"description\": \"\"\n      }\n    },\n    {\n      \"column\": \"Quantity\",\n      \"properties\": {\n        \"dtype\": \"number\",\n        \"std\": 39263.59696876525,\n        \"min\": -22.75,\n        \"max\": 841620.0,\n        \"samples\": [\n          0.96,\n          2.5344,\n          6.72\n        ],\n        \"num_unique_values\": 405,\n        \"semantic_type\": \"\",\n        \"description\": \"\"\n      }\n    }\n  ]\n}"
            }
          },
          "metadata": {},
          "execution_count": 47
        }
      ]
    },
    {
      "cell_type": "code",
      "execution_count": null,
      "metadata": {
        "id": "fG-wpHFMdDFc"
      },
      "outputs": [],
      "source": [
        "# Creating a New Sheet with translated data\n",
        "# data.to_excel('/content/drive/MyDrive/ArticleRecognition/Dataset/ArticleExtraction.xlsx', sheet_name='Translated Data', index=False)"
      ]
    },
    {
      "cell_type": "markdown",
      "source": [
        "## Lowercasing"
      ],
      "metadata": {
        "id": "2KXeIqxrhYRZ"
      }
    },
    {
      "cell_type": "code",
      "source": [
        "# Convert all string columns to lowercase\n",
        "data_cleaned = data_cleaned.applymap(lambda x: x.lower() if isinstance(x, str) else x)\n"
      ],
      "metadata": {
        "id": "jbZ4Z16UsHAe"
      },
      "execution_count": 49,
      "outputs": []
    },
    {
      "cell_type": "markdown",
      "source": [
        "## Removing Punctuation and Special Words"
      ],
      "metadata": {
        "id": "h6MHeO3Thams"
      }
    },
    {
      "cell_type": "code",
      "source": [
        "import re\n",
        "\n",
        "# Remove punctuation and special characters from 'LongText' column\n",
        "data_cleaned['LongText'] = data_cleaned['LongText'].apply(lambda x: re.sub(r'[^\\w\\s]', '', x))\n",
        "\n",
        "# Remove punctuation and special characters from 'PositionShortText' column\n",
        "data_cleaned['PositionShortText'] = data_cleaned['PositionShortText'].apply(lambda x: re.sub(r'[^\\w\\s]', '', x))\n"
      ],
      "metadata": {
        "id": "-iIMgBLQs1ne"
      },
      "execution_count": 51,
      "outputs": []
    },
    {
      "cell_type": "code",
      "source": [
        "# import re\n",
        "\n",
        "# # Function to check if any special characters or punctuation exist in a string\n",
        "# def has_special_characters(text):\n",
        "#     pattern = r'[^\\w\\s]'\n",
        "#     return bool(re.search(pattern, text))\n",
        "\n",
        "# # Check 'LongText' column for special characters or punctuation\n",
        "# has_special_long_text = data_cleaned['LongText'].apply(has_special_characters).any()\n",
        "\n",
        "# # Check 'PositionShortText' column for special characters or punctuation\n",
        "# has_special_short_text = data_cleaned['PositionShortText'].apply(has_special_characters).any()\n",
        "\n",
        "# # Print the results\n",
        "# print(f\"Special characters or punctuation in 'LongText': {has_special_long_text}\")\n",
        "# print(f\"Special characters or punctuation in 'PositionShortText': {has_special_short_text}\")\n"
      ],
      "metadata": {
        "colab": {
          "base_uri": "https://localhost:8080/"
        },
        "id": "MBBiQOPftbml",
        "outputId": "3c743bb4-97cf-46a2-cf1f-c4f1115eb3fd"
      },
      "execution_count": 52,
      "outputs": [
        {
          "output_type": "stream",
          "name": "stdout",
          "text": [
            "Special characters or punctuation in 'LongText': False\n",
            "Special characters or punctuation in 'PositionShortText': False\n"
          ]
        }
      ]
    },
    {
      "cell_type": "markdown",
      "source": [
        "## Removing Stopwords"
      ],
      "metadata": {
        "id": "S6HROSxIhjCF"
      }
    },
    {
      "cell_type": "code",
      "source": [
        "import nltk\n",
        "nltk.download('punkt')\n",
        "\n"
      ],
      "metadata": {
        "colab": {
          "base_uri": "https://localhost:8080/"
        },
        "id": "KXBaZ8sztebA",
        "outputId": "4a389218-000c-4c8f-bbb1-b7548e8fd60e"
      },
      "execution_count": 54,
      "outputs": [
        {
          "output_type": "stream",
          "name": "stderr",
          "text": [
            "[nltk_data] Downloading package punkt to /root/nltk_data...\n",
            "[nltk_data]   Unzipping tokenizers/punkt.zip.\n"
          ]
        },
        {
          "output_type": "execute_result",
          "data": {
            "text/plain": [
              "True"
            ]
          },
          "metadata": {},
          "execution_count": 54
        }
      ]
    },
    {
      "cell_type": "code",
      "source": [
        "import nltk\n",
        "from nltk.corpus import stopwords\n",
        "from nltk.tokenize import word_tokenize\n",
        "\n",
        "# Download stopwords list if not already downloaded\n",
        "nltk.download('stopwords')\n",
        "\n",
        "# Get the set of English stopwords\n",
        "stop_words = set(stopwords.words('english'))\n",
        "\n",
        "# Function to remove stopwords from text\n",
        "def remove_stopwords(text):\n",
        "    tokens = word_tokenize(text)\n",
        "    filtered_tokens = [word for word in tokens if word.lower() not in stop_words]\n",
        "    return ' '.join(filtered_tokens)\n",
        "\n",
        "# Remove stopwords from 'LongText' column\n",
        "data_cleaned['LongText'] = data_cleaned['LongText'].apply(remove_stopwords)\n",
        "\n",
        "# Remove stopwords from 'PositionShortText' column\n",
        "data_cleaned['PositionShortText'] = data_cleaned['PositionShortText'].apply(remove_stopwords)\n"
      ],
      "metadata": {
        "colab": {
          "base_uri": "https://localhost:8080/"
        },
        "id": "p-aJ7lHpuU0F",
        "outputId": "9e41c514-abc8-487a-c0c8-6040fdc5fd9c"
      },
      "execution_count": 55,
      "outputs": [
        {
          "output_type": "stream",
          "name": "stderr",
          "text": [
            "[nltk_data] Downloading package stopwords to /root/nltk_data...\n",
            "[nltk_data]   Package stopwords is already up-to-date!\n"
          ]
        }
      ]
    },
    {
      "cell_type": "code",
      "source": [
        "nltk.download('wordnet')"
      ],
      "metadata": {
        "colab": {
          "base_uri": "https://localhost:8080/"
        },
        "id": "b3_AkjBbufO0",
        "outputId": "8d2dfa6a-6023-4368-9ec1-428f57d8c8bb"
      },
      "execution_count": 57,
      "outputs": [
        {
          "output_type": "stream",
          "name": "stderr",
          "text": [
            "[nltk_data] Downloading package wordnet to /root/nltk_data...\n"
          ]
        },
        {
          "output_type": "execute_result",
          "data": {
            "text/plain": [
              "True"
            ]
          },
          "metadata": {},
          "execution_count": 57
        }
      ]
    },
    {
      "cell_type": "markdown",
      "source": [
        "## Lemmetization"
      ],
      "metadata": {
        "id": "0xcd5h1AhpFC"
      }
    },
    {
      "cell_type": "code",
      "source": [
        "import nltk\n",
        "from nltk.corpus import wordnet\n",
        "from nltk.stem import WordNetLemmatizer\n",
        "\n",
        "# Initialize WordNet Lemmatizer\n",
        "lemmatizer = WordNetLemmatizer()\n",
        "\n",
        "# Function to lemmatize text\n",
        "def lemmatize_text(text):\n",
        "    tokens = nltk.word_tokenize(text)\n",
        "    lemmatized_tokens = [lemmatizer.lemmatize(token, wordnet.VERB) for token in tokens]  # Lemmatize verbs\n",
        "    lemmatized_text = ' '.join(lemmatized_tokens)\n",
        "    return lemmatized_text\n",
        "\n",
        "# Lemmatize 'LongText' column\n",
        "data_cleaned['LongText'] = data_cleaned['LongText'].apply(lemmatize_text)\n",
        "\n",
        "# Lemmatize 'PositionShortText' column\n",
        "data_cleaned['PositionShortText'] = data_cleaned['PositionShortText'].apply(lemmatize_text)\n"
      ],
      "metadata": {
        "id": "yKnMcUKtvSWD"
      },
      "execution_count": 58,
      "outputs": []
    },
    {
      "cell_type": "markdown",
      "source": [
        "## Tokenization"
      ],
      "metadata": {
        "id": "2Lg01nH2htKW"
      }
    },
    {
      "cell_type": "code",
      "source": [
        "import nltk\n",
        "from nltk.tokenize import word_tokenize\n",
        "\n",
        "# Tokenize 'LongText' column\n",
        "data_cleaned['LongText_tokens'] = data_cleaned['LongText'].apply(word_tokenize)\n",
        "\n",
        "# Tokenize 'PositionShortText' column\n",
        "data_cleaned['PositionShortText_tokens'] = data_cleaned['PositionShortText'].apply(word_tokenize)\n"
      ],
      "metadata": {
        "id": "4iNND2dlvm1D"
      },
      "execution_count": 59,
      "outputs": []
    },
    {
      "cell_type": "code",
      "source": [
        "data_cleaned\n"
      ],
      "metadata": {
        "colab": {
          "base_uri": "https://localhost:8080/",
          "height": 825
        },
        "id": "9kLzqu6gvoyI",
        "outputId": "1ca1dde0-18ce-43fa-8021-163838891b11"
      },
      "execution_count": 60,
      "outputs": [
        {
          "output_type": "execute_result",
          "data": {
            "text/plain": [
              "                                PositionShortText  \\\n",
              "0          weld allowance flat corner pvcp sfd 24   \n",
              "1     supplement weld vertical corner pvcp sfd 24   \n",
              "2         supplement weld flat tpiece pvcp sfd 24   \n",
              "3     supplement weld vertical tpiece pvcp sfd 24   \n",
              "4          supplement weld flat cross pvcp sfd 24   \n",
              "...                                           ...   \n",
              "2003                  construction site equipment   \n",
              "2004                installation boxgleitenverbau   \n",
              "2005                installation boxgleitenverbau   \n",
              "2006                  construction site equipment   \n",
              "2007                  construction site equipment   \n",
              "\n",
              "                                               LongText  ArticleNumber  \\\n",
              "0     supplement weld flat corner internal expansion...  k141011032000   \n",
              "1     supplement weld vertical corner internal expan...  k141011032100   \n",
              "2     supplement weld flat tpiece internal expansion...  k141011032200   \n",
              "3     supplement weld vertical tpiece internal expan...  k141011032300   \n",
              "4     supplement weld flat cross internal expansion ...  k141011032400   \n",
              "...                                                 ...            ...   \n",
              "2003  installation maintenance dismantle constructio...             mk   \n",
              "2004  large area disassembly boxgleitenleisenverbau ...           3303   \n",
              "2005  large area disassembly boxgleitenleisenverbau ...           3303   \n",
              "2006  installation maintenance dismantle constructio...             bc   \n",
              "2007  installation maintenance dismantle constructio...             bc   \n",
              "\n",
              "      Quantity                                    LongText_tokens  \\\n",
              "0          1.0  [supplement, weld, flat, corner, internal, exp...   \n",
              "1          1.0  [supplement, weld, vertical, corner, internal,...   \n",
              "2          1.0  [supplement, weld, flat, tpiece, internal, exp...   \n",
              "3          1.0  [supplement, weld, vertical, tpiece, internal,...   \n",
              "4          1.0  [supplement, weld, flat, cross, internal, expa...   \n",
              "...        ...                                                ...   \n",
              "2003       2.0  [installation, maintenance, dismantle, constru...   \n",
              "2004    2000.0  [large, area, disassembly, boxgleitenleisenver...   \n",
              "2005    2000.0  [large, area, disassembly, boxgleitenleisenver...   \n",
              "2006       2.0  [installation, maintenance, dismantle, constru...   \n",
              "2007       2.0  [installation, maintenance, dismantle, constru...   \n",
              "\n",
              "                               PositionShortText_tokens  \n",
              "0        [weld, allowance, flat, corner, pvcp, sfd, 24]  \n",
              "1     [supplement, weld, vertical, corner, pvcp, sfd...  \n",
              "2       [supplement, weld, flat, tpiece, pvcp, sfd, 24]  \n",
              "3     [supplement, weld, vertical, tpiece, pvcp, sfd...  \n",
              "4        [supplement, weld, flat, cross, pvcp, sfd, 24]  \n",
              "...                                                 ...  \n",
              "2003                    [construction, site, equipment]  \n",
              "2004                   [installation, boxgleitenverbau]  \n",
              "2005                   [installation, boxgleitenverbau]  \n",
              "2006                    [construction, site, equipment]  \n",
              "2007                    [construction, site, equipment]  \n",
              "\n",
              "[2008 rows x 6 columns]"
            ],
            "text/html": [
              "\n",
              "  <div id=\"df-9d656628-7702-4c63-910c-903c5595b0a5\" class=\"colab-df-container\">\n",
              "    <div>\n",
              "<style scoped>\n",
              "    .dataframe tbody tr th:only-of-type {\n",
              "        vertical-align: middle;\n",
              "    }\n",
              "\n",
              "    .dataframe tbody tr th {\n",
              "        vertical-align: top;\n",
              "    }\n",
              "\n",
              "    .dataframe thead th {\n",
              "        text-align: right;\n",
              "    }\n",
              "</style>\n",
              "<table border=\"1\" class=\"dataframe\">\n",
              "  <thead>\n",
              "    <tr style=\"text-align: right;\">\n",
              "      <th></th>\n",
              "      <th>PositionShortText</th>\n",
              "      <th>LongText</th>\n",
              "      <th>ArticleNumber</th>\n",
              "      <th>Quantity</th>\n",
              "      <th>LongText_tokens</th>\n",
              "      <th>PositionShortText_tokens</th>\n",
              "    </tr>\n",
              "  </thead>\n",
              "  <tbody>\n",
              "    <tr>\n",
              "      <th>0</th>\n",
              "      <td>weld allowance flat corner pvcp sfd 24</td>\n",
              "      <td>supplement weld flat corner internal expansion...</td>\n",
              "      <td>k141011032000</td>\n",
              "      <td>1.0</td>\n",
              "      <td>[supplement, weld, flat, corner, internal, exp...</td>\n",
              "      <td>[weld, allowance, flat, corner, pvcp, sfd, 24]</td>\n",
              "    </tr>\n",
              "    <tr>\n",
              "      <th>1</th>\n",
              "      <td>supplement weld vertical corner pvcp sfd 24</td>\n",
              "      <td>supplement weld vertical corner internal expan...</td>\n",
              "      <td>k141011032100</td>\n",
              "      <td>1.0</td>\n",
              "      <td>[supplement, weld, vertical, corner, internal,...</td>\n",
              "      <td>[supplement, weld, vertical, corner, pvcp, sfd...</td>\n",
              "    </tr>\n",
              "    <tr>\n",
              "      <th>2</th>\n",
              "      <td>supplement weld flat tpiece pvcp sfd 24</td>\n",
              "      <td>supplement weld flat tpiece internal expansion...</td>\n",
              "      <td>k141011032200</td>\n",
              "      <td>1.0</td>\n",
              "      <td>[supplement, weld, flat, tpiece, internal, exp...</td>\n",
              "      <td>[supplement, weld, flat, tpiece, pvcp, sfd, 24]</td>\n",
              "    </tr>\n",
              "    <tr>\n",
              "      <th>3</th>\n",
              "      <td>supplement weld vertical tpiece pvcp sfd 24</td>\n",
              "      <td>supplement weld vertical tpiece internal expan...</td>\n",
              "      <td>k141011032300</td>\n",
              "      <td>1.0</td>\n",
              "      <td>[supplement, weld, vertical, tpiece, internal,...</td>\n",
              "      <td>[supplement, weld, vertical, tpiece, pvcp, sfd...</td>\n",
              "    </tr>\n",
              "    <tr>\n",
              "      <th>4</th>\n",
              "      <td>supplement weld flat cross pvcp sfd 24</td>\n",
              "      <td>supplement weld flat cross internal expansion ...</td>\n",
              "      <td>k141011032400</td>\n",
              "      <td>1.0</td>\n",
              "      <td>[supplement, weld, flat, cross, internal, expa...</td>\n",
              "      <td>[supplement, weld, flat, cross, pvcp, sfd, 24]</td>\n",
              "    </tr>\n",
              "    <tr>\n",
              "      <th>...</th>\n",
              "      <td>...</td>\n",
              "      <td>...</td>\n",
              "      <td>...</td>\n",
              "      <td>...</td>\n",
              "      <td>...</td>\n",
              "      <td>...</td>\n",
              "    </tr>\n",
              "    <tr>\n",
              "      <th>2003</th>\n",
              "      <td>construction site equipment</td>\n",
              "      <td>installation maintenance dismantle constructio...</td>\n",
              "      <td>mk</td>\n",
              "      <td>2.0</td>\n",
              "      <td>[installation, maintenance, dismantle, constru...</td>\n",
              "      <td>[construction, site, equipment]</td>\n",
              "    </tr>\n",
              "    <tr>\n",
              "      <th>2004</th>\n",
              "      <td>installation boxgleitenverbau</td>\n",
              "      <td>large area disassembly boxgleitenleisenverbau ...</td>\n",
              "      <td>3303</td>\n",
              "      <td>2000.0</td>\n",
              "      <td>[large, area, disassembly, boxgleitenleisenver...</td>\n",
              "      <td>[installation, boxgleitenverbau]</td>\n",
              "    </tr>\n",
              "    <tr>\n",
              "      <th>2005</th>\n",
              "      <td>installation boxgleitenverbau</td>\n",
              "      <td>large area disassembly boxgleitenleisenverbau ...</td>\n",
              "      <td>3303</td>\n",
              "      <td>2000.0</td>\n",
              "      <td>[large, area, disassembly, boxgleitenleisenver...</td>\n",
              "      <td>[installation, boxgleitenverbau]</td>\n",
              "    </tr>\n",
              "    <tr>\n",
              "      <th>2006</th>\n",
              "      <td>construction site equipment</td>\n",
              "      <td>installation maintenance dismantle constructio...</td>\n",
              "      <td>bc</td>\n",
              "      <td>2.0</td>\n",
              "      <td>[installation, maintenance, dismantle, constru...</td>\n",
              "      <td>[construction, site, equipment]</td>\n",
              "    </tr>\n",
              "    <tr>\n",
              "      <th>2007</th>\n",
              "      <td>construction site equipment</td>\n",
              "      <td>installation maintenance dismantle constructio...</td>\n",
              "      <td>bc</td>\n",
              "      <td>2.0</td>\n",
              "      <td>[installation, maintenance, dismantle, constru...</td>\n",
              "      <td>[construction, site, equipment]</td>\n",
              "    </tr>\n",
              "  </tbody>\n",
              "</table>\n",
              "<p>2008 rows × 6 columns</p>\n",
              "</div>\n",
              "    <div class=\"colab-df-buttons\">\n",
              "\n",
              "  <div class=\"colab-df-container\">\n",
              "    <button class=\"colab-df-convert\" onclick=\"convertToInteractive('df-9d656628-7702-4c63-910c-903c5595b0a5')\"\n",
              "            title=\"Convert this dataframe to an interactive table.\"\n",
              "            style=\"display:none;\">\n",
              "\n",
              "  <svg xmlns=\"http://www.w3.org/2000/svg\" height=\"24px\" viewBox=\"0 -960 960 960\">\n",
              "    <path d=\"M120-120v-720h720v720H120Zm60-500h600v-160H180v160Zm220 220h160v-160H400v160Zm0 220h160v-160H400v160ZM180-400h160v-160H180v160Zm440 0h160v-160H620v160ZM180-180h160v-160H180v160Zm440 0h160v-160H620v160Z\"/>\n",
              "  </svg>\n",
              "    </button>\n",
              "\n",
              "  <style>\n",
              "    .colab-df-container {\n",
              "      display:flex;\n",
              "      gap: 12px;\n",
              "    }\n",
              "\n",
              "    .colab-df-convert {\n",
              "      background-color: #E8F0FE;\n",
              "      border: none;\n",
              "      border-radius: 50%;\n",
              "      cursor: pointer;\n",
              "      display: none;\n",
              "      fill: #1967D2;\n",
              "      height: 32px;\n",
              "      padding: 0 0 0 0;\n",
              "      width: 32px;\n",
              "    }\n",
              "\n",
              "    .colab-df-convert:hover {\n",
              "      background-color: #E2EBFA;\n",
              "      box-shadow: 0px 1px 2px rgba(60, 64, 67, 0.3), 0px 1px 3px 1px rgba(60, 64, 67, 0.15);\n",
              "      fill: #174EA6;\n",
              "    }\n",
              "\n",
              "    .colab-df-buttons div {\n",
              "      margin-bottom: 4px;\n",
              "    }\n",
              "\n",
              "    [theme=dark] .colab-df-convert {\n",
              "      background-color: #3B4455;\n",
              "      fill: #D2E3FC;\n",
              "    }\n",
              "\n",
              "    [theme=dark] .colab-df-convert:hover {\n",
              "      background-color: #434B5C;\n",
              "      box-shadow: 0px 1px 3px 1px rgba(0, 0, 0, 0.15);\n",
              "      filter: drop-shadow(0px 1px 2px rgba(0, 0, 0, 0.3));\n",
              "      fill: #FFFFFF;\n",
              "    }\n",
              "  </style>\n",
              "\n",
              "    <script>\n",
              "      const buttonEl =\n",
              "        document.querySelector('#df-9d656628-7702-4c63-910c-903c5595b0a5 button.colab-df-convert');\n",
              "      buttonEl.style.display =\n",
              "        google.colab.kernel.accessAllowed ? 'block' : 'none';\n",
              "\n",
              "      async function convertToInteractive(key) {\n",
              "        const element = document.querySelector('#df-9d656628-7702-4c63-910c-903c5595b0a5');\n",
              "        const dataTable =\n",
              "          await google.colab.kernel.invokeFunction('convertToInteractive',\n",
              "                                                    [key], {});\n",
              "        if (!dataTable) return;\n",
              "\n",
              "        const docLinkHtml = 'Like what you see? Visit the ' +\n",
              "          '<a target=\"_blank\" href=https://colab.research.google.com/notebooks/data_table.ipynb>data table notebook</a>'\n",
              "          + ' to learn more about interactive tables.';\n",
              "        element.innerHTML = '';\n",
              "        dataTable['output_type'] = 'display_data';\n",
              "        await google.colab.output.renderOutput(dataTable, element);\n",
              "        const docLink = document.createElement('div');\n",
              "        docLink.innerHTML = docLinkHtml;\n",
              "        element.appendChild(docLink);\n",
              "      }\n",
              "    </script>\n",
              "  </div>\n",
              "\n",
              "\n",
              "<div id=\"df-459059c4-0c9f-41a0-80bc-f515c773fb8f\">\n",
              "  <button class=\"colab-df-quickchart\" onclick=\"quickchart('df-459059c4-0c9f-41a0-80bc-f515c773fb8f')\"\n",
              "            title=\"Suggest charts\"\n",
              "            style=\"display:none;\">\n",
              "\n",
              "<svg xmlns=\"http://www.w3.org/2000/svg\" height=\"24px\"viewBox=\"0 0 24 24\"\n",
              "     width=\"24px\">\n",
              "    <g>\n",
              "        <path d=\"M19 3H5c-1.1 0-2 .9-2 2v14c0 1.1.9 2 2 2h14c1.1 0 2-.9 2-2V5c0-1.1-.9-2-2-2zM9 17H7v-7h2v7zm4 0h-2V7h2v10zm4 0h-2v-4h2v4z\"/>\n",
              "    </g>\n",
              "</svg>\n",
              "  </button>\n",
              "\n",
              "<style>\n",
              "  .colab-df-quickchart {\n",
              "      --bg-color: #E8F0FE;\n",
              "      --fill-color: #1967D2;\n",
              "      --hover-bg-color: #E2EBFA;\n",
              "      --hover-fill-color: #174EA6;\n",
              "      --disabled-fill-color: #AAA;\n",
              "      --disabled-bg-color: #DDD;\n",
              "  }\n",
              "\n",
              "  [theme=dark] .colab-df-quickchart {\n",
              "      --bg-color: #3B4455;\n",
              "      --fill-color: #D2E3FC;\n",
              "      --hover-bg-color: #434B5C;\n",
              "      --hover-fill-color: #FFFFFF;\n",
              "      --disabled-bg-color: #3B4455;\n",
              "      --disabled-fill-color: #666;\n",
              "  }\n",
              "\n",
              "  .colab-df-quickchart {\n",
              "    background-color: var(--bg-color);\n",
              "    border: none;\n",
              "    border-radius: 50%;\n",
              "    cursor: pointer;\n",
              "    display: none;\n",
              "    fill: var(--fill-color);\n",
              "    height: 32px;\n",
              "    padding: 0;\n",
              "    width: 32px;\n",
              "  }\n",
              "\n",
              "  .colab-df-quickchart:hover {\n",
              "    background-color: var(--hover-bg-color);\n",
              "    box-shadow: 0 1px 2px rgba(60, 64, 67, 0.3), 0 1px 3px 1px rgba(60, 64, 67, 0.15);\n",
              "    fill: var(--button-hover-fill-color);\n",
              "  }\n",
              "\n",
              "  .colab-df-quickchart-complete:disabled,\n",
              "  .colab-df-quickchart-complete:disabled:hover {\n",
              "    background-color: var(--disabled-bg-color);\n",
              "    fill: var(--disabled-fill-color);\n",
              "    box-shadow: none;\n",
              "  }\n",
              "\n",
              "  .colab-df-spinner {\n",
              "    border: 2px solid var(--fill-color);\n",
              "    border-color: transparent;\n",
              "    border-bottom-color: var(--fill-color);\n",
              "    animation:\n",
              "      spin 1s steps(1) infinite;\n",
              "  }\n",
              "\n",
              "  @keyframes spin {\n",
              "    0% {\n",
              "      border-color: transparent;\n",
              "      border-bottom-color: var(--fill-color);\n",
              "      border-left-color: var(--fill-color);\n",
              "    }\n",
              "    20% {\n",
              "      border-color: transparent;\n",
              "      border-left-color: var(--fill-color);\n",
              "      border-top-color: var(--fill-color);\n",
              "    }\n",
              "    30% {\n",
              "      border-color: transparent;\n",
              "      border-left-color: var(--fill-color);\n",
              "      border-top-color: var(--fill-color);\n",
              "      border-right-color: var(--fill-color);\n",
              "    }\n",
              "    40% {\n",
              "      border-color: transparent;\n",
              "      border-right-color: var(--fill-color);\n",
              "      border-top-color: var(--fill-color);\n",
              "    }\n",
              "    60% {\n",
              "      border-color: transparent;\n",
              "      border-right-color: var(--fill-color);\n",
              "    }\n",
              "    80% {\n",
              "      border-color: transparent;\n",
              "      border-right-color: var(--fill-color);\n",
              "      border-bottom-color: var(--fill-color);\n",
              "    }\n",
              "    90% {\n",
              "      border-color: transparent;\n",
              "      border-bottom-color: var(--fill-color);\n",
              "    }\n",
              "  }\n",
              "</style>\n",
              "\n",
              "  <script>\n",
              "    async function quickchart(key) {\n",
              "      const quickchartButtonEl =\n",
              "        document.querySelector('#' + key + ' button');\n",
              "      quickchartButtonEl.disabled = true;  // To prevent multiple clicks.\n",
              "      quickchartButtonEl.classList.add('colab-df-spinner');\n",
              "      try {\n",
              "        const charts = await google.colab.kernel.invokeFunction(\n",
              "            'suggestCharts', [key], {});\n",
              "      } catch (error) {\n",
              "        console.error('Error during call to suggestCharts:', error);\n",
              "      }\n",
              "      quickchartButtonEl.classList.remove('colab-df-spinner');\n",
              "      quickchartButtonEl.classList.add('colab-df-quickchart-complete');\n",
              "    }\n",
              "    (() => {\n",
              "      let quickchartButtonEl =\n",
              "        document.querySelector('#df-459059c4-0c9f-41a0-80bc-f515c773fb8f button');\n",
              "      quickchartButtonEl.style.display =\n",
              "        google.colab.kernel.accessAllowed ? 'block' : 'none';\n",
              "    })();\n",
              "  </script>\n",
              "</div>\n",
              "\n",
              "  <div id=\"id_eef6e481-7d75-4774-a67c-d2ed211d96c1\">\n",
              "    <style>\n",
              "      .colab-df-generate {\n",
              "        background-color: #E8F0FE;\n",
              "        border: none;\n",
              "        border-radius: 50%;\n",
              "        cursor: pointer;\n",
              "        display: none;\n",
              "        fill: #1967D2;\n",
              "        height: 32px;\n",
              "        padding: 0 0 0 0;\n",
              "        width: 32px;\n",
              "      }\n",
              "\n",
              "      .colab-df-generate:hover {\n",
              "        background-color: #E2EBFA;\n",
              "        box-shadow: 0px 1px 2px rgba(60, 64, 67, 0.3), 0px 1px 3px 1px rgba(60, 64, 67, 0.15);\n",
              "        fill: #174EA6;\n",
              "      }\n",
              "\n",
              "      [theme=dark] .colab-df-generate {\n",
              "        background-color: #3B4455;\n",
              "        fill: #D2E3FC;\n",
              "      }\n",
              "\n",
              "      [theme=dark] .colab-df-generate:hover {\n",
              "        background-color: #434B5C;\n",
              "        box-shadow: 0px 1px 3px 1px rgba(0, 0, 0, 0.15);\n",
              "        filter: drop-shadow(0px 1px 2px rgba(0, 0, 0, 0.3));\n",
              "        fill: #FFFFFF;\n",
              "      }\n",
              "    </style>\n",
              "    <button class=\"colab-df-generate\" onclick=\"generateWithVariable('data_cleaned')\"\n",
              "            title=\"Generate code using this dataframe.\"\n",
              "            style=\"display:none;\">\n",
              "\n",
              "  <svg xmlns=\"http://www.w3.org/2000/svg\" height=\"24px\"viewBox=\"0 0 24 24\"\n",
              "       width=\"24px\">\n",
              "    <path d=\"M7,19H8.4L18.45,9,17,7.55,7,17.6ZM5,21V16.75L18.45,3.32a2,2,0,0,1,2.83,0l1.4,1.43a1.91,1.91,0,0,1,.58,1.4,1.91,1.91,0,0,1-.58,1.4L9.25,21ZM18.45,9,17,7.55Zm-12,3A5.31,5.31,0,0,0,4.9,8.1,5.31,5.31,0,0,0,1,6.5,5.31,5.31,0,0,0,4.9,4.9,5.31,5.31,0,0,0,6.5,1,5.31,5.31,0,0,0,8.1,4.9,5.31,5.31,0,0,0,12,6.5,5.46,5.46,0,0,0,6.5,12Z\"/>\n",
              "  </svg>\n",
              "    </button>\n",
              "    <script>\n",
              "      (() => {\n",
              "      const buttonEl =\n",
              "        document.querySelector('#id_eef6e481-7d75-4774-a67c-d2ed211d96c1 button.colab-df-generate');\n",
              "      buttonEl.style.display =\n",
              "        google.colab.kernel.accessAllowed ? 'block' : 'none';\n",
              "\n",
              "      buttonEl.onclick = () => {\n",
              "        google.colab.notebook.generateWithVariable('data_cleaned');\n",
              "      }\n",
              "      })();\n",
              "    </script>\n",
              "  </div>\n",
              "\n",
              "    </div>\n",
              "  </div>\n"
            ],
            "application/vnd.google.colaboratory.intrinsic+json": {
              "type": "dataframe",
              "variable_name": "data_cleaned",
              "repr_error": "unhashable type: 'list'"
            }
          },
          "metadata": {},
          "execution_count": 60
        }
      ]
    },
    {
      "cell_type": "code",
      "source": [
        "import shutil\n",
        "\n",
        "# Specify the path of the checkpoint file in Google Drive\n",
        "drive_checkpoint_file = '/content/drive/MyDrive/ArticleRecognition/checkpoint.txt'\n",
        "\n",
        "# Specify the path where you want to save the checkpoint file in Colab\n",
        "colab_checkpoint_file = '/content/checkpoint.txt'\n",
        "\n",
        "# Copy the checkpoint file from Google Drive to Colab\n",
        "shutil.copy(drive_checkpoint_file, colab_checkpoint_file)\n",
        "\n",
        "print(f\"Checkpoint file '{drive_checkpoint_file}' copied to '{colab_checkpoint_file}' in Colab.\")\n",
        "\n"
      ],
      "metadata": {
        "colab": {
          "base_uri": "https://localhost:8080/"
        },
        "id": "h4X_nWkvyElf",
        "outputId": "1e4886a3-62f4-4261-8ec6-e6c93011dc3b"
      },
      "execution_count": 69,
      "outputs": [
        {
          "output_type": "stream",
          "name": "stdout",
          "text": [
            "Checkpoint file '/content/drive/MyDrive/ArticleRecognition/checkpoint.txt' copied to '/content/checkpoint.txt' in Colab.\n"
          ]
        }
      ]
    }
  ],
  "metadata": {
    "colab": {
      "provenance": [],
      "toc_visible": true
    },
    "kernelspec": {
      "display_name": "Python 3",
      "name": "python3"
    },
    "language_info": {
      "name": "python"
    },
    "widgets": {
      "application/vnd.jupyter.widget-state+json": {
        "980c6778daa2412eaeab2e42fb1446c4": {
          "model_module": "@jupyter-widgets/controls",
          "model_name": "HBoxModel",
          "model_module_version": "1.5.0",
          "state": {
            "_dom_classes": [],
            "_model_module": "@jupyter-widgets/controls",
            "_model_module_version": "1.5.0",
            "_model_name": "HBoxModel",
            "_view_count": null,
            "_view_module": "@jupyter-widgets/controls",
            "_view_module_version": "1.5.0",
            "_view_name": "HBoxView",
            "box_style": "",
            "children": [
              "IPY_MODEL_d6d1c3f147974b3cb57d18e55b8a0399",
              "IPY_MODEL_4afb2b16c306486489b4749d273d6ab6",
              "IPY_MODEL_9b2f377331d840b68b34a24435e6e286"
            ],
            "layout": "IPY_MODEL_c2c2bb8c7d3d4d48ad488734907a6b21"
          }
        },
        "d6d1c3f147974b3cb57d18e55b8a0399": {
          "model_module": "@jupyter-widgets/controls",
          "model_name": "HTMLModel",
          "model_module_version": "1.5.0",
          "state": {
            "_dom_classes": [],
            "_model_module": "@jupyter-widgets/controls",
            "_model_module_version": "1.5.0",
            "_model_name": "HTMLModel",
            "_view_count": null,
            "_view_module": "@jupyter-widgets/controls",
            "_view_module_version": "1.5.0",
            "_view_name": "HTMLView",
            "description": "",
            "description_tooltip": null,
            "layout": "IPY_MODEL_7d19d295aba745048abb3ff5aa258212",
            "placeholder": "​",
            "style": "IPY_MODEL_f30d6e08ddd34af6894336d28f70942c",
            "value": "config.json: 100%"
          }
        },
        "4afb2b16c306486489b4749d273d6ab6": {
          "model_module": "@jupyter-widgets/controls",
          "model_name": "FloatProgressModel",
          "model_module_version": "1.5.0",
          "state": {
            "_dom_classes": [],
            "_model_module": "@jupyter-widgets/controls",
            "_model_module_version": "1.5.0",
            "_model_name": "FloatProgressModel",
            "_view_count": null,
            "_view_module": "@jupyter-widgets/controls",
            "_view_module_version": "1.5.0",
            "_view_name": "ProgressView",
            "bar_style": "success",
            "description": "",
            "description_tooltip": null,
            "layout": "IPY_MODEL_5f64e894837c40099a36a2f259825ac1",
            "max": 1381,
            "min": 0,
            "orientation": "horizontal",
            "style": "IPY_MODEL_7b578e67d4634ba2be9d06a27b1625bb",
            "value": 1381
          }
        },
        "9b2f377331d840b68b34a24435e6e286": {
          "model_module": "@jupyter-widgets/controls",
          "model_name": "HTMLModel",
          "model_module_version": "1.5.0",
          "state": {
            "_dom_classes": [],
            "_model_module": "@jupyter-widgets/controls",
            "_model_module_version": "1.5.0",
            "_model_name": "HTMLModel",
            "_view_count": null,
            "_view_module": "@jupyter-widgets/controls",
            "_view_module_version": "1.5.0",
            "_view_name": "HTMLView",
            "description": "",
            "description_tooltip": null,
            "layout": "IPY_MODEL_8ff7fd8ce0d54358b31c1727072903a5",
            "placeholder": "​",
            "style": "IPY_MODEL_2cbf9b9989654e1185884ad26897518c",
            "value": " 1.38k/1.38k [00:00&lt;00:00, 64.3kB/s]"
          }
        },
        "c2c2bb8c7d3d4d48ad488734907a6b21": {
          "model_module": "@jupyter-widgets/base",
          "model_name": "LayoutModel",
          "model_module_version": "1.2.0",
          "state": {
            "_model_module": "@jupyter-widgets/base",
            "_model_module_version": "1.2.0",
            "_model_name": "LayoutModel",
            "_view_count": null,
            "_view_module": "@jupyter-widgets/base",
            "_view_module_version": "1.2.0",
            "_view_name": "LayoutView",
            "align_content": null,
            "align_items": null,
            "align_self": null,
            "border": null,
            "bottom": null,
            "display": null,
            "flex": null,
            "flex_flow": null,
            "grid_area": null,
            "grid_auto_columns": null,
            "grid_auto_flow": null,
            "grid_auto_rows": null,
            "grid_column": null,
            "grid_gap": null,
            "grid_row": null,
            "grid_template_areas": null,
            "grid_template_columns": null,
            "grid_template_rows": null,
            "height": null,
            "justify_content": null,
            "justify_items": null,
            "left": null,
            "margin": null,
            "max_height": null,
            "max_width": null,
            "min_height": null,
            "min_width": null,
            "object_fit": null,
            "object_position": null,
            "order": null,
            "overflow": null,
            "overflow_x": null,
            "overflow_y": null,
            "padding": null,
            "right": null,
            "top": null,
            "visibility": null,
            "width": null
          }
        },
        "7d19d295aba745048abb3ff5aa258212": {
          "model_module": "@jupyter-widgets/base",
          "model_name": "LayoutModel",
          "model_module_version": "1.2.0",
          "state": {
            "_model_module": "@jupyter-widgets/base",
            "_model_module_version": "1.2.0",
            "_model_name": "LayoutModel",
            "_view_count": null,
            "_view_module": "@jupyter-widgets/base",
            "_view_module_version": "1.2.0",
            "_view_name": "LayoutView",
            "align_content": null,
            "align_items": null,
            "align_self": null,
            "border": null,
            "bottom": null,
            "display": null,
            "flex": null,
            "flex_flow": null,
            "grid_area": null,
            "grid_auto_columns": null,
            "grid_auto_flow": null,
            "grid_auto_rows": null,
            "grid_column": null,
            "grid_gap": null,
            "grid_row": null,
            "grid_template_areas": null,
            "grid_template_columns": null,
            "grid_template_rows": null,
            "height": null,
            "justify_content": null,
            "justify_items": null,
            "left": null,
            "margin": null,
            "max_height": null,
            "max_width": null,
            "min_height": null,
            "min_width": null,
            "object_fit": null,
            "object_position": null,
            "order": null,
            "overflow": null,
            "overflow_x": null,
            "overflow_y": null,
            "padding": null,
            "right": null,
            "top": null,
            "visibility": null,
            "width": null
          }
        },
        "f30d6e08ddd34af6894336d28f70942c": {
          "model_module": "@jupyter-widgets/controls",
          "model_name": "DescriptionStyleModel",
          "model_module_version": "1.5.0",
          "state": {
            "_model_module": "@jupyter-widgets/controls",
            "_model_module_version": "1.5.0",
            "_model_name": "DescriptionStyleModel",
            "_view_count": null,
            "_view_module": "@jupyter-widgets/base",
            "_view_module_version": "1.2.0",
            "_view_name": "StyleView",
            "description_width": ""
          }
        },
        "5f64e894837c40099a36a2f259825ac1": {
          "model_module": "@jupyter-widgets/base",
          "model_name": "LayoutModel",
          "model_module_version": "1.2.0",
          "state": {
            "_model_module": "@jupyter-widgets/base",
            "_model_module_version": "1.2.0",
            "_model_name": "LayoutModel",
            "_view_count": null,
            "_view_module": "@jupyter-widgets/base",
            "_view_module_version": "1.2.0",
            "_view_name": "LayoutView",
            "align_content": null,
            "align_items": null,
            "align_self": null,
            "border": null,
            "bottom": null,
            "display": null,
            "flex": null,
            "flex_flow": null,
            "grid_area": null,
            "grid_auto_columns": null,
            "grid_auto_flow": null,
            "grid_auto_rows": null,
            "grid_column": null,
            "grid_gap": null,
            "grid_row": null,
            "grid_template_areas": null,
            "grid_template_columns": null,
            "grid_template_rows": null,
            "height": null,
            "justify_content": null,
            "justify_items": null,
            "left": null,
            "margin": null,
            "max_height": null,
            "max_width": null,
            "min_height": null,
            "min_width": null,
            "object_fit": null,
            "object_position": null,
            "order": null,
            "overflow": null,
            "overflow_x": null,
            "overflow_y": null,
            "padding": null,
            "right": null,
            "top": null,
            "visibility": null,
            "width": null
          }
        },
        "7b578e67d4634ba2be9d06a27b1625bb": {
          "model_module": "@jupyter-widgets/controls",
          "model_name": "ProgressStyleModel",
          "model_module_version": "1.5.0",
          "state": {
            "_model_module": "@jupyter-widgets/controls",
            "_model_module_version": "1.5.0",
            "_model_name": "ProgressStyleModel",
            "_view_count": null,
            "_view_module": "@jupyter-widgets/base",
            "_view_module_version": "1.2.0",
            "_view_name": "StyleView",
            "bar_color": null,
            "description_width": ""
          }
        },
        "8ff7fd8ce0d54358b31c1727072903a5": {
          "model_module": "@jupyter-widgets/base",
          "model_name": "LayoutModel",
          "model_module_version": "1.2.0",
          "state": {
            "_model_module": "@jupyter-widgets/base",
            "_model_module_version": "1.2.0",
            "_model_name": "LayoutModel",
            "_view_count": null,
            "_view_module": "@jupyter-widgets/base",
            "_view_module_version": "1.2.0",
            "_view_name": "LayoutView",
            "align_content": null,
            "align_items": null,
            "align_self": null,
            "border": null,
            "bottom": null,
            "display": null,
            "flex": null,
            "flex_flow": null,
            "grid_area": null,
            "grid_auto_columns": null,
            "grid_auto_flow": null,
            "grid_auto_rows": null,
            "grid_column": null,
            "grid_gap": null,
            "grid_row": null,
            "grid_template_areas": null,
            "grid_template_columns": null,
            "grid_template_rows": null,
            "height": null,
            "justify_content": null,
            "justify_items": null,
            "left": null,
            "margin": null,
            "max_height": null,
            "max_width": null,
            "min_height": null,
            "min_width": null,
            "object_fit": null,
            "object_position": null,
            "order": null,
            "overflow": null,
            "overflow_x": null,
            "overflow_y": null,
            "padding": null,
            "right": null,
            "top": null,
            "visibility": null,
            "width": null
          }
        },
        "2cbf9b9989654e1185884ad26897518c": {
          "model_module": "@jupyter-widgets/controls",
          "model_name": "DescriptionStyleModel",
          "model_module_version": "1.5.0",
          "state": {
            "_model_module": "@jupyter-widgets/controls",
            "_model_module_version": "1.5.0",
            "_model_name": "DescriptionStyleModel",
            "_view_count": null,
            "_view_module": "@jupyter-widgets/base",
            "_view_module_version": "1.2.0",
            "_view_name": "StyleView",
            "description_width": ""
          }
        },
        "63015849a3ff4cdb9a5ec60cade3aeb8": {
          "model_module": "@jupyter-widgets/controls",
          "model_name": "HBoxModel",
          "model_module_version": "1.5.0",
          "state": {
            "_dom_classes": [],
            "_model_module": "@jupyter-widgets/controls",
            "_model_module_version": "1.5.0",
            "_model_name": "HBoxModel",
            "_view_count": null,
            "_view_module": "@jupyter-widgets/controls",
            "_view_module_version": "1.5.0",
            "_view_name": "HBoxView",
            "box_style": "",
            "children": [
              "IPY_MODEL_61b7b87e4a5448aeacb3de39b77ae589",
              "IPY_MODEL_f56090742d6748839b4d087b790c430d",
              "IPY_MODEL_af8a136b6b0e41fc9024bd4d86e071b6"
            ],
            "layout": "IPY_MODEL_49d1de3085c743f297725238fc43af70"
          }
        },
        "61b7b87e4a5448aeacb3de39b77ae589": {
          "model_module": "@jupyter-widgets/controls",
          "model_name": "HTMLModel",
          "model_module_version": "1.5.0",
          "state": {
            "_dom_classes": [],
            "_model_module": "@jupyter-widgets/controls",
            "_model_module_version": "1.5.0",
            "_model_name": "HTMLModel",
            "_view_count": null,
            "_view_module": "@jupyter-widgets/controls",
            "_view_module_version": "1.5.0",
            "_view_name": "HTMLView",
            "description": "",
            "description_tooltip": null,
            "layout": "IPY_MODEL_9ce00f8eb4ed46dd8a48a699a1ec4e5a",
            "placeholder": "​",
            "style": "IPY_MODEL_5141f6e0291641fa97f408cdcad3a575",
            "value": "pytorch_model.bin: 100%"
          }
        },
        "f56090742d6748839b4d087b790c430d": {
          "model_module": "@jupyter-widgets/controls",
          "model_name": "FloatProgressModel",
          "model_module_version": "1.5.0",
          "state": {
            "_dom_classes": [],
            "_model_module": "@jupyter-widgets/controls",
            "_model_module_version": "1.5.0",
            "_model_name": "FloatProgressModel",
            "_view_count": null,
            "_view_module": "@jupyter-widgets/controls",
            "_view_module_version": "1.5.0",
            "_view_name": "ProgressView",
            "bar_style": "success",
            "description": "",
            "description_tooltip": null,
            "layout": "IPY_MODEL_f381739360114b038215a8b828e692ba",
            "max": 297928209,
            "min": 0,
            "orientation": "horizontal",
            "style": "IPY_MODEL_81c7aadc907b40aba724713ae033ba91",
            "value": 297928209
          }
        },
        "af8a136b6b0e41fc9024bd4d86e071b6": {
          "model_module": "@jupyter-widgets/controls",
          "model_name": "HTMLModel",
          "model_module_version": "1.5.0",
          "state": {
            "_dom_classes": [],
            "_model_module": "@jupyter-widgets/controls",
            "_model_module_version": "1.5.0",
            "_model_name": "HTMLModel",
            "_view_count": null,
            "_view_module": "@jupyter-widgets/controls",
            "_view_module_version": "1.5.0",
            "_view_name": "HTMLView",
            "description": "",
            "description_tooltip": null,
            "layout": "IPY_MODEL_419f3fc3108c414fa68ce901e5ef115c",
            "placeholder": "​",
            "style": "IPY_MODEL_a0de1f1e0be24841860a5327be02c645",
            "value": " 298M/298M [00:08&lt;00:00, 33.5MB/s]"
          }
        },
        "49d1de3085c743f297725238fc43af70": {
          "model_module": "@jupyter-widgets/base",
          "model_name": "LayoutModel",
          "model_module_version": "1.2.0",
          "state": {
            "_model_module": "@jupyter-widgets/base",
            "_model_module_version": "1.2.0",
            "_model_name": "LayoutModel",
            "_view_count": null,
            "_view_module": "@jupyter-widgets/base",
            "_view_module_version": "1.2.0",
            "_view_name": "LayoutView",
            "align_content": null,
            "align_items": null,
            "align_self": null,
            "border": null,
            "bottom": null,
            "display": null,
            "flex": null,
            "flex_flow": null,
            "grid_area": null,
            "grid_auto_columns": null,
            "grid_auto_flow": null,
            "grid_auto_rows": null,
            "grid_column": null,
            "grid_gap": null,
            "grid_row": null,
            "grid_template_areas": null,
            "grid_template_columns": null,
            "grid_template_rows": null,
            "height": null,
            "justify_content": null,
            "justify_items": null,
            "left": null,
            "margin": null,
            "max_height": null,
            "max_width": null,
            "min_height": null,
            "min_width": null,
            "object_fit": null,
            "object_position": null,
            "order": null,
            "overflow": null,
            "overflow_x": null,
            "overflow_y": null,
            "padding": null,
            "right": null,
            "top": null,
            "visibility": null,
            "width": null
          }
        },
        "9ce00f8eb4ed46dd8a48a699a1ec4e5a": {
          "model_module": "@jupyter-widgets/base",
          "model_name": "LayoutModel",
          "model_module_version": "1.2.0",
          "state": {
            "_model_module": "@jupyter-widgets/base",
            "_model_module_version": "1.2.0",
            "_model_name": "LayoutModel",
            "_view_count": null,
            "_view_module": "@jupyter-widgets/base",
            "_view_module_version": "1.2.0",
            "_view_name": "LayoutView",
            "align_content": null,
            "align_items": null,
            "align_self": null,
            "border": null,
            "bottom": null,
            "display": null,
            "flex": null,
            "flex_flow": null,
            "grid_area": null,
            "grid_auto_columns": null,
            "grid_auto_flow": null,
            "grid_auto_rows": null,
            "grid_column": null,
            "grid_gap": null,
            "grid_row": null,
            "grid_template_areas": null,
            "grid_template_columns": null,
            "grid_template_rows": null,
            "height": null,
            "justify_content": null,
            "justify_items": null,
            "left": null,
            "margin": null,
            "max_height": null,
            "max_width": null,
            "min_height": null,
            "min_width": null,
            "object_fit": null,
            "object_position": null,
            "order": null,
            "overflow": null,
            "overflow_x": null,
            "overflow_y": null,
            "padding": null,
            "right": null,
            "top": null,
            "visibility": null,
            "width": null
          }
        },
        "5141f6e0291641fa97f408cdcad3a575": {
          "model_module": "@jupyter-widgets/controls",
          "model_name": "DescriptionStyleModel",
          "model_module_version": "1.5.0",
          "state": {
            "_model_module": "@jupyter-widgets/controls",
            "_model_module_version": "1.5.0",
            "_model_name": "DescriptionStyleModel",
            "_view_count": null,
            "_view_module": "@jupyter-widgets/base",
            "_view_module_version": "1.2.0",
            "_view_name": "StyleView",
            "description_width": ""
          }
        },
        "f381739360114b038215a8b828e692ba": {
          "model_module": "@jupyter-widgets/base",
          "model_name": "LayoutModel",
          "model_module_version": "1.2.0",
          "state": {
            "_model_module": "@jupyter-widgets/base",
            "_model_module_version": "1.2.0",
            "_model_name": "LayoutModel",
            "_view_count": null,
            "_view_module": "@jupyter-widgets/base",
            "_view_module_version": "1.2.0",
            "_view_name": "LayoutView",
            "align_content": null,
            "align_items": null,
            "align_self": null,
            "border": null,
            "bottom": null,
            "display": null,
            "flex": null,
            "flex_flow": null,
            "grid_area": null,
            "grid_auto_columns": null,
            "grid_auto_flow": null,
            "grid_auto_rows": null,
            "grid_column": null,
            "grid_gap": null,
            "grid_row": null,
            "grid_template_areas": null,
            "grid_template_columns": null,
            "grid_template_rows": null,
            "height": null,
            "justify_content": null,
            "justify_items": null,
            "left": null,
            "margin": null,
            "max_height": null,
            "max_width": null,
            "min_height": null,
            "min_width": null,
            "object_fit": null,
            "object_position": null,
            "order": null,
            "overflow": null,
            "overflow_x": null,
            "overflow_y": null,
            "padding": null,
            "right": null,
            "top": null,
            "visibility": null,
            "width": null
          }
        },
        "81c7aadc907b40aba724713ae033ba91": {
          "model_module": "@jupyter-widgets/controls",
          "model_name": "ProgressStyleModel",
          "model_module_version": "1.5.0",
          "state": {
            "_model_module": "@jupyter-widgets/controls",
            "_model_module_version": "1.5.0",
            "_model_name": "ProgressStyleModel",
            "_view_count": null,
            "_view_module": "@jupyter-widgets/base",
            "_view_module_version": "1.2.0",
            "_view_name": "StyleView",
            "bar_color": null,
            "description_width": ""
          }
        },
        "419f3fc3108c414fa68ce901e5ef115c": {
          "model_module": "@jupyter-widgets/base",
          "model_name": "LayoutModel",
          "model_module_version": "1.2.0",
          "state": {
            "_model_module": "@jupyter-widgets/base",
            "_model_module_version": "1.2.0",
            "_model_name": "LayoutModel",
            "_view_count": null,
            "_view_module": "@jupyter-widgets/base",
            "_view_module_version": "1.2.0",
            "_view_name": "LayoutView",
            "align_content": null,
            "align_items": null,
            "align_self": null,
            "border": null,
            "bottom": null,
            "display": null,
            "flex": null,
            "flex_flow": null,
            "grid_area": null,
            "grid_auto_columns": null,
            "grid_auto_flow": null,
            "grid_auto_rows": null,
            "grid_column": null,
            "grid_gap": null,
            "grid_row": null,
            "grid_template_areas": null,
            "grid_template_columns": null,
            "grid_template_rows": null,
            "height": null,
            "justify_content": null,
            "justify_items": null,
            "left": null,
            "margin": null,
            "max_height": null,
            "max_width": null,
            "min_height": null,
            "min_width": null,
            "object_fit": null,
            "object_position": null,
            "order": null,
            "overflow": null,
            "overflow_x": null,
            "overflow_y": null,
            "padding": null,
            "right": null,
            "top": null,
            "visibility": null,
            "width": null
          }
        },
        "a0de1f1e0be24841860a5327be02c645": {
          "model_module": "@jupyter-widgets/controls",
          "model_name": "DescriptionStyleModel",
          "model_module_version": "1.5.0",
          "state": {
            "_model_module": "@jupyter-widgets/controls",
            "_model_module_version": "1.5.0",
            "_model_name": "DescriptionStyleModel",
            "_view_count": null,
            "_view_module": "@jupyter-widgets/base",
            "_view_module_version": "1.2.0",
            "_view_name": "StyleView",
            "description_width": ""
          }
        },
        "4cd8c1399f584425a0b20e083692af08": {
          "model_module": "@jupyter-widgets/controls",
          "model_name": "HBoxModel",
          "model_module_version": "1.5.0",
          "state": {
            "_dom_classes": [],
            "_model_module": "@jupyter-widgets/controls",
            "_model_module_version": "1.5.0",
            "_model_name": "HBoxModel",
            "_view_count": null,
            "_view_module": "@jupyter-widgets/controls",
            "_view_module_version": "1.5.0",
            "_view_name": "HBoxView",
            "box_style": "",
            "children": [
              "IPY_MODEL_059a11b6dc964edd83885a3bba061dcb",
              "IPY_MODEL_b79213b0ae6c4639acaeb7bf03566d1d",
              "IPY_MODEL_5d321dc3fcc54dac9132ce434b29d3c7"
            ],
            "layout": "IPY_MODEL_4e0d8879927344389ea7f443b91b7b4f"
          }
        },
        "059a11b6dc964edd83885a3bba061dcb": {
          "model_module": "@jupyter-widgets/controls",
          "model_name": "HTMLModel",
          "model_module_version": "1.5.0",
          "state": {
            "_dom_classes": [],
            "_model_module": "@jupyter-widgets/controls",
            "_model_module_version": "1.5.0",
            "_model_name": "HTMLModel",
            "_view_count": null,
            "_view_module": "@jupyter-widgets/controls",
            "_view_module_version": "1.5.0",
            "_view_name": "HTMLView",
            "description": "",
            "description_tooltip": null,
            "layout": "IPY_MODEL_b28d496581df4ab3ab5532feda160247",
            "placeholder": "​",
            "style": "IPY_MODEL_7b2294b96c7a48e9b7b73598b5bb017b",
            "value": "generation_config.json: 100%"
          }
        },
        "b79213b0ae6c4639acaeb7bf03566d1d": {
          "model_module": "@jupyter-widgets/controls",
          "model_name": "FloatProgressModel",
          "model_module_version": "1.5.0",
          "state": {
            "_dom_classes": [],
            "_model_module": "@jupyter-widgets/controls",
            "_model_module_version": "1.5.0",
            "_model_name": "FloatProgressModel",
            "_view_count": null,
            "_view_module": "@jupyter-widgets/controls",
            "_view_module_version": "1.5.0",
            "_view_name": "ProgressView",
            "bar_style": "success",
            "description": "",
            "description_tooltip": null,
            "layout": "IPY_MODEL_85b4c3b32ade48cab89925724078e96e",
            "max": 293,
            "min": 0,
            "orientation": "horizontal",
            "style": "IPY_MODEL_385a29fd22e84cc695dc4f06675ce70c",
            "value": 293
          }
        },
        "5d321dc3fcc54dac9132ce434b29d3c7": {
          "model_module": "@jupyter-widgets/controls",
          "model_name": "HTMLModel",
          "model_module_version": "1.5.0",
          "state": {
            "_dom_classes": [],
            "_model_module": "@jupyter-widgets/controls",
            "_model_module_version": "1.5.0",
            "_model_name": "HTMLModel",
            "_view_count": null,
            "_view_module": "@jupyter-widgets/controls",
            "_view_module_version": "1.5.0",
            "_view_name": "HTMLView",
            "description": "",
            "description_tooltip": null,
            "layout": "IPY_MODEL_22a5dc5c50794a4d88fbd71c8f20c51d",
            "placeholder": "​",
            "style": "IPY_MODEL_0ae51e5a64bd4b0f8513810dfed48fda",
            "value": " 293/293 [00:00&lt;00:00, 9.02kB/s]"
          }
        },
        "4e0d8879927344389ea7f443b91b7b4f": {
          "model_module": "@jupyter-widgets/base",
          "model_name": "LayoutModel",
          "model_module_version": "1.2.0",
          "state": {
            "_model_module": "@jupyter-widgets/base",
            "_model_module_version": "1.2.0",
            "_model_name": "LayoutModel",
            "_view_count": null,
            "_view_module": "@jupyter-widgets/base",
            "_view_module_version": "1.2.0",
            "_view_name": "LayoutView",
            "align_content": null,
            "align_items": null,
            "align_self": null,
            "border": null,
            "bottom": null,
            "display": null,
            "flex": null,
            "flex_flow": null,
            "grid_area": null,
            "grid_auto_columns": null,
            "grid_auto_flow": null,
            "grid_auto_rows": null,
            "grid_column": null,
            "grid_gap": null,
            "grid_row": null,
            "grid_template_areas": null,
            "grid_template_columns": null,
            "grid_template_rows": null,
            "height": null,
            "justify_content": null,
            "justify_items": null,
            "left": null,
            "margin": null,
            "max_height": null,
            "max_width": null,
            "min_height": null,
            "min_width": null,
            "object_fit": null,
            "object_position": null,
            "order": null,
            "overflow": null,
            "overflow_x": null,
            "overflow_y": null,
            "padding": null,
            "right": null,
            "top": null,
            "visibility": null,
            "width": null
          }
        },
        "b28d496581df4ab3ab5532feda160247": {
          "model_module": "@jupyter-widgets/base",
          "model_name": "LayoutModel",
          "model_module_version": "1.2.0",
          "state": {
            "_model_module": "@jupyter-widgets/base",
            "_model_module_version": "1.2.0",
            "_model_name": "LayoutModel",
            "_view_count": null,
            "_view_module": "@jupyter-widgets/base",
            "_view_module_version": "1.2.0",
            "_view_name": "LayoutView",
            "align_content": null,
            "align_items": null,
            "align_self": null,
            "border": null,
            "bottom": null,
            "display": null,
            "flex": null,
            "flex_flow": null,
            "grid_area": null,
            "grid_auto_columns": null,
            "grid_auto_flow": null,
            "grid_auto_rows": null,
            "grid_column": null,
            "grid_gap": null,
            "grid_row": null,
            "grid_template_areas": null,
            "grid_template_columns": null,
            "grid_template_rows": null,
            "height": null,
            "justify_content": null,
            "justify_items": null,
            "left": null,
            "margin": null,
            "max_height": null,
            "max_width": null,
            "min_height": null,
            "min_width": null,
            "object_fit": null,
            "object_position": null,
            "order": null,
            "overflow": null,
            "overflow_x": null,
            "overflow_y": null,
            "padding": null,
            "right": null,
            "top": null,
            "visibility": null,
            "width": null
          }
        },
        "7b2294b96c7a48e9b7b73598b5bb017b": {
          "model_module": "@jupyter-widgets/controls",
          "model_name": "DescriptionStyleModel",
          "model_module_version": "1.5.0",
          "state": {
            "_model_module": "@jupyter-widgets/controls",
            "_model_module_version": "1.5.0",
            "_model_name": "DescriptionStyleModel",
            "_view_count": null,
            "_view_module": "@jupyter-widgets/base",
            "_view_module_version": "1.2.0",
            "_view_name": "StyleView",
            "description_width": ""
          }
        },
        "85b4c3b32ade48cab89925724078e96e": {
          "model_module": "@jupyter-widgets/base",
          "model_name": "LayoutModel",
          "model_module_version": "1.2.0",
          "state": {
            "_model_module": "@jupyter-widgets/base",
            "_model_module_version": "1.2.0",
            "_model_name": "LayoutModel",
            "_view_count": null,
            "_view_module": "@jupyter-widgets/base",
            "_view_module_version": "1.2.0",
            "_view_name": "LayoutView",
            "align_content": null,
            "align_items": null,
            "align_self": null,
            "border": null,
            "bottom": null,
            "display": null,
            "flex": null,
            "flex_flow": null,
            "grid_area": null,
            "grid_auto_columns": null,
            "grid_auto_flow": null,
            "grid_auto_rows": null,
            "grid_column": null,
            "grid_gap": null,
            "grid_row": null,
            "grid_template_areas": null,
            "grid_template_columns": null,
            "grid_template_rows": null,
            "height": null,
            "justify_content": null,
            "justify_items": null,
            "left": null,
            "margin": null,
            "max_height": null,
            "max_width": null,
            "min_height": null,
            "min_width": null,
            "object_fit": null,
            "object_position": null,
            "order": null,
            "overflow": null,
            "overflow_x": null,
            "overflow_y": null,
            "padding": null,
            "right": null,
            "top": null,
            "visibility": null,
            "width": null
          }
        },
        "385a29fd22e84cc695dc4f06675ce70c": {
          "model_module": "@jupyter-widgets/controls",
          "model_name": "ProgressStyleModel",
          "model_module_version": "1.5.0",
          "state": {
            "_model_module": "@jupyter-widgets/controls",
            "_model_module_version": "1.5.0",
            "_model_name": "ProgressStyleModel",
            "_view_count": null,
            "_view_module": "@jupyter-widgets/base",
            "_view_module_version": "1.2.0",
            "_view_name": "StyleView",
            "bar_color": null,
            "description_width": ""
          }
        },
        "22a5dc5c50794a4d88fbd71c8f20c51d": {
          "model_module": "@jupyter-widgets/base",
          "model_name": "LayoutModel",
          "model_module_version": "1.2.0",
          "state": {
            "_model_module": "@jupyter-widgets/base",
            "_model_module_version": "1.2.0",
            "_model_name": "LayoutModel",
            "_view_count": null,
            "_view_module": "@jupyter-widgets/base",
            "_view_module_version": "1.2.0",
            "_view_name": "LayoutView",
            "align_content": null,
            "align_items": null,
            "align_self": null,
            "border": null,
            "bottom": null,
            "display": null,
            "flex": null,
            "flex_flow": null,
            "grid_area": null,
            "grid_auto_columns": null,
            "grid_auto_flow": null,
            "grid_auto_rows": null,
            "grid_column": null,
            "grid_gap": null,
            "grid_row": null,
            "grid_template_areas": null,
            "grid_template_columns": null,
            "grid_template_rows": null,
            "height": null,
            "justify_content": null,
            "justify_items": null,
            "left": null,
            "margin": null,
            "max_height": null,
            "max_width": null,
            "min_height": null,
            "min_width": null,
            "object_fit": null,
            "object_position": null,
            "order": null,
            "overflow": null,
            "overflow_x": null,
            "overflow_y": null,
            "padding": null,
            "right": null,
            "top": null,
            "visibility": null,
            "width": null
          }
        },
        "0ae51e5a64bd4b0f8513810dfed48fda": {
          "model_module": "@jupyter-widgets/controls",
          "model_name": "DescriptionStyleModel",
          "model_module_version": "1.5.0",
          "state": {
            "_model_module": "@jupyter-widgets/controls",
            "_model_module_version": "1.5.0",
            "_model_name": "DescriptionStyleModel",
            "_view_count": null,
            "_view_module": "@jupyter-widgets/base",
            "_view_module_version": "1.2.0",
            "_view_name": "StyleView",
            "description_width": ""
          }
        },
        "330ce1ea851649bf94173bf5f361fd94": {
          "model_module": "@jupyter-widgets/controls",
          "model_name": "HBoxModel",
          "model_module_version": "1.5.0",
          "state": {
            "_dom_classes": [],
            "_model_module": "@jupyter-widgets/controls",
            "_model_module_version": "1.5.0",
            "_model_name": "HBoxModel",
            "_view_count": null,
            "_view_module": "@jupyter-widgets/controls",
            "_view_module_version": "1.5.0",
            "_view_name": "HBoxView",
            "box_style": "",
            "children": [
              "IPY_MODEL_cc3eeedc563f4fc7b171f48c3a944666",
              "IPY_MODEL_14953b939d40466f8612e3b415d2b1e2",
              "IPY_MODEL_cc4c155e714744cf91b9b4c93962106a"
            ],
            "layout": "IPY_MODEL_e98336cf45934f4ab93c9c20e2865bc7"
          }
        },
        "cc3eeedc563f4fc7b171f48c3a944666": {
          "model_module": "@jupyter-widgets/controls",
          "model_name": "HTMLModel",
          "model_module_version": "1.5.0",
          "state": {
            "_dom_classes": [],
            "_model_module": "@jupyter-widgets/controls",
            "_model_module_version": "1.5.0",
            "_model_name": "HTMLModel",
            "_view_count": null,
            "_view_module": "@jupyter-widgets/controls",
            "_view_module_version": "1.5.0",
            "_view_name": "HTMLView",
            "description": "",
            "description_tooltip": null,
            "layout": "IPY_MODEL_cce98c8d6a98479288ac2d1f177013a0",
            "placeholder": "​",
            "style": "IPY_MODEL_80f16a48db774974bc81ff64151b5b90",
            "value": "tokenizer_config.json: 100%"
          }
        },
        "14953b939d40466f8612e3b415d2b1e2": {
          "model_module": "@jupyter-widgets/controls",
          "model_name": "FloatProgressModel",
          "model_module_version": "1.5.0",
          "state": {
            "_dom_classes": [],
            "_model_module": "@jupyter-widgets/controls",
            "_model_module_version": "1.5.0",
            "_model_name": "FloatProgressModel",
            "_view_count": null,
            "_view_module": "@jupyter-widgets/controls",
            "_view_module_version": "1.5.0",
            "_view_name": "ProgressView",
            "bar_style": "success",
            "description": "",
            "description_tooltip": null,
            "layout": "IPY_MODEL_b3ca062e653f40cfa1a07b393dfddccb",
            "max": 42,
            "min": 0,
            "orientation": "horizontal",
            "style": "IPY_MODEL_af273ff13f534e29a507c8f80ea96967",
            "value": 42
          }
        },
        "cc4c155e714744cf91b9b4c93962106a": {
          "model_module": "@jupyter-widgets/controls",
          "model_name": "HTMLModel",
          "model_module_version": "1.5.0",
          "state": {
            "_dom_classes": [],
            "_model_module": "@jupyter-widgets/controls",
            "_model_module_version": "1.5.0",
            "_model_name": "HTMLModel",
            "_view_count": null,
            "_view_module": "@jupyter-widgets/controls",
            "_view_module_version": "1.5.0",
            "_view_name": "HTMLView",
            "description": "",
            "description_tooltip": null,
            "layout": "IPY_MODEL_fd4110e619fd406ea108b38f498de142",
            "placeholder": "​",
            "style": "IPY_MODEL_432ed1bbb0bb46d8aad69a526ae25f91",
            "value": " 42.0/42.0 [00:00&lt;00:00, 1.79kB/s]"
          }
        },
        "e98336cf45934f4ab93c9c20e2865bc7": {
          "model_module": "@jupyter-widgets/base",
          "model_name": "LayoutModel",
          "model_module_version": "1.2.0",
          "state": {
            "_model_module": "@jupyter-widgets/base",
            "_model_module_version": "1.2.0",
            "_model_name": "LayoutModel",
            "_view_count": null,
            "_view_module": "@jupyter-widgets/base",
            "_view_module_version": "1.2.0",
            "_view_name": "LayoutView",
            "align_content": null,
            "align_items": null,
            "align_self": null,
            "border": null,
            "bottom": null,
            "display": null,
            "flex": null,
            "flex_flow": null,
            "grid_area": null,
            "grid_auto_columns": null,
            "grid_auto_flow": null,
            "grid_auto_rows": null,
            "grid_column": null,
            "grid_gap": null,
            "grid_row": null,
            "grid_template_areas": null,
            "grid_template_columns": null,
            "grid_template_rows": null,
            "height": null,
            "justify_content": null,
            "justify_items": null,
            "left": null,
            "margin": null,
            "max_height": null,
            "max_width": null,
            "min_height": null,
            "min_width": null,
            "object_fit": null,
            "object_position": null,
            "order": null,
            "overflow": null,
            "overflow_x": null,
            "overflow_y": null,
            "padding": null,
            "right": null,
            "top": null,
            "visibility": null,
            "width": null
          }
        },
        "cce98c8d6a98479288ac2d1f177013a0": {
          "model_module": "@jupyter-widgets/base",
          "model_name": "LayoutModel",
          "model_module_version": "1.2.0",
          "state": {
            "_model_module": "@jupyter-widgets/base",
            "_model_module_version": "1.2.0",
            "_model_name": "LayoutModel",
            "_view_count": null,
            "_view_module": "@jupyter-widgets/base",
            "_view_module_version": "1.2.0",
            "_view_name": "LayoutView",
            "align_content": null,
            "align_items": null,
            "align_self": null,
            "border": null,
            "bottom": null,
            "display": null,
            "flex": null,
            "flex_flow": null,
            "grid_area": null,
            "grid_auto_columns": null,
            "grid_auto_flow": null,
            "grid_auto_rows": null,
            "grid_column": null,
            "grid_gap": null,
            "grid_row": null,
            "grid_template_areas": null,
            "grid_template_columns": null,
            "grid_template_rows": null,
            "height": null,
            "justify_content": null,
            "justify_items": null,
            "left": null,
            "margin": null,
            "max_height": null,
            "max_width": null,
            "min_height": null,
            "min_width": null,
            "object_fit": null,
            "object_position": null,
            "order": null,
            "overflow": null,
            "overflow_x": null,
            "overflow_y": null,
            "padding": null,
            "right": null,
            "top": null,
            "visibility": null,
            "width": null
          }
        },
        "80f16a48db774974bc81ff64151b5b90": {
          "model_module": "@jupyter-widgets/controls",
          "model_name": "DescriptionStyleModel",
          "model_module_version": "1.5.0",
          "state": {
            "_model_module": "@jupyter-widgets/controls",
            "_model_module_version": "1.5.0",
            "_model_name": "DescriptionStyleModel",
            "_view_count": null,
            "_view_module": "@jupyter-widgets/base",
            "_view_module_version": "1.2.0",
            "_view_name": "StyleView",
            "description_width": ""
          }
        },
        "b3ca062e653f40cfa1a07b393dfddccb": {
          "model_module": "@jupyter-widgets/base",
          "model_name": "LayoutModel",
          "model_module_version": "1.2.0",
          "state": {
            "_model_module": "@jupyter-widgets/base",
            "_model_module_version": "1.2.0",
            "_model_name": "LayoutModel",
            "_view_count": null,
            "_view_module": "@jupyter-widgets/base",
            "_view_module_version": "1.2.0",
            "_view_name": "LayoutView",
            "align_content": null,
            "align_items": null,
            "align_self": null,
            "border": null,
            "bottom": null,
            "display": null,
            "flex": null,
            "flex_flow": null,
            "grid_area": null,
            "grid_auto_columns": null,
            "grid_auto_flow": null,
            "grid_auto_rows": null,
            "grid_column": null,
            "grid_gap": null,
            "grid_row": null,
            "grid_template_areas": null,
            "grid_template_columns": null,
            "grid_template_rows": null,
            "height": null,
            "justify_content": null,
            "justify_items": null,
            "left": null,
            "margin": null,
            "max_height": null,
            "max_width": null,
            "min_height": null,
            "min_width": null,
            "object_fit": null,
            "object_position": null,
            "order": null,
            "overflow": null,
            "overflow_x": null,
            "overflow_y": null,
            "padding": null,
            "right": null,
            "top": null,
            "visibility": null,
            "width": null
          }
        },
        "af273ff13f534e29a507c8f80ea96967": {
          "model_module": "@jupyter-widgets/controls",
          "model_name": "ProgressStyleModel",
          "model_module_version": "1.5.0",
          "state": {
            "_model_module": "@jupyter-widgets/controls",
            "_model_module_version": "1.5.0",
            "_model_name": "ProgressStyleModel",
            "_view_count": null,
            "_view_module": "@jupyter-widgets/base",
            "_view_module_version": "1.2.0",
            "_view_name": "StyleView",
            "bar_color": null,
            "description_width": ""
          }
        },
        "fd4110e619fd406ea108b38f498de142": {
          "model_module": "@jupyter-widgets/base",
          "model_name": "LayoutModel",
          "model_module_version": "1.2.0",
          "state": {
            "_model_module": "@jupyter-widgets/base",
            "_model_module_version": "1.2.0",
            "_model_name": "LayoutModel",
            "_view_count": null,
            "_view_module": "@jupyter-widgets/base",
            "_view_module_version": "1.2.0",
            "_view_name": "LayoutView",
            "align_content": null,
            "align_items": null,
            "align_self": null,
            "border": null,
            "bottom": null,
            "display": null,
            "flex": null,
            "flex_flow": null,
            "grid_area": null,
            "grid_auto_columns": null,
            "grid_auto_flow": null,
            "grid_auto_rows": null,
            "grid_column": null,
            "grid_gap": null,
            "grid_row": null,
            "grid_template_areas": null,
            "grid_template_columns": null,
            "grid_template_rows": null,
            "height": null,
            "justify_content": null,
            "justify_items": null,
            "left": null,
            "margin": null,
            "max_height": null,
            "max_width": null,
            "min_height": null,
            "min_width": null,
            "object_fit": null,
            "object_position": null,
            "order": null,
            "overflow": null,
            "overflow_x": null,
            "overflow_y": null,
            "padding": null,
            "right": null,
            "top": null,
            "visibility": null,
            "width": null
          }
        },
        "432ed1bbb0bb46d8aad69a526ae25f91": {
          "model_module": "@jupyter-widgets/controls",
          "model_name": "DescriptionStyleModel",
          "model_module_version": "1.5.0",
          "state": {
            "_model_module": "@jupyter-widgets/controls",
            "_model_module_version": "1.5.0",
            "_model_name": "DescriptionStyleModel",
            "_view_count": null,
            "_view_module": "@jupyter-widgets/base",
            "_view_module_version": "1.2.0",
            "_view_name": "StyleView",
            "description_width": ""
          }
        },
        "4368fa4168364636932fb1ae62057a5d": {
          "model_module": "@jupyter-widgets/controls",
          "model_name": "HBoxModel",
          "model_module_version": "1.5.0",
          "state": {
            "_dom_classes": [],
            "_model_module": "@jupyter-widgets/controls",
            "_model_module_version": "1.5.0",
            "_model_name": "HBoxModel",
            "_view_count": null,
            "_view_module": "@jupyter-widgets/controls",
            "_view_module_version": "1.5.0",
            "_view_name": "HBoxView",
            "box_style": "",
            "children": [
              "IPY_MODEL_c1f876ee118f48b0bd3638ac623ebe09",
              "IPY_MODEL_68be8e97b5524387965964cce068c332",
              "IPY_MODEL_108049396d0340ec9dac377f3f70f392"
            ],
            "layout": "IPY_MODEL_e3e18bd9279947f19757b0df8ccd4020"
          }
        },
        "c1f876ee118f48b0bd3638ac623ebe09": {
          "model_module": "@jupyter-widgets/controls",
          "model_name": "HTMLModel",
          "model_module_version": "1.5.0",
          "state": {
            "_dom_classes": [],
            "_model_module": "@jupyter-widgets/controls",
            "_model_module_version": "1.5.0",
            "_model_name": "HTMLModel",
            "_view_count": null,
            "_view_module": "@jupyter-widgets/controls",
            "_view_module_version": "1.5.0",
            "_view_name": "HTMLView",
            "description": "",
            "description_tooltip": null,
            "layout": "IPY_MODEL_4d62952334984c10b3994a68069df399",
            "placeholder": "​",
            "style": "IPY_MODEL_87b6088b0e2c4199bdf010b93621f837",
            "value": "source.spm: 100%"
          }
        },
        "68be8e97b5524387965964cce068c332": {
          "model_module": "@jupyter-widgets/controls",
          "model_name": "FloatProgressModel",
          "model_module_version": "1.5.0",
          "state": {
            "_dom_classes": [],
            "_model_module": "@jupyter-widgets/controls",
            "_model_module_version": "1.5.0",
            "_model_name": "FloatProgressModel",
            "_view_count": null,
            "_view_module": "@jupyter-widgets/controls",
            "_view_module_version": "1.5.0",
            "_view_name": "ProgressView",
            "bar_style": "success",
            "description": "",
            "description_tooltip": null,
            "layout": "IPY_MODEL_883c776994d0427e8557a54c15c44ba3",
            "max": 796845,
            "min": 0,
            "orientation": "horizontal",
            "style": "IPY_MODEL_04907153bb6845e3a02ce0fd512034b3",
            "value": 796845
          }
        },
        "108049396d0340ec9dac377f3f70f392": {
          "model_module": "@jupyter-widgets/controls",
          "model_name": "HTMLModel",
          "model_module_version": "1.5.0",
          "state": {
            "_dom_classes": [],
            "_model_module": "@jupyter-widgets/controls",
            "_model_module_version": "1.5.0",
            "_model_name": "HTMLModel",
            "_view_count": null,
            "_view_module": "@jupyter-widgets/controls",
            "_view_module_version": "1.5.0",
            "_view_name": "HTMLView",
            "description": "",
            "description_tooltip": null,
            "layout": "IPY_MODEL_57f9eb5193184ca8affae655c47133aa",
            "placeholder": "​",
            "style": "IPY_MODEL_1cf5f3097c9f4dcb9bddf0e75a4a7bdb",
            "value": " 797k/797k [00:00&lt;00:00, 5.94MB/s]"
          }
        },
        "e3e18bd9279947f19757b0df8ccd4020": {
          "model_module": "@jupyter-widgets/base",
          "model_name": "LayoutModel",
          "model_module_version": "1.2.0",
          "state": {
            "_model_module": "@jupyter-widgets/base",
            "_model_module_version": "1.2.0",
            "_model_name": "LayoutModel",
            "_view_count": null,
            "_view_module": "@jupyter-widgets/base",
            "_view_module_version": "1.2.0",
            "_view_name": "LayoutView",
            "align_content": null,
            "align_items": null,
            "align_self": null,
            "border": null,
            "bottom": null,
            "display": null,
            "flex": null,
            "flex_flow": null,
            "grid_area": null,
            "grid_auto_columns": null,
            "grid_auto_flow": null,
            "grid_auto_rows": null,
            "grid_column": null,
            "grid_gap": null,
            "grid_row": null,
            "grid_template_areas": null,
            "grid_template_columns": null,
            "grid_template_rows": null,
            "height": null,
            "justify_content": null,
            "justify_items": null,
            "left": null,
            "margin": null,
            "max_height": null,
            "max_width": null,
            "min_height": null,
            "min_width": null,
            "object_fit": null,
            "object_position": null,
            "order": null,
            "overflow": null,
            "overflow_x": null,
            "overflow_y": null,
            "padding": null,
            "right": null,
            "top": null,
            "visibility": null,
            "width": null
          }
        },
        "4d62952334984c10b3994a68069df399": {
          "model_module": "@jupyter-widgets/base",
          "model_name": "LayoutModel",
          "model_module_version": "1.2.0",
          "state": {
            "_model_module": "@jupyter-widgets/base",
            "_model_module_version": "1.2.0",
            "_model_name": "LayoutModel",
            "_view_count": null,
            "_view_module": "@jupyter-widgets/base",
            "_view_module_version": "1.2.0",
            "_view_name": "LayoutView",
            "align_content": null,
            "align_items": null,
            "align_self": null,
            "border": null,
            "bottom": null,
            "display": null,
            "flex": null,
            "flex_flow": null,
            "grid_area": null,
            "grid_auto_columns": null,
            "grid_auto_flow": null,
            "grid_auto_rows": null,
            "grid_column": null,
            "grid_gap": null,
            "grid_row": null,
            "grid_template_areas": null,
            "grid_template_columns": null,
            "grid_template_rows": null,
            "height": null,
            "justify_content": null,
            "justify_items": null,
            "left": null,
            "margin": null,
            "max_height": null,
            "max_width": null,
            "min_height": null,
            "min_width": null,
            "object_fit": null,
            "object_position": null,
            "order": null,
            "overflow": null,
            "overflow_x": null,
            "overflow_y": null,
            "padding": null,
            "right": null,
            "top": null,
            "visibility": null,
            "width": null
          }
        },
        "87b6088b0e2c4199bdf010b93621f837": {
          "model_module": "@jupyter-widgets/controls",
          "model_name": "DescriptionStyleModel",
          "model_module_version": "1.5.0",
          "state": {
            "_model_module": "@jupyter-widgets/controls",
            "_model_module_version": "1.5.0",
            "_model_name": "DescriptionStyleModel",
            "_view_count": null,
            "_view_module": "@jupyter-widgets/base",
            "_view_module_version": "1.2.0",
            "_view_name": "StyleView",
            "description_width": ""
          }
        },
        "883c776994d0427e8557a54c15c44ba3": {
          "model_module": "@jupyter-widgets/base",
          "model_name": "LayoutModel",
          "model_module_version": "1.2.0",
          "state": {
            "_model_module": "@jupyter-widgets/base",
            "_model_module_version": "1.2.0",
            "_model_name": "LayoutModel",
            "_view_count": null,
            "_view_module": "@jupyter-widgets/base",
            "_view_module_version": "1.2.0",
            "_view_name": "LayoutView",
            "align_content": null,
            "align_items": null,
            "align_self": null,
            "border": null,
            "bottom": null,
            "display": null,
            "flex": null,
            "flex_flow": null,
            "grid_area": null,
            "grid_auto_columns": null,
            "grid_auto_flow": null,
            "grid_auto_rows": null,
            "grid_column": null,
            "grid_gap": null,
            "grid_row": null,
            "grid_template_areas": null,
            "grid_template_columns": null,
            "grid_template_rows": null,
            "height": null,
            "justify_content": null,
            "justify_items": null,
            "left": null,
            "margin": null,
            "max_height": null,
            "max_width": null,
            "min_height": null,
            "min_width": null,
            "object_fit": null,
            "object_position": null,
            "order": null,
            "overflow": null,
            "overflow_x": null,
            "overflow_y": null,
            "padding": null,
            "right": null,
            "top": null,
            "visibility": null,
            "width": null
          }
        },
        "04907153bb6845e3a02ce0fd512034b3": {
          "model_module": "@jupyter-widgets/controls",
          "model_name": "ProgressStyleModel",
          "model_module_version": "1.5.0",
          "state": {
            "_model_module": "@jupyter-widgets/controls",
            "_model_module_version": "1.5.0",
            "_model_name": "ProgressStyleModel",
            "_view_count": null,
            "_view_module": "@jupyter-widgets/base",
            "_view_module_version": "1.2.0",
            "_view_name": "StyleView",
            "bar_color": null,
            "description_width": ""
          }
        },
        "57f9eb5193184ca8affae655c47133aa": {
          "model_module": "@jupyter-widgets/base",
          "model_name": "LayoutModel",
          "model_module_version": "1.2.0",
          "state": {
            "_model_module": "@jupyter-widgets/base",
            "_model_module_version": "1.2.0",
            "_model_name": "LayoutModel",
            "_view_count": null,
            "_view_module": "@jupyter-widgets/base",
            "_view_module_version": "1.2.0",
            "_view_name": "LayoutView",
            "align_content": null,
            "align_items": null,
            "align_self": null,
            "border": null,
            "bottom": null,
            "display": null,
            "flex": null,
            "flex_flow": null,
            "grid_area": null,
            "grid_auto_columns": null,
            "grid_auto_flow": null,
            "grid_auto_rows": null,
            "grid_column": null,
            "grid_gap": null,
            "grid_row": null,
            "grid_template_areas": null,
            "grid_template_columns": null,
            "grid_template_rows": null,
            "height": null,
            "justify_content": null,
            "justify_items": null,
            "left": null,
            "margin": null,
            "max_height": null,
            "max_width": null,
            "min_height": null,
            "min_width": null,
            "object_fit": null,
            "object_position": null,
            "order": null,
            "overflow": null,
            "overflow_x": null,
            "overflow_y": null,
            "padding": null,
            "right": null,
            "top": null,
            "visibility": null,
            "width": null
          }
        },
        "1cf5f3097c9f4dcb9bddf0e75a4a7bdb": {
          "model_module": "@jupyter-widgets/controls",
          "model_name": "DescriptionStyleModel",
          "model_module_version": "1.5.0",
          "state": {
            "_model_module": "@jupyter-widgets/controls",
            "_model_module_version": "1.5.0",
            "_model_name": "DescriptionStyleModel",
            "_view_count": null,
            "_view_module": "@jupyter-widgets/base",
            "_view_module_version": "1.2.0",
            "_view_name": "StyleView",
            "description_width": ""
          }
        },
        "a826d40878e643c1854b66680e99cb46": {
          "model_module": "@jupyter-widgets/controls",
          "model_name": "HBoxModel",
          "model_module_version": "1.5.0",
          "state": {
            "_dom_classes": [],
            "_model_module": "@jupyter-widgets/controls",
            "_model_module_version": "1.5.0",
            "_model_name": "HBoxModel",
            "_view_count": null,
            "_view_module": "@jupyter-widgets/controls",
            "_view_module_version": "1.5.0",
            "_view_name": "HBoxView",
            "box_style": "",
            "children": [
              "IPY_MODEL_56d4a36652f94f32808cf003e930b96f",
              "IPY_MODEL_fd9cb42e164e498f8536c05af4ecee24",
              "IPY_MODEL_56f63046a0a44ff98101b4f37ce00c5a"
            ],
            "layout": "IPY_MODEL_9d72b1b15f1a42f8a691ed8a7e965270"
          }
        },
        "56d4a36652f94f32808cf003e930b96f": {
          "model_module": "@jupyter-widgets/controls",
          "model_name": "HTMLModel",
          "model_module_version": "1.5.0",
          "state": {
            "_dom_classes": [],
            "_model_module": "@jupyter-widgets/controls",
            "_model_module_version": "1.5.0",
            "_model_name": "HTMLModel",
            "_view_count": null,
            "_view_module": "@jupyter-widgets/controls",
            "_view_module_version": "1.5.0",
            "_view_name": "HTMLView",
            "description": "",
            "description_tooltip": null,
            "layout": "IPY_MODEL_18260da0a5fe48fcbaa4f7c7d8e1c3a2",
            "placeholder": "​",
            "style": "IPY_MODEL_be9329955ce84f7a8c381080ec4b2d4b",
            "value": "target.spm: 100%"
          }
        },
        "fd9cb42e164e498f8536c05af4ecee24": {
          "model_module": "@jupyter-widgets/controls",
          "model_name": "FloatProgressModel",
          "model_module_version": "1.5.0",
          "state": {
            "_dom_classes": [],
            "_model_module": "@jupyter-widgets/controls",
            "_model_module_version": "1.5.0",
            "_model_name": "FloatProgressModel",
            "_view_count": null,
            "_view_module": "@jupyter-widgets/controls",
            "_view_module_version": "1.5.0",
            "_view_name": "ProgressView",
            "bar_style": "success",
            "description": "",
            "description_tooltip": null,
            "layout": "IPY_MODEL_019dc2c7624c4f289dabf470c115a68d",
            "max": 768489,
            "min": 0,
            "orientation": "horizontal",
            "style": "IPY_MODEL_e9bf26556d484ebca47963428cfb161e",
            "value": 768489
          }
        },
        "56f63046a0a44ff98101b4f37ce00c5a": {
          "model_module": "@jupyter-widgets/controls",
          "model_name": "HTMLModel",
          "model_module_version": "1.5.0",
          "state": {
            "_dom_classes": [],
            "_model_module": "@jupyter-widgets/controls",
            "_model_module_version": "1.5.0",
            "_model_name": "HTMLModel",
            "_view_count": null,
            "_view_module": "@jupyter-widgets/controls",
            "_view_module_version": "1.5.0",
            "_view_name": "HTMLView",
            "description": "",
            "description_tooltip": null,
            "layout": "IPY_MODEL_50d550832df9403188fd322b03f7fac2",
            "placeholder": "​",
            "style": "IPY_MODEL_a5ef391ffbdf42bf8a14dafb7c48ea35",
            "value": " 768k/768k [00:00&lt;00:00, 7.53MB/s]"
          }
        },
        "9d72b1b15f1a42f8a691ed8a7e965270": {
          "model_module": "@jupyter-widgets/base",
          "model_name": "LayoutModel",
          "model_module_version": "1.2.0",
          "state": {
            "_model_module": "@jupyter-widgets/base",
            "_model_module_version": "1.2.0",
            "_model_name": "LayoutModel",
            "_view_count": null,
            "_view_module": "@jupyter-widgets/base",
            "_view_module_version": "1.2.0",
            "_view_name": "LayoutView",
            "align_content": null,
            "align_items": null,
            "align_self": null,
            "border": null,
            "bottom": null,
            "display": null,
            "flex": null,
            "flex_flow": null,
            "grid_area": null,
            "grid_auto_columns": null,
            "grid_auto_flow": null,
            "grid_auto_rows": null,
            "grid_column": null,
            "grid_gap": null,
            "grid_row": null,
            "grid_template_areas": null,
            "grid_template_columns": null,
            "grid_template_rows": null,
            "height": null,
            "justify_content": null,
            "justify_items": null,
            "left": null,
            "margin": null,
            "max_height": null,
            "max_width": null,
            "min_height": null,
            "min_width": null,
            "object_fit": null,
            "object_position": null,
            "order": null,
            "overflow": null,
            "overflow_x": null,
            "overflow_y": null,
            "padding": null,
            "right": null,
            "top": null,
            "visibility": null,
            "width": null
          }
        },
        "18260da0a5fe48fcbaa4f7c7d8e1c3a2": {
          "model_module": "@jupyter-widgets/base",
          "model_name": "LayoutModel",
          "model_module_version": "1.2.0",
          "state": {
            "_model_module": "@jupyter-widgets/base",
            "_model_module_version": "1.2.0",
            "_model_name": "LayoutModel",
            "_view_count": null,
            "_view_module": "@jupyter-widgets/base",
            "_view_module_version": "1.2.0",
            "_view_name": "LayoutView",
            "align_content": null,
            "align_items": null,
            "align_self": null,
            "border": null,
            "bottom": null,
            "display": null,
            "flex": null,
            "flex_flow": null,
            "grid_area": null,
            "grid_auto_columns": null,
            "grid_auto_flow": null,
            "grid_auto_rows": null,
            "grid_column": null,
            "grid_gap": null,
            "grid_row": null,
            "grid_template_areas": null,
            "grid_template_columns": null,
            "grid_template_rows": null,
            "height": null,
            "justify_content": null,
            "justify_items": null,
            "left": null,
            "margin": null,
            "max_height": null,
            "max_width": null,
            "min_height": null,
            "min_width": null,
            "object_fit": null,
            "object_position": null,
            "order": null,
            "overflow": null,
            "overflow_x": null,
            "overflow_y": null,
            "padding": null,
            "right": null,
            "top": null,
            "visibility": null,
            "width": null
          }
        },
        "be9329955ce84f7a8c381080ec4b2d4b": {
          "model_module": "@jupyter-widgets/controls",
          "model_name": "DescriptionStyleModel",
          "model_module_version": "1.5.0",
          "state": {
            "_model_module": "@jupyter-widgets/controls",
            "_model_module_version": "1.5.0",
            "_model_name": "DescriptionStyleModel",
            "_view_count": null,
            "_view_module": "@jupyter-widgets/base",
            "_view_module_version": "1.2.0",
            "_view_name": "StyleView",
            "description_width": ""
          }
        },
        "019dc2c7624c4f289dabf470c115a68d": {
          "model_module": "@jupyter-widgets/base",
          "model_name": "LayoutModel",
          "model_module_version": "1.2.0",
          "state": {
            "_model_module": "@jupyter-widgets/base",
            "_model_module_version": "1.2.0",
            "_model_name": "LayoutModel",
            "_view_count": null,
            "_view_module": "@jupyter-widgets/base",
            "_view_module_version": "1.2.0",
            "_view_name": "LayoutView",
            "align_content": null,
            "align_items": null,
            "align_self": null,
            "border": null,
            "bottom": null,
            "display": null,
            "flex": null,
            "flex_flow": null,
            "grid_area": null,
            "grid_auto_columns": null,
            "grid_auto_flow": null,
            "grid_auto_rows": null,
            "grid_column": null,
            "grid_gap": null,
            "grid_row": null,
            "grid_template_areas": null,
            "grid_template_columns": null,
            "grid_template_rows": null,
            "height": null,
            "justify_content": null,
            "justify_items": null,
            "left": null,
            "margin": null,
            "max_height": null,
            "max_width": null,
            "min_height": null,
            "min_width": null,
            "object_fit": null,
            "object_position": null,
            "order": null,
            "overflow": null,
            "overflow_x": null,
            "overflow_y": null,
            "padding": null,
            "right": null,
            "top": null,
            "visibility": null,
            "width": null
          }
        },
        "e9bf26556d484ebca47963428cfb161e": {
          "model_module": "@jupyter-widgets/controls",
          "model_name": "ProgressStyleModel",
          "model_module_version": "1.5.0",
          "state": {
            "_model_module": "@jupyter-widgets/controls",
            "_model_module_version": "1.5.0",
            "_model_name": "ProgressStyleModel",
            "_view_count": null,
            "_view_module": "@jupyter-widgets/base",
            "_view_module_version": "1.2.0",
            "_view_name": "StyleView",
            "bar_color": null,
            "description_width": ""
          }
        },
        "50d550832df9403188fd322b03f7fac2": {
          "model_module": "@jupyter-widgets/base",
          "model_name": "LayoutModel",
          "model_module_version": "1.2.0",
          "state": {
            "_model_module": "@jupyter-widgets/base",
            "_model_module_version": "1.2.0",
            "_model_name": "LayoutModel",
            "_view_count": null,
            "_view_module": "@jupyter-widgets/base",
            "_view_module_version": "1.2.0",
            "_view_name": "LayoutView",
            "align_content": null,
            "align_items": null,
            "align_self": null,
            "border": null,
            "bottom": null,
            "display": null,
            "flex": null,
            "flex_flow": null,
            "grid_area": null,
            "grid_auto_columns": null,
            "grid_auto_flow": null,
            "grid_auto_rows": null,
            "grid_column": null,
            "grid_gap": null,
            "grid_row": null,
            "grid_template_areas": null,
            "grid_template_columns": null,
            "grid_template_rows": null,
            "height": null,
            "justify_content": null,
            "justify_items": null,
            "left": null,
            "margin": null,
            "max_height": null,
            "max_width": null,
            "min_height": null,
            "min_width": null,
            "object_fit": null,
            "object_position": null,
            "order": null,
            "overflow": null,
            "overflow_x": null,
            "overflow_y": null,
            "padding": null,
            "right": null,
            "top": null,
            "visibility": null,
            "width": null
          }
        },
        "a5ef391ffbdf42bf8a14dafb7c48ea35": {
          "model_module": "@jupyter-widgets/controls",
          "model_name": "DescriptionStyleModel",
          "model_module_version": "1.5.0",
          "state": {
            "_model_module": "@jupyter-widgets/controls",
            "_model_module_version": "1.5.0",
            "_model_name": "DescriptionStyleModel",
            "_view_count": null,
            "_view_module": "@jupyter-widgets/base",
            "_view_module_version": "1.2.0",
            "_view_name": "StyleView",
            "description_width": ""
          }
        },
        "27c48c33f2fc4585bc62676cfbfbe94a": {
          "model_module": "@jupyter-widgets/controls",
          "model_name": "HBoxModel",
          "model_module_version": "1.5.0",
          "state": {
            "_dom_classes": [],
            "_model_module": "@jupyter-widgets/controls",
            "_model_module_version": "1.5.0",
            "_model_name": "HBoxModel",
            "_view_count": null,
            "_view_module": "@jupyter-widgets/controls",
            "_view_module_version": "1.5.0",
            "_view_name": "HBoxView",
            "box_style": "",
            "children": [
              "IPY_MODEL_b4f60e8133ed4a8eaa4e42b92ffc8fcc",
              "IPY_MODEL_59dfbe0e047a456c9f6e36be854d4a9a",
              "IPY_MODEL_a63413fc68da40398dd2bbd0c3c35956"
            ],
            "layout": "IPY_MODEL_7456b49482f44fd8b3e35da6c2341584"
          }
        },
        "b4f60e8133ed4a8eaa4e42b92ffc8fcc": {
          "model_module": "@jupyter-widgets/controls",
          "model_name": "HTMLModel",
          "model_module_version": "1.5.0",
          "state": {
            "_dom_classes": [],
            "_model_module": "@jupyter-widgets/controls",
            "_model_module_version": "1.5.0",
            "_model_name": "HTMLModel",
            "_view_count": null,
            "_view_module": "@jupyter-widgets/controls",
            "_view_module_version": "1.5.0",
            "_view_name": "HTMLView",
            "description": "",
            "description_tooltip": null,
            "layout": "IPY_MODEL_a3293fb00ac34c6c98aaabe64d35f40f",
            "placeholder": "​",
            "style": "IPY_MODEL_7c30cf5d52c6423fbc24e3f132deddab",
            "value": "vocab.json: 100%"
          }
        },
        "59dfbe0e047a456c9f6e36be854d4a9a": {
          "model_module": "@jupyter-widgets/controls",
          "model_name": "FloatProgressModel",
          "model_module_version": "1.5.0",
          "state": {
            "_dom_classes": [],
            "_model_module": "@jupyter-widgets/controls",
            "_model_module_version": "1.5.0",
            "_model_name": "FloatProgressModel",
            "_view_count": null,
            "_view_module": "@jupyter-widgets/controls",
            "_view_module_version": "1.5.0",
            "_view_name": "ProgressView",
            "bar_style": "success",
            "description": "",
            "description_tooltip": null,
            "layout": "IPY_MODEL_d7bde456b7d44d7ab26ed6cb884afbf8",
            "max": 1273232,
            "min": 0,
            "orientation": "horizontal",
            "style": "IPY_MODEL_06f709068bda4f4fb1a82db4118d2562",
            "value": 1273232
          }
        },
        "a63413fc68da40398dd2bbd0c3c35956": {
          "model_module": "@jupyter-widgets/controls",
          "model_name": "HTMLModel",
          "model_module_version": "1.5.0",
          "state": {
            "_dom_classes": [],
            "_model_module": "@jupyter-widgets/controls",
            "_model_module_version": "1.5.0",
            "_model_name": "HTMLModel",
            "_view_count": null,
            "_view_module": "@jupyter-widgets/controls",
            "_view_module_version": "1.5.0",
            "_view_name": "HTMLView",
            "description": "",
            "description_tooltip": null,
            "layout": "IPY_MODEL_159410156e454ad58bd6f3504530b4e2",
            "placeholder": "​",
            "style": "IPY_MODEL_f9730f8bbe534b02b463238a6031d864",
            "value": " 1.27M/1.27M [00:00&lt;00:00, 23.5MB/s]"
          }
        },
        "7456b49482f44fd8b3e35da6c2341584": {
          "model_module": "@jupyter-widgets/base",
          "model_name": "LayoutModel",
          "model_module_version": "1.2.0",
          "state": {
            "_model_module": "@jupyter-widgets/base",
            "_model_module_version": "1.2.0",
            "_model_name": "LayoutModel",
            "_view_count": null,
            "_view_module": "@jupyter-widgets/base",
            "_view_module_version": "1.2.0",
            "_view_name": "LayoutView",
            "align_content": null,
            "align_items": null,
            "align_self": null,
            "border": null,
            "bottom": null,
            "display": null,
            "flex": null,
            "flex_flow": null,
            "grid_area": null,
            "grid_auto_columns": null,
            "grid_auto_flow": null,
            "grid_auto_rows": null,
            "grid_column": null,
            "grid_gap": null,
            "grid_row": null,
            "grid_template_areas": null,
            "grid_template_columns": null,
            "grid_template_rows": null,
            "height": null,
            "justify_content": null,
            "justify_items": null,
            "left": null,
            "margin": null,
            "max_height": null,
            "max_width": null,
            "min_height": null,
            "min_width": null,
            "object_fit": null,
            "object_position": null,
            "order": null,
            "overflow": null,
            "overflow_x": null,
            "overflow_y": null,
            "padding": null,
            "right": null,
            "top": null,
            "visibility": null,
            "width": null
          }
        },
        "a3293fb00ac34c6c98aaabe64d35f40f": {
          "model_module": "@jupyter-widgets/base",
          "model_name": "LayoutModel",
          "model_module_version": "1.2.0",
          "state": {
            "_model_module": "@jupyter-widgets/base",
            "_model_module_version": "1.2.0",
            "_model_name": "LayoutModel",
            "_view_count": null,
            "_view_module": "@jupyter-widgets/base",
            "_view_module_version": "1.2.0",
            "_view_name": "LayoutView",
            "align_content": null,
            "align_items": null,
            "align_self": null,
            "border": null,
            "bottom": null,
            "display": null,
            "flex": null,
            "flex_flow": null,
            "grid_area": null,
            "grid_auto_columns": null,
            "grid_auto_flow": null,
            "grid_auto_rows": null,
            "grid_column": null,
            "grid_gap": null,
            "grid_row": null,
            "grid_template_areas": null,
            "grid_template_columns": null,
            "grid_template_rows": null,
            "height": null,
            "justify_content": null,
            "justify_items": null,
            "left": null,
            "margin": null,
            "max_height": null,
            "max_width": null,
            "min_height": null,
            "min_width": null,
            "object_fit": null,
            "object_position": null,
            "order": null,
            "overflow": null,
            "overflow_x": null,
            "overflow_y": null,
            "padding": null,
            "right": null,
            "top": null,
            "visibility": null,
            "width": null
          }
        },
        "7c30cf5d52c6423fbc24e3f132deddab": {
          "model_module": "@jupyter-widgets/controls",
          "model_name": "DescriptionStyleModel",
          "model_module_version": "1.5.0",
          "state": {
            "_model_module": "@jupyter-widgets/controls",
            "_model_module_version": "1.5.0",
            "_model_name": "DescriptionStyleModel",
            "_view_count": null,
            "_view_module": "@jupyter-widgets/base",
            "_view_module_version": "1.2.0",
            "_view_name": "StyleView",
            "description_width": ""
          }
        },
        "d7bde456b7d44d7ab26ed6cb884afbf8": {
          "model_module": "@jupyter-widgets/base",
          "model_name": "LayoutModel",
          "model_module_version": "1.2.0",
          "state": {
            "_model_module": "@jupyter-widgets/base",
            "_model_module_version": "1.2.0",
            "_model_name": "LayoutModel",
            "_view_count": null,
            "_view_module": "@jupyter-widgets/base",
            "_view_module_version": "1.2.0",
            "_view_name": "LayoutView",
            "align_content": null,
            "align_items": null,
            "align_self": null,
            "border": null,
            "bottom": null,
            "display": null,
            "flex": null,
            "flex_flow": null,
            "grid_area": null,
            "grid_auto_columns": null,
            "grid_auto_flow": null,
            "grid_auto_rows": null,
            "grid_column": null,
            "grid_gap": null,
            "grid_row": null,
            "grid_template_areas": null,
            "grid_template_columns": null,
            "grid_template_rows": null,
            "height": null,
            "justify_content": null,
            "justify_items": null,
            "left": null,
            "margin": null,
            "max_height": null,
            "max_width": null,
            "min_height": null,
            "min_width": null,
            "object_fit": null,
            "object_position": null,
            "order": null,
            "overflow": null,
            "overflow_x": null,
            "overflow_y": null,
            "padding": null,
            "right": null,
            "top": null,
            "visibility": null,
            "width": null
          }
        },
        "06f709068bda4f4fb1a82db4118d2562": {
          "model_module": "@jupyter-widgets/controls",
          "model_name": "ProgressStyleModel",
          "model_module_version": "1.5.0",
          "state": {
            "_model_module": "@jupyter-widgets/controls",
            "_model_module_version": "1.5.0",
            "_model_name": "ProgressStyleModel",
            "_view_count": null,
            "_view_module": "@jupyter-widgets/base",
            "_view_module_version": "1.2.0",
            "_view_name": "StyleView",
            "bar_color": null,
            "description_width": ""
          }
        },
        "159410156e454ad58bd6f3504530b4e2": {
          "model_module": "@jupyter-widgets/base",
          "model_name": "LayoutModel",
          "model_module_version": "1.2.0",
          "state": {
            "_model_module": "@jupyter-widgets/base",
            "_model_module_version": "1.2.0",
            "_model_name": "LayoutModel",
            "_view_count": null,
            "_view_module": "@jupyter-widgets/base",
            "_view_module_version": "1.2.0",
            "_view_name": "LayoutView",
            "align_content": null,
            "align_items": null,
            "align_self": null,
            "border": null,
            "bottom": null,
            "display": null,
            "flex": null,
            "flex_flow": null,
            "grid_area": null,
            "grid_auto_columns": null,
            "grid_auto_flow": null,
            "grid_auto_rows": null,
            "grid_column": null,
            "grid_gap": null,
            "grid_row": null,
            "grid_template_areas": null,
            "grid_template_columns": null,
            "grid_template_rows": null,
            "height": null,
            "justify_content": null,
            "justify_items": null,
            "left": null,
            "margin": null,
            "max_height": null,
            "max_width": null,
            "min_height": null,
            "min_width": null,
            "object_fit": null,
            "object_position": null,
            "order": null,
            "overflow": null,
            "overflow_x": null,
            "overflow_y": null,
            "padding": null,
            "right": null,
            "top": null,
            "visibility": null,
            "width": null
          }
        },
        "f9730f8bbe534b02b463238a6031d864": {
          "model_module": "@jupyter-widgets/controls",
          "model_name": "DescriptionStyleModel",
          "model_module_version": "1.5.0",
          "state": {
            "_model_module": "@jupyter-widgets/controls",
            "_model_module_version": "1.5.0",
            "_model_name": "DescriptionStyleModel",
            "_view_count": null,
            "_view_module": "@jupyter-widgets/base",
            "_view_module_version": "1.2.0",
            "_view_name": "StyleView",
            "description_width": ""
          }
        }
      }
    }
  },
  "nbformat": 4,
  "nbformat_minor": 0
}